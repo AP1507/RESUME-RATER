{
 "cells": [
  {
   "cell_type": "markdown",
   "id": "e79a44bb-42c8-4ace-8d71-770c06522bfc",
   "metadata": {
    "id": "e79a44bb-42c8-4ace-8d71-770c06522bfc"
   },
   "source": [
    "# Pandas Exercises"
   ]
  },
  {
   "cell_type": "markdown",
   "id": "1d26ef1e-3c49-4a46-a4c5-b68825d5a953",
   "metadata": {
    "id": "1d26ef1e-3c49-4a46-a4c5-b68825d5a953"
   },
   "source": [
    "## Creating DataFrames and Using Sample Data Sets"
   ]
  },
  {
   "cell_type": "markdown",
   "id": "bc5dd17f-4431-4655-b2c5-ea537e23223c",
   "metadata": {
    "id": "bc5dd17f-4431-4655-b2c5-ea537e23223c"
   },
   "source": [
    "This is the Jupyter Notebook runnable exercises version of the article, [Pandas Practice Questions – Fifty-Two Examples to Make You an Expert](https://codesolid.com/pandas-practice-questions-twenty-one-examples-to-make-you-an-expert/)."
   ]
  },
  {
   "cell_type": "code",
   "execution_count": 184,
   "id": "df91e92f-5f2b-4e98-81f7-84e7478ed432",
   "metadata": {
    "id": "df91e92f-5f2b-4e98-81f7-84e7478ed432"
   },
   "outputs": [],
   "source": [
    "import pandas as pd\n",
    "import numpy as np\n",
    "import seaborn as sb\n",
    "import math\n",
    "import matplotlib.pyplot as plt"
   ]
  },
  {
   "cell_type": "markdown",
   "id": "6950cc47-3cc0-4565-8df1-d01741b7ea5f",
   "metadata": {
    "id": "6950cc47-3cc0-4565-8df1-d01741b7ea5f"
   },
   "source": [
    "**1.** Using NumPy, create a Pandas DataFrame with five rows and three columms:"
   ]
  },
  {
   "cell_type": "code",
   "execution_count": 174,
   "id": "dd1a5014-d17e-4fd0-b7a2-db261a53a02a",
   "metadata": {
    "id": "dd1a5014-d17e-4fd0-b7a2-db261a53a02a"
   },
   "outputs": [
    {
     "name": "stdout",
     "output_type": "stream",
     "text": [
      "   0  1  2\n",
      "0  x  x  x\n",
      "1  x  x  x\n",
      "2  x  x  x\n",
      "3  x  x  x\n",
      "4  x  x  x\n"
     ]
    }
   ],
   "source": [
    "a = np.full((5,3), 'x')\n",
    "df = pd.DataFrame(a)\n",
    "print(df)"
   ]
  },
  {
   "cell_type": "markdown",
   "id": "9c74f94d-4adf-403d-a2c4-9efd200ba5b2",
   "metadata": {
    "id": "9c74f94d-4adf-403d-a2c4-9efd200ba5b2"
   },
   "source": [
    "**2.** For a Pandas DataFrame created from a NumPy array, what is the default behavior for the labels for the columns?  For the rows?"
   ]
  },
  {
   "cell_type": "markdown",
   "id": "e7508b50-d724-47a7-8272-9ba040cd9c65",
   "metadata": {
    "id": "e7508b50-d724-47a7-8272-9ba040cd9c65"
   },
   "source": [
    "default column and row labels are increasing integers that start from 0\n"
   ]
  },
  {
   "cell_type": "markdown",
   "id": "1a20442a-ea2c-4d32-877b-bfe5ae349318",
   "metadata": {
    "id": "1a20442a-ea2c-4d32-877b-bfe5ae349318"
   },
   "source": [
    "**3.** Create a second DataFrame as above with five rows and three columns, setting the row labels to the names of any five major US cities and the column labels to the first three months of the year."
   ]
  },
  {
   "cell_type": "code",
   "execution_count": 175,
   "id": "02686eae-cba2-4180-94ff-4dc85eca0731",
   "metadata": {
    "id": "02686eae-cba2-4180-94ff-4dc85eca0731"
   },
   "outputs": [
    {
     "name": "stdout",
     "output_type": "stream",
     "text": [
      "          January February March\n",
      "Houston         x        x     x\n",
      "San Diego       x        x     x\n",
      "New York        x        x     x\n",
      "LA              x        x     x\n",
      "Chicago         x        x     x\n"
     ]
    }
   ],
   "source": [
    "df_new = pd.DataFrame(a, index = ['Houston', 'San Diego', 'New York', 'LA', 'Chicago'], columns = ['January', 'February', 'March'])\n",
    "print(df_new)\n"
   ]
  },
  {
   "cell_type": "markdown",
   "id": "f6c2f45b-0fea-49bf-98a0-572d594a0680",
   "metadata": {
    "id": "f6c2f45b-0fea-49bf-98a0-572d594a0680"
   },
   "source": [
    "**4.** You recall that the Seaborn package has some data sets built in, but can't remember how to list and load them. Assuming the functions to do so have \"data\" in the name, how might you locate them?  You can assume a Jupyter Notebook / IPython environment and explain the process, or write the code to do it in Python."
   ]
  },
  {
   "cell_type": "markdown",
   "id": "8afae59d-eb5a-4692-9924-b54d49942769",
   "metadata": {
    "id": "8afae59d-eb5a-4692-9924-b54d49942769"
   },
   "source": [
    "**answer:** sb.get_dataset_names() to return a list of all the datasets that are built in \\\n",
    "sb.load_dataset() to load a dataset, pass in the name of the dataset as arg\n",
    "\n"
   ]
  },
  {
   "cell_type": "code",
   "execution_count": 176,
   "id": "ce709b0a-cb22-4f33-9492-62f8346d0ef4",
   "metadata": {
    "id": "ce709b0a-cb22-4f33-9492-62f8346d0ef4"
   },
   "outputs": [
    {
     "name": "stdout",
     "output_type": "stream",
     "text": [
      "['anagrams', 'anscombe', 'attention', 'brain_networks', 'car_crashes', 'diamonds', 'dots', 'dowjones', 'exercise', 'flights', 'fmri', 'geyser', 'glue', 'healthexp', 'iris', 'mpg', 'penguins', 'planets', 'seaice', 'taxis', 'tips', 'titanic']\n",
      "   year month  passengers\n",
      "0  1949   Jan         112\n",
      "1  1949   Feb         118\n",
      "2  1949   Mar         132\n",
      "3  1949   Apr         129\n",
      "4  1949   May         121\n"
     ]
    }
   ],
   "source": [
    "print(sb.get_dataset_names())\n",
    "flights = sb.load_dataset('flights')\n",
    "print(flights.head())"
   ]
  },
  {
   "cell_type": "markdown",
   "id": "70efcde8-cd73-4d61-8534-e6a3c469dbff",
   "metadata": {
    "id": "70efcde8-cd73-4d61-8534-e6a3c469dbff"
   },
   "source": [
    "## Loading data from CSV"
   ]
  },
  {
   "cell_type": "markdown",
   "id": "00214582-1340-4700-99b5-9f36afce3e16",
   "metadata": {
    "id": "00214582-1340-4700-99b5-9f36afce3e16"
   },
   "source": [
    "**5**. Zillow home data is available at this URL: https://files.zillowstatic.com/research/public_csvs/zhvi/Metro_zhvi_uc_sfrcondo_tier_0.33_0.67_sm_sa_month.csv\n",
    "\n",
    "Open this file as a DataFrame named df_homes in Pandas."
   ]
  },
  {
   "cell_type": "code",
   "execution_count": 177,
   "id": "2838d3d2-5f1c-4e97-aab6-c7236ced82ad",
   "metadata": {
    "id": "2838d3d2-5f1c-4e97-aab6-c7236ced82ad"
   },
   "outputs": [
    {
     "data": {
      "text/html": [
       "<div>\n",
       "<style scoped>\n",
       "    .dataframe tbody tr th:only-of-type {\n",
       "        vertical-align: middle;\n",
       "    }\n",
       "\n",
       "    .dataframe tbody tr th {\n",
       "        vertical-align: top;\n",
       "    }\n",
       "\n",
       "    .dataframe thead th {\n",
       "        text-align: right;\n",
       "    }\n",
       "</style>\n",
       "<table border=\"1\" class=\"dataframe\">\n",
       "  <thead>\n",
       "    <tr style=\"text-align: right;\">\n",
       "      <th></th>\n",
       "      <th>RegionID</th>\n",
       "      <th>SizeRank</th>\n",
       "      <th>RegionName</th>\n",
       "      <th>RegionType</th>\n",
       "      <th>StateName</th>\n",
       "      <th>2000-01-31</th>\n",
       "      <th>2000-02-29</th>\n",
       "      <th>2000-03-31</th>\n",
       "      <th>2000-04-30</th>\n",
       "      <th>2000-05-31</th>\n",
       "      <th>...</th>\n",
       "      <th>2024-01-31</th>\n",
       "      <th>2024-02-29</th>\n",
       "      <th>2024-03-31</th>\n",
       "      <th>2024-04-30</th>\n",
       "      <th>2024-05-31</th>\n",
       "      <th>2024-06-30</th>\n",
       "      <th>2024-07-31</th>\n",
       "      <th>2024-08-31</th>\n",
       "      <th>2024-09-30</th>\n",
       "      <th>2024-10-31</th>\n",
       "    </tr>\n",
       "  </thead>\n",
       "  <tbody>\n",
       "    <tr>\n",
       "      <th>0</th>\n",
       "      <td>102001</td>\n",
       "      <td>0</td>\n",
       "      <td>United States</td>\n",
       "      <td>country</td>\n",
       "      <td>NaN</td>\n",
       "      <td>121618.117906</td>\n",
       "      <td>121832.083163</td>\n",
       "      <td>122097.431586</td>\n",
       "      <td>122666.551870</td>\n",
       "      <td>123321.541083</td>\n",
       "      <td>...</td>\n",
       "      <td>351518.721971</td>\n",
       "      <td>352307.611057</td>\n",
       "      <td>353841.834013</td>\n",
       "      <td>355689.143658</td>\n",
       "      <td>357116.078246</td>\n",
       "      <td>357675.012344</td>\n",
       "      <td>357822.347127</td>\n",
       "      <td>358064.560426</td>\n",
       "      <td>358513.017685</td>\n",
       "      <td>359098.757006</td>\n",
       "    </tr>\n",
       "    <tr>\n",
       "      <th>1</th>\n",
       "      <td>394913</td>\n",
       "      <td>1</td>\n",
       "      <td>New York, NY</td>\n",
       "      <td>msa</td>\n",
       "      <td>NY</td>\n",
       "      <td>216209.133034</td>\n",
       "      <td>217127.899860</td>\n",
       "      <td>218055.176122</td>\n",
       "      <td>219934.196642</td>\n",
       "      <td>221879.987460</td>\n",
       "      <td>...</td>\n",
       "      <td>636222.199812</td>\n",
       "      <td>640261.759998</td>\n",
       "      <td>645659.925232</td>\n",
       "      <td>651762.255593</td>\n",
       "      <td>656416.260742</td>\n",
       "      <td>659493.785408</td>\n",
       "      <td>662237.503625</td>\n",
       "      <td>665976.304121</td>\n",
       "      <td>669998.634470</td>\n",
       "      <td>673519.052950</td>\n",
       "    </tr>\n",
       "    <tr>\n",
       "      <th>2</th>\n",
       "      <td>753899</td>\n",
       "      <td>2</td>\n",
       "      <td>Los Angeles, CA</td>\n",
       "      <td>msa</td>\n",
       "      <td>CA</td>\n",
       "      <td>220054.246992</td>\n",
       "      <td>220873.127993</td>\n",
       "      <td>221963.869677</td>\n",
       "      <td>224134.079222</td>\n",
       "      <td>226507.608099</td>\n",
       "      <td>...</td>\n",
       "      <td>918152.699842</td>\n",
       "      <td>915212.200707</td>\n",
       "      <td>914100.045351</td>\n",
       "      <td>917555.375306</td>\n",
       "      <td>923429.357719</td>\n",
       "      <td>927370.843139</td>\n",
       "      <td>931734.333222</td>\n",
       "      <td>936905.038981</td>\n",
       "      <td>943310.514820</td>\n",
       "      <td>948517.694617</td>\n",
       "    </tr>\n",
       "    <tr>\n",
       "      <th>3</th>\n",
       "      <td>394463</td>\n",
       "      <td>3</td>\n",
       "      <td>Chicago, IL</td>\n",
       "      <td>msa</td>\n",
       "      <td>IL</td>\n",
       "      <td>152313.404618</td>\n",
       "      <td>152454.402460</td>\n",
       "      <td>152722.935334</td>\n",
       "      <td>153390.978391</td>\n",
       "      <td>154194.553834</td>\n",
       "      <td>...</td>\n",
       "      <td>309242.532032</td>\n",
       "      <td>310621.674151</td>\n",
       "      <td>313019.037704</td>\n",
       "      <td>315872.731458</td>\n",
       "      <td>317979.880350</td>\n",
       "      <td>319195.707171</td>\n",
       "      <td>319927.287910</td>\n",
       "      <td>320843.743524</td>\n",
       "      <td>321841.084746</td>\n",
       "      <td>322812.993795</td>\n",
       "    </tr>\n",
       "    <tr>\n",
       "      <th>4</th>\n",
       "      <td>394514</td>\n",
       "      <td>4</td>\n",
       "      <td>Dallas, TX</td>\n",
       "      <td>msa</td>\n",
       "      <td>TX</td>\n",
       "      <td>124931.823275</td>\n",
       "      <td>124987.468346</td>\n",
       "      <td>125051.438051</td>\n",
       "      <td>125217.560655</td>\n",
       "      <td>125436.588761</td>\n",
       "      <td>...</td>\n",
       "      <td>368653.283687</td>\n",
       "      <td>369131.167377</td>\n",
       "      <td>370278.543600</td>\n",
       "      <td>371238.456044</td>\n",
       "      <td>371380.958812</td>\n",
       "      <td>370722.650770</td>\n",
       "      <td>369792.633169</td>\n",
       "      <td>369147.346536</td>\n",
       "      <td>368951.387387</td>\n",
       "      <td>368846.512185</td>\n",
       "    </tr>\n",
       "  </tbody>\n",
       "</table>\n",
       "<p>5 rows × 303 columns</p>\n",
       "</div>"
      ],
      "text/plain": [
       "   RegionID  SizeRank       RegionName RegionType StateName     2000-01-31  \\\n",
       "0    102001         0    United States    country       NaN  121618.117906   \n",
       "1    394913         1     New York, NY        msa        NY  216209.133034   \n",
       "2    753899         2  Los Angeles, CA        msa        CA  220054.246992   \n",
       "3    394463         3      Chicago, IL        msa        IL  152313.404618   \n",
       "4    394514         4       Dallas, TX        msa        TX  124931.823275   \n",
       "\n",
       "      2000-02-29     2000-03-31     2000-04-30     2000-05-31  ...  \\\n",
       "0  121832.083163  122097.431586  122666.551870  123321.541083  ...   \n",
       "1  217127.899860  218055.176122  219934.196642  221879.987460  ...   \n",
       "2  220873.127993  221963.869677  224134.079222  226507.608099  ...   \n",
       "3  152454.402460  152722.935334  153390.978391  154194.553834  ...   \n",
       "4  124987.468346  125051.438051  125217.560655  125436.588761  ...   \n",
       "\n",
       "      2024-01-31     2024-02-29     2024-03-31     2024-04-30     2024-05-31  \\\n",
       "0  351518.721971  352307.611057  353841.834013  355689.143658  357116.078246   \n",
       "1  636222.199812  640261.759998  645659.925232  651762.255593  656416.260742   \n",
       "2  918152.699842  915212.200707  914100.045351  917555.375306  923429.357719   \n",
       "3  309242.532032  310621.674151  313019.037704  315872.731458  317979.880350   \n",
       "4  368653.283687  369131.167377  370278.543600  371238.456044  371380.958812   \n",
       "\n",
       "      2024-06-30     2024-07-31     2024-08-31     2024-09-30     2024-10-31  \n",
       "0  357675.012344  357822.347127  358064.560426  358513.017685  359098.757006  \n",
       "1  659493.785408  662237.503625  665976.304121  669998.634470  673519.052950  \n",
       "2  927370.843139  931734.333222  936905.038981  943310.514820  948517.694617  \n",
       "3  319195.707171  319927.287910  320843.743524  321841.084746  322812.993795  \n",
       "4  370722.650770  369792.633169  369147.346536  368951.387387  368846.512185  \n",
       "\n",
       "[5 rows x 303 columns]"
      ]
     },
     "execution_count": 177,
     "metadata": {},
     "output_type": "execute_result"
    }
   ],
   "source": [
    "df_homes = pd.read_csv('pandasdataset.csv')\n",
    "df_homes.head()"
   ]
  },
  {
   "cell_type": "markdown",
   "id": "4476553a-1f93-4259-87df-69670ef486c0",
   "metadata": {
    "id": "4476553a-1f93-4259-87df-69670ef486c0"
   },
   "source": [
    "**6.** Save the DataFrame, df_homes, to a local CSV file, \"zillow_home_data.csv\".  "
   ]
  },
  {
   "cell_type": "code",
   "execution_count": 178,
   "id": "1d237615-d23c-4f62-a0b8-c709deb95647",
   "metadata": {
    "id": "1d237615-d23c-4f62-a0b8-c709deb95647"
   },
   "outputs": [],
   "source": [
    "df_homes.to_csv('zillow_home_data.csv', index=False)"
   ]
  },
  {
   "cell_type": "markdown",
   "id": "182e0039-63dc-49df-9413-7eede1453fe0",
   "metadata": {
    "id": "182e0039-63dc-49df-9413-7eede1453fe0"
   },
   "source": [
    "**7.** Load zillow_home_data.csv back into a new Dataframe, df_homes_2"
   ]
  },
  {
   "cell_type": "code",
   "execution_count": 179,
   "id": "53665adb-adb2-462f-a244-01665182e870",
   "metadata": {
    "id": "53665adb-adb2-462f-a244-01665182e870"
   },
   "outputs": [],
   "source": [
    "df_homes_2 = pd.read_csv('zillow_home_data.csv')"
   ]
  },
  {
   "cell_type": "markdown",
   "id": "eaaa6d3b-21e6-4e4a-916a-d522f1fd60c6",
   "metadata": {
    "id": "eaaa6d3b-21e6-4e4a-916a-d522f1fd60c6"
   },
   "source": [
    "**8.** Compare the dimensions of the two DataFrames, df_homes and df_homes_2.  Are they equal?  If not, how can you fix it?"
   ]
  },
  {
   "cell_type": "code",
   "execution_count": 180,
   "id": "5c0a7f30-3d6a-4283-9efb-c1dc1d5d7d42",
   "metadata": {
    "id": "5c0a7f30-3d6a-4283-9efb-c1dc1d5d7d42"
   },
   "outputs": [
    {
     "name": "stdout",
     "output_type": "stream",
     "text": [
      "(895, 303)\n",
      "(895, 303)\n"
     ]
    }
   ],
   "source": [
    "print(df_homes.shape)\n",
    "print(df_homes_2.shape)\n"
   ]
  },
  {
   "cell_type": "markdown",
   "id": "ed7fc7e0-6fe3-4eea-bbbc-2ecf8d910b5a",
   "metadata": {
    "id": "ed7fc7e0-6fe3-4eea-bbbc-2ecf8d910b5a"
   },
   "source": [
    "**answer:** the index column (the one that starts from zero at the left) is saved by default unless we put index=False, if that is done then the dimensions of both the dataframes will be the same but if index=True(default) then there will be an extra column added when we save df_homes_2"
   ]
  },
  {
   "cell_type": "markdown",
   "id": "0f34b104-fc3a-492c-964b-45daa12850b0",
   "metadata": {
    "id": "0f34b104-fc3a-492c-964b-45daa12850b0"
   },
   "source": [
    "**9.** A remote spreadsheet showing how a snapshot of how traffic increased for a hypothetical website is available here: https://github.com/CodeSolid/CodeSolid.github.io/raw/main/booksource/data/AnalyticsSnapshot.xlsx. Load the worksheet page of the spreasheet data labelled \"February 2022\" as a DataFrame named \"feb\".  Note: the leftmost column in the spreadsheet is the index column."
   ]
  },
  {
   "cell_type": "code",
   "execution_count": 181,
   "id": "7b8772dd-5d19-4510-a725-80c7273ce61b",
   "metadata": {
    "id": "7b8772dd-5d19-4510-a725-80c7273ce61b"
   },
   "outputs": [
    {
     "ename": "ValueError",
     "evalue": "Worksheet index 1 is invalid, 1 worksheets found",
     "output_type": "error",
     "traceback": [
      "\u001b[1;31m---------------------------------------------------------------------------\u001b[0m",
      "\u001b[1;31mValueError\u001b[0m                                Traceback (most recent call last)",
      "Cell \u001b[1;32mIn[181], line 1\u001b[0m\n\u001b[1;32m----> 1\u001b[0m feb \u001b[38;5;241m=\u001b[39m \u001b[43mpd\u001b[49m\u001b[38;5;241;43m.\u001b[39;49m\u001b[43mread_excel\u001b[49m\u001b[43m(\u001b[49m\u001b[38;5;124;43m'\u001b[39;49m\u001b[38;5;124;43mAnalyticsSnapshot.xlsx\u001b[39;49m\u001b[38;5;124;43m'\u001b[39;49m\u001b[43m,\u001b[49m\u001b[43m \u001b[49m\u001b[43msheet_name\u001b[49m\u001b[38;5;241;43m=\u001b[39;49m\u001b[38;5;241;43m1\u001b[39;49m\u001b[43m)\u001b[49m\n",
      "File \u001b[1;32mc:\\Users\\dhruv\\anaconda3\\envs\\newvenv\\Lib\\site-packages\\pandas\\io\\excel\\_base.py:508\u001b[0m, in \u001b[0;36mread_excel\u001b[1;34m(io, sheet_name, header, names, index_col, usecols, dtype, engine, converters, true_values, false_values, skiprows, nrows, na_values, keep_default_na, na_filter, verbose, parse_dates, date_parser, date_format, thousands, decimal, comment, skipfooter, storage_options, dtype_backend, engine_kwargs)\u001b[0m\n\u001b[0;32m    502\u001b[0m     \u001b[38;5;28;01mraise\u001b[39;00m \u001b[38;5;167;01mValueError\u001b[39;00m(\n\u001b[0;32m    503\u001b[0m         \u001b[38;5;124m\"\u001b[39m\u001b[38;5;124mEngine should not be specified when passing \u001b[39m\u001b[38;5;124m\"\u001b[39m\n\u001b[0;32m    504\u001b[0m         \u001b[38;5;124m\"\u001b[39m\u001b[38;5;124man ExcelFile - ExcelFile already has the engine set\u001b[39m\u001b[38;5;124m\"\u001b[39m\n\u001b[0;32m    505\u001b[0m     )\n\u001b[0;32m    507\u001b[0m \u001b[38;5;28;01mtry\u001b[39;00m:\n\u001b[1;32m--> 508\u001b[0m     data \u001b[38;5;241m=\u001b[39m \u001b[43mio\u001b[49m\u001b[38;5;241;43m.\u001b[39;49m\u001b[43mparse\u001b[49m\u001b[43m(\u001b[49m\n\u001b[0;32m    509\u001b[0m \u001b[43m        \u001b[49m\u001b[43msheet_name\u001b[49m\u001b[38;5;241;43m=\u001b[39;49m\u001b[43msheet_name\u001b[49m\u001b[43m,\u001b[49m\n\u001b[0;32m    510\u001b[0m \u001b[43m        \u001b[49m\u001b[43mheader\u001b[49m\u001b[38;5;241;43m=\u001b[39;49m\u001b[43mheader\u001b[49m\u001b[43m,\u001b[49m\n\u001b[0;32m    511\u001b[0m \u001b[43m        \u001b[49m\u001b[43mnames\u001b[49m\u001b[38;5;241;43m=\u001b[39;49m\u001b[43mnames\u001b[49m\u001b[43m,\u001b[49m\n\u001b[0;32m    512\u001b[0m \u001b[43m        \u001b[49m\u001b[43mindex_col\u001b[49m\u001b[38;5;241;43m=\u001b[39;49m\u001b[43mindex_col\u001b[49m\u001b[43m,\u001b[49m\n\u001b[0;32m    513\u001b[0m \u001b[43m        \u001b[49m\u001b[43musecols\u001b[49m\u001b[38;5;241;43m=\u001b[39;49m\u001b[43musecols\u001b[49m\u001b[43m,\u001b[49m\n\u001b[0;32m    514\u001b[0m \u001b[43m        \u001b[49m\u001b[43mdtype\u001b[49m\u001b[38;5;241;43m=\u001b[39;49m\u001b[43mdtype\u001b[49m\u001b[43m,\u001b[49m\n\u001b[0;32m    515\u001b[0m \u001b[43m        \u001b[49m\u001b[43mconverters\u001b[49m\u001b[38;5;241;43m=\u001b[39;49m\u001b[43mconverters\u001b[49m\u001b[43m,\u001b[49m\n\u001b[0;32m    516\u001b[0m \u001b[43m        \u001b[49m\u001b[43mtrue_values\u001b[49m\u001b[38;5;241;43m=\u001b[39;49m\u001b[43mtrue_values\u001b[49m\u001b[43m,\u001b[49m\n\u001b[0;32m    517\u001b[0m \u001b[43m        \u001b[49m\u001b[43mfalse_values\u001b[49m\u001b[38;5;241;43m=\u001b[39;49m\u001b[43mfalse_values\u001b[49m\u001b[43m,\u001b[49m\n\u001b[0;32m    518\u001b[0m \u001b[43m        \u001b[49m\u001b[43mskiprows\u001b[49m\u001b[38;5;241;43m=\u001b[39;49m\u001b[43mskiprows\u001b[49m\u001b[43m,\u001b[49m\n\u001b[0;32m    519\u001b[0m \u001b[43m        \u001b[49m\u001b[43mnrows\u001b[49m\u001b[38;5;241;43m=\u001b[39;49m\u001b[43mnrows\u001b[49m\u001b[43m,\u001b[49m\n\u001b[0;32m    520\u001b[0m \u001b[43m        \u001b[49m\u001b[43mna_values\u001b[49m\u001b[38;5;241;43m=\u001b[39;49m\u001b[43mna_values\u001b[49m\u001b[43m,\u001b[49m\n\u001b[0;32m    521\u001b[0m \u001b[43m        \u001b[49m\u001b[43mkeep_default_na\u001b[49m\u001b[38;5;241;43m=\u001b[39;49m\u001b[43mkeep_default_na\u001b[49m\u001b[43m,\u001b[49m\n\u001b[0;32m    522\u001b[0m \u001b[43m        \u001b[49m\u001b[43mna_filter\u001b[49m\u001b[38;5;241;43m=\u001b[39;49m\u001b[43mna_filter\u001b[49m\u001b[43m,\u001b[49m\n\u001b[0;32m    523\u001b[0m \u001b[43m        \u001b[49m\u001b[43mverbose\u001b[49m\u001b[38;5;241;43m=\u001b[39;49m\u001b[43mverbose\u001b[49m\u001b[43m,\u001b[49m\n\u001b[0;32m    524\u001b[0m \u001b[43m        \u001b[49m\u001b[43mparse_dates\u001b[49m\u001b[38;5;241;43m=\u001b[39;49m\u001b[43mparse_dates\u001b[49m\u001b[43m,\u001b[49m\n\u001b[0;32m    525\u001b[0m \u001b[43m        \u001b[49m\u001b[43mdate_parser\u001b[49m\u001b[38;5;241;43m=\u001b[39;49m\u001b[43mdate_parser\u001b[49m\u001b[43m,\u001b[49m\n\u001b[0;32m    526\u001b[0m \u001b[43m        \u001b[49m\u001b[43mdate_format\u001b[49m\u001b[38;5;241;43m=\u001b[39;49m\u001b[43mdate_format\u001b[49m\u001b[43m,\u001b[49m\n\u001b[0;32m    527\u001b[0m \u001b[43m        \u001b[49m\u001b[43mthousands\u001b[49m\u001b[38;5;241;43m=\u001b[39;49m\u001b[43mthousands\u001b[49m\u001b[43m,\u001b[49m\n\u001b[0;32m    528\u001b[0m \u001b[43m        \u001b[49m\u001b[43mdecimal\u001b[49m\u001b[38;5;241;43m=\u001b[39;49m\u001b[43mdecimal\u001b[49m\u001b[43m,\u001b[49m\n\u001b[0;32m    529\u001b[0m \u001b[43m        \u001b[49m\u001b[43mcomment\u001b[49m\u001b[38;5;241;43m=\u001b[39;49m\u001b[43mcomment\u001b[49m\u001b[43m,\u001b[49m\n\u001b[0;32m    530\u001b[0m \u001b[43m        \u001b[49m\u001b[43mskipfooter\u001b[49m\u001b[38;5;241;43m=\u001b[39;49m\u001b[43mskipfooter\u001b[49m\u001b[43m,\u001b[49m\n\u001b[0;32m    531\u001b[0m \u001b[43m        \u001b[49m\u001b[43mdtype_backend\u001b[49m\u001b[38;5;241;43m=\u001b[39;49m\u001b[43mdtype_backend\u001b[49m\u001b[43m,\u001b[49m\n\u001b[0;32m    532\u001b[0m \u001b[43m    \u001b[49m\u001b[43m)\u001b[49m\n\u001b[0;32m    533\u001b[0m \u001b[38;5;28;01mfinally\u001b[39;00m:\n\u001b[0;32m    534\u001b[0m     \u001b[38;5;66;03m# make sure to close opened file handles\u001b[39;00m\n\u001b[0;32m    535\u001b[0m     \u001b[38;5;28;01mif\u001b[39;00m should_close:\n",
      "File \u001b[1;32mc:\\Users\\dhruv\\anaconda3\\envs\\newvenv\\Lib\\site-packages\\pandas\\io\\excel\\_base.py:1616\u001b[0m, in \u001b[0;36mExcelFile.parse\u001b[1;34m(self, sheet_name, header, names, index_col, usecols, converters, true_values, false_values, skiprows, nrows, na_values, parse_dates, date_parser, date_format, thousands, comment, skipfooter, dtype_backend, **kwds)\u001b[0m\n\u001b[0;32m   1576\u001b[0m \u001b[38;5;28;01mdef\u001b[39;00m \u001b[38;5;21mparse\u001b[39m(\n\u001b[0;32m   1577\u001b[0m     \u001b[38;5;28mself\u001b[39m,\n\u001b[0;32m   1578\u001b[0m     sheet_name: \u001b[38;5;28mstr\u001b[39m \u001b[38;5;241m|\u001b[39m \u001b[38;5;28mint\u001b[39m \u001b[38;5;241m|\u001b[39m \u001b[38;5;28mlist\u001b[39m[\u001b[38;5;28mint\u001b[39m] \u001b[38;5;241m|\u001b[39m \u001b[38;5;28mlist\u001b[39m[\u001b[38;5;28mstr\u001b[39m] \u001b[38;5;241m|\u001b[39m \u001b[38;5;28;01mNone\u001b[39;00m \u001b[38;5;241m=\u001b[39m \u001b[38;5;241m0\u001b[39m,\n\u001b[1;32m   (...)\u001b[0m\n\u001b[0;32m   1596\u001b[0m     \u001b[38;5;241m*\u001b[39m\u001b[38;5;241m*\u001b[39mkwds,\n\u001b[0;32m   1597\u001b[0m ) \u001b[38;5;241m-\u001b[39m\u001b[38;5;241m>\u001b[39m DataFrame \u001b[38;5;241m|\u001b[39m \u001b[38;5;28mdict\u001b[39m[\u001b[38;5;28mstr\u001b[39m, DataFrame] \u001b[38;5;241m|\u001b[39m \u001b[38;5;28mdict\u001b[39m[\u001b[38;5;28mint\u001b[39m, DataFrame]:\n\u001b[0;32m   1598\u001b[0m \u001b[38;5;250m    \u001b[39m\u001b[38;5;124;03m\"\"\"\u001b[39;00m\n\u001b[0;32m   1599\u001b[0m \u001b[38;5;124;03m    Parse specified sheet(s) into a DataFrame.\u001b[39;00m\n\u001b[0;32m   1600\u001b[0m \n\u001b[1;32m   (...)\u001b[0m\n\u001b[0;32m   1614\u001b[0m \u001b[38;5;124;03m    >>> file.parse()  # doctest: +SKIP\u001b[39;00m\n\u001b[0;32m   1615\u001b[0m \u001b[38;5;124;03m    \"\"\"\u001b[39;00m\n\u001b[1;32m-> 1616\u001b[0m     \u001b[38;5;28;01mreturn\u001b[39;00m \u001b[38;5;28;43mself\u001b[39;49m\u001b[38;5;241;43m.\u001b[39;49m\u001b[43m_reader\u001b[49m\u001b[38;5;241;43m.\u001b[39;49m\u001b[43mparse\u001b[49m\u001b[43m(\u001b[49m\n\u001b[0;32m   1617\u001b[0m \u001b[43m        \u001b[49m\u001b[43msheet_name\u001b[49m\u001b[38;5;241;43m=\u001b[39;49m\u001b[43msheet_name\u001b[49m\u001b[43m,\u001b[49m\n\u001b[0;32m   1618\u001b[0m \u001b[43m        \u001b[49m\u001b[43mheader\u001b[49m\u001b[38;5;241;43m=\u001b[39;49m\u001b[43mheader\u001b[49m\u001b[43m,\u001b[49m\n\u001b[0;32m   1619\u001b[0m \u001b[43m        \u001b[49m\u001b[43mnames\u001b[49m\u001b[38;5;241;43m=\u001b[39;49m\u001b[43mnames\u001b[49m\u001b[43m,\u001b[49m\n\u001b[0;32m   1620\u001b[0m \u001b[43m        \u001b[49m\u001b[43mindex_col\u001b[49m\u001b[38;5;241;43m=\u001b[39;49m\u001b[43mindex_col\u001b[49m\u001b[43m,\u001b[49m\n\u001b[0;32m   1621\u001b[0m \u001b[43m        \u001b[49m\u001b[43musecols\u001b[49m\u001b[38;5;241;43m=\u001b[39;49m\u001b[43musecols\u001b[49m\u001b[43m,\u001b[49m\n\u001b[0;32m   1622\u001b[0m \u001b[43m        \u001b[49m\u001b[43mconverters\u001b[49m\u001b[38;5;241;43m=\u001b[39;49m\u001b[43mconverters\u001b[49m\u001b[43m,\u001b[49m\n\u001b[0;32m   1623\u001b[0m \u001b[43m        \u001b[49m\u001b[43mtrue_values\u001b[49m\u001b[38;5;241;43m=\u001b[39;49m\u001b[43mtrue_values\u001b[49m\u001b[43m,\u001b[49m\n\u001b[0;32m   1624\u001b[0m \u001b[43m        \u001b[49m\u001b[43mfalse_values\u001b[49m\u001b[38;5;241;43m=\u001b[39;49m\u001b[43mfalse_values\u001b[49m\u001b[43m,\u001b[49m\n\u001b[0;32m   1625\u001b[0m \u001b[43m        \u001b[49m\u001b[43mskiprows\u001b[49m\u001b[38;5;241;43m=\u001b[39;49m\u001b[43mskiprows\u001b[49m\u001b[43m,\u001b[49m\n\u001b[0;32m   1626\u001b[0m \u001b[43m        \u001b[49m\u001b[43mnrows\u001b[49m\u001b[38;5;241;43m=\u001b[39;49m\u001b[43mnrows\u001b[49m\u001b[43m,\u001b[49m\n\u001b[0;32m   1627\u001b[0m \u001b[43m        \u001b[49m\u001b[43mna_values\u001b[49m\u001b[38;5;241;43m=\u001b[39;49m\u001b[43mna_values\u001b[49m\u001b[43m,\u001b[49m\n\u001b[0;32m   1628\u001b[0m \u001b[43m        \u001b[49m\u001b[43mparse_dates\u001b[49m\u001b[38;5;241;43m=\u001b[39;49m\u001b[43mparse_dates\u001b[49m\u001b[43m,\u001b[49m\n\u001b[0;32m   1629\u001b[0m \u001b[43m        \u001b[49m\u001b[43mdate_parser\u001b[49m\u001b[38;5;241;43m=\u001b[39;49m\u001b[43mdate_parser\u001b[49m\u001b[43m,\u001b[49m\n\u001b[0;32m   1630\u001b[0m \u001b[43m        \u001b[49m\u001b[43mdate_format\u001b[49m\u001b[38;5;241;43m=\u001b[39;49m\u001b[43mdate_format\u001b[49m\u001b[43m,\u001b[49m\n\u001b[0;32m   1631\u001b[0m \u001b[43m        \u001b[49m\u001b[43mthousands\u001b[49m\u001b[38;5;241;43m=\u001b[39;49m\u001b[43mthousands\u001b[49m\u001b[43m,\u001b[49m\n\u001b[0;32m   1632\u001b[0m \u001b[43m        \u001b[49m\u001b[43mcomment\u001b[49m\u001b[38;5;241;43m=\u001b[39;49m\u001b[43mcomment\u001b[49m\u001b[43m,\u001b[49m\n\u001b[0;32m   1633\u001b[0m \u001b[43m        \u001b[49m\u001b[43mskipfooter\u001b[49m\u001b[38;5;241;43m=\u001b[39;49m\u001b[43mskipfooter\u001b[49m\u001b[43m,\u001b[49m\n\u001b[0;32m   1634\u001b[0m \u001b[43m        \u001b[49m\u001b[43mdtype_backend\u001b[49m\u001b[38;5;241;43m=\u001b[39;49m\u001b[43mdtype_backend\u001b[49m\u001b[43m,\u001b[49m\n\u001b[0;32m   1635\u001b[0m \u001b[43m        \u001b[49m\u001b[38;5;241;43m*\u001b[39;49m\u001b[38;5;241;43m*\u001b[39;49m\u001b[43mkwds\u001b[49m\u001b[43m,\u001b[49m\n\u001b[0;32m   1636\u001b[0m \u001b[43m    \u001b[49m\u001b[43m)\u001b[49m\n",
      "File \u001b[1;32mc:\\Users\\dhruv\\anaconda3\\envs\\newvenv\\Lib\\site-packages\\pandas\\io\\excel\\_base.py:775\u001b[0m, in \u001b[0;36mBaseExcelReader.parse\u001b[1;34m(self, sheet_name, header, names, index_col, usecols, dtype, true_values, false_values, skiprows, nrows, na_values, verbose, parse_dates, date_parser, date_format, thousands, decimal, comment, skipfooter, dtype_backend, **kwds)\u001b[0m\n\u001b[0;32m    773\u001b[0m     sheet \u001b[38;5;241m=\u001b[39m \u001b[38;5;28mself\u001b[39m\u001b[38;5;241m.\u001b[39mget_sheet_by_name(asheetname)\n\u001b[0;32m    774\u001b[0m \u001b[38;5;28;01melse\u001b[39;00m:  \u001b[38;5;66;03m# assume an integer if not a string\u001b[39;00m\n\u001b[1;32m--> 775\u001b[0m     sheet \u001b[38;5;241m=\u001b[39m \u001b[38;5;28;43mself\u001b[39;49m\u001b[38;5;241;43m.\u001b[39;49m\u001b[43mget_sheet_by_index\u001b[49m\u001b[43m(\u001b[49m\u001b[43masheetname\u001b[49m\u001b[43m)\u001b[49m\n\u001b[0;32m    777\u001b[0m file_rows_needed \u001b[38;5;241m=\u001b[39m \u001b[38;5;28mself\u001b[39m\u001b[38;5;241m.\u001b[39m_calc_rows(header, index_col, skiprows, nrows)\n\u001b[0;32m    778\u001b[0m data \u001b[38;5;241m=\u001b[39m \u001b[38;5;28mself\u001b[39m\u001b[38;5;241m.\u001b[39mget_sheet_data(sheet, file_rows_needed)\n",
      "File \u001b[1;32mc:\\Users\\dhruv\\anaconda3\\envs\\newvenv\\Lib\\site-packages\\pandas\\io\\excel\\_openpyxl.py:586\u001b[0m, in \u001b[0;36mOpenpyxlReader.get_sheet_by_index\u001b[1;34m(self, index)\u001b[0m\n\u001b[0;32m    585\u001b[0m \u001b[38;5;28;01mdef\u001b[39;00m \u001b[38;5;21mget_sheet_by_index\u001b[39m(\u001b[38;5;28mself\u001b[39m, index: \u001b[38;5;28mint\u001b[39m):\n\u001b[1;32m--> 586\u001b[0m     \u001b[38;5;28;43mself\u001b[39;49m\u001b[38;5;241;43m.\u001b[39;49m\u001b[43mraise_if_bad_sheet_by_index\u001b[49m\u001b[43m(\u001b[49m\u001b[43mindex\u001b[49m\u001b[43m)\u001b[49m\n\u001b[0;32m    587\u001b[0m     \u001b[38;5;28;01mreturn\u001b[39;00m \u001b[38;5;28mself\u001b[39m\u001b[38;5;241m.\u001b[39mbook\u001b[38;5;241m.\u001b[39mworksheets[index]\n",
      "File \u001b[1;32mc:\\Users\\dhruv\\anaconda3\\envs\\newvenv\\Lib\\site-packages\\pandas\\io\\excel\\_base.py:618\u001b[0m, in \u001b[0;36mBaseExcelReader.raise_if_bad_sheet_by_index\u001b[1;34m(self, index)\u001b[0m\n\u001b[0;32m    616\u001b[0m n_sheets \u001b[38;5;241m=\u001b[39m \u001b[38;5;28mlen\u001b[39m(\u001b[38;5;28mself\u001b[39m\u001b[38;5;241m.\u001b[39msheet_names)\n\u001b[0;32m    617\u001b[0m \u001b[38;5;28;01mif\u001b[39;00m index \u001b[38;5;241m>\u001b[39m\u001b[38;5;241m=\u001b[39m n_sheets:\n\u001b[1;32m--> 618\u001b[0m     \u001b[38;5;28;01mraise\u001b[39;00m \u001b[38;5;167;01mValueError\u001b[39;00m(\n\u001b[0;32m    619\u001b[0m         \u001b[38;5;124mf\u001b[39m\u001b[38;5;124m\"\u001b[39m\u001b[38;5;124mWorksheet index \u001b[39m\u001b[38;5;132;01m{\u001b[39;00mindex\u001b[38;5;132;01m}\u001b[39;00m\u001b[38;5;124m is invalid, \u001b[39m\u001b[38;5;132;01m{\u001b[39;00mn_sheets\u001b[38;5;132;01m}\u001b[39;00m\u001b[38;5;124m worksheets found\u001b[39m\u001b[38;5;124m\"\u001b[39m\n\u001b[0;32m    620\u001b[0m     )\n",
      "\u001b[1;31mValueError\u001b[0m: Worksheet index 1 is invalid, 1 worksheets found"
     ]
    }
   ],
   "source": [
    "feb = pd.read_excel('AnalyticsSnapshot.xlsx', sheet_name=1)"
   ]
  },
  {
   "cell_type": "markdown",
   "id": "ad366534-b168-490c-a55d-654f3ef44288",
   "metadata": {
    "id": "ad366534-b168-490c-a55d-654f3ef44288"
   },
   "source": [
    "**10.** The \"Month to Month Increase\" column is a bit hard to understand, so ignore it for now.  Given the values for \"This Month\" and \"Last Month\", create a new column, \"Percentage Increase\"."
   ]
  },
  {
   "cell_type": "code",
   "execution_count": null,
   "id": "d053f773-c9a9-4592-aaaa-660ae8e189e5",
   "metadata": {
    "id": "d053f773-c9a9-4592-aaaa-660ae8e189e5"
   },
   "outputs": [
    {
     "data": {
      "text/html": [
       "<div>\n",
       "<style scoped>\n",
       "    .dataframe tbody tr th:only-of-type {\n",
       "        vertical-align: middle;\n",
       "    }\n",
       "\n",
       "    .dataframe tbody tr th {\n",
       "        vertical-align: top;\n",
       "    }\n",
       "\n",
       "    .dataframe thead th {\n",
       "        text-align: right;\n",
       "    }\n",
       "</style>\n",
       "<table border=\"1\" class=\"dataframe\">\n",
       "  <thead>\n",
       "    <tr style=\"text-align: right;\">\n",
       "      <th></th>\n",
       "      <th>Unnamed: 0</th>\n",
       "      <th>This Month</th>\n",
       "      <th>Last Month</th>\n",
       "      <th>Month to Month Increase</th>\n",
       "      <th>Percentage Increase</th>\n",
       "    </tr>\n",
       "  </thead>\n",
       "  <tbody>\n",
       "    <tr>\n",
       "      <th>0</th>\n",
       "      <td>Users</td>\n",
       "      <td>1800</td>\n",
       "      <td>280</td>\n",
       "      <td>5.428571</td>\n",
       "      <td>542.86%</td>\n",
       "    </tr>\n",
       "    <tr>\n",
       "      <th>1</th>\n",
       "      <td>New Users</td>\n",
       "      <td>1700</td>\n",
       "      <td>298</td>\n",
       "      <td>4.704698</td>\n",
       "      <td>470.47%</td>\n",
       "    </tr>\n",
       "    <tr>\n",
       "      <th>2</th>\n",
       "      <td>Page Views</td>\n",
       "      <td>2534</td>\n",
       "      <td>436</td>\n",
       "      <td>4.811927</td>\n",
       "      <td>481.19%</td>\n",
       "    </tr>\n",
       "  </tbody>\n",
       "</table>\n",
       "</div>"
      ],
      "text/plain": [
       "   Unnamed: 0  This Month  Last Month  Month to Month Increase  \\\n",
       "0       Users        1800         280                 5.428571   \n",
       "1   New Users        1700         298                 4.704698   \n",
       "2  Page Views        2534         436                 4.811927   \n",
       "\n",
       "  Percentage Increase  \n",
       "0             542.86%  \n",
       "1             470.47%  \n",
       "2             481.19%  "
      ]
     },
     "execution_count": 42,
     "metadata": {},
     "output_type": "execute_result"
    }
   ],
   "source": [
    "feb['Percentage Increase'] = 0\n",
    "feb['Percentage Increase'] = feb['Percentage Increase'].astype(str)\n",
    "for i in range(len(feb)):\n",
    "    this = feb.loc[i, 'This Month']\n",
    "    last = feb.loc[i, 'Last Month']\n",
    "    inc = ((this - last) / last)*100\n",
    "    feb.loc[i, 'Percentage Increase'] = str(inc.round(2)) + str(\"%\") \n",
    "feb.head()"
   ]
  },
  {
   "cell_type": "markdown",
   "id": "8a71222f-2ab4-47bb-806d-2610e25b3a91",
   "metadata": {
    "id": "8a71222f-2ab4-47bb-806d-2610e25b3a91"
   },
   "source": [
    "## Basic Operations on Data"
   ]
  },
  {
   "cell_type": "markdown",
   "id": "0b9cf32b-3132-40cc-a5ca-26d6e6a36e4b",
   "metadata": {
    "id": "0b9cf32b-3132-40cc-a5ca-26d6e6a36e4b"
   },
   "source": [
    "**11.** Using Seaborn, get a dataset about penguins into a dataframe named \"df_penguins\".  Note that because all of the following questions depend on this example, we'll provide the solution here so no one gets stuck:"
   ]
  },
  {
   "cell_type": "code",
   "execution_count": null,
   "id": "a8b68caf-a998-414a-9de7-899eae7213c7",
   "metadata": {
    "id": "a8b68caf-a998-414a-9de7-899eae7213c7"
   },
   "outputs": [],
   "source": [
    "df_penguins = sb.load_dataset('penguins')"
   ]
  },
  {
   "cell_type": "markdown",
   "id": "f7170135-17bd-45e2-9239-dad647ed6eaf",
   "metadata": {
    "id": "f7170135-17bd-45e2-9239-dad647ed6eaf"
   },
   "source": [
    "**12.** Write the code to show the the number of rows and columns in df_penguins"
   ]
  },
  {
   "cell_type": "code",
   "execution_count": null,
   "id": "6f565afb-d5f4-462d-b3e5-946bc91bd83e",
   "metadata": {
    "id": "6f565afb-d5f4-462d-b3e5-946bc91bd83e"
   },
   "outputs": [
    {
     "name": "stdout",
     "output_type": "stream",
     "text": [
      "Rows: 344, Columns: 7\n"
     ]
    }
   ],
   "source": [
    "rows, cols = df_penguins.shape\n",
    "print(f\"Rows: {rows}, Columns: {cols}\")"
   ]
  },
  {
   "cell_type": "markdown",
   "id": "9d3396f3-3fe6-4571-83b2-1e70f8a11513",
   "metadata": {
    "id": "9d3396f3-3fe6-4571-83b2-1e70f8a11513"
   },
   "source": [
    "**13.** How might you show the first few rows of df_penguins?"
   ]
  },
  {
   "cell_type": "code",
   "execution_count": null,
   "id": "68d5946e-5011-4735-983e-7485f44a60f2",
   "metadata": {
    "id": "68d5946e-5011-4735-983e-7485f44a60f2"
   },
   "outputs": [
    {
     "data": {
      "text/html": [
       "<div>\n",
       "<style scoped>\n",
       "    .dataframe tbody tr th:only-of-type {\n",
       "        vertical-align: middle;\n",
       "    }\n",
       "\n",
       "    .dataframe tbody tr th {\n",
       "        vertical-align: top;\n",
       "    }\n",
       "\n",
       "    .dataframe thead th {\n",
       "        text-align: right;\n",
       "    }\n",
       "</style>\n",
       "<table border=\"1\" class=\"dataframe\">\n",
       "  <thead>\n",
       "    <tr style=\"text-align: right;\">\n",
       "      <th></th>\n",
       "      <th>species</th>\n",
       "      <th>island</th>\n",
       "      <th>bill_length_mm</th>\n",
       "      <th>bill_depth_mm</th>\n",
       "      <th>flipper_length_mm</th>\n",
       "      <th>body_mass_g</th>\n",
       "      <th>sex</th>\n",
       "    </tr>\n",
       "  </thead>\n",
       "  <tbody>\n",
       "    <tr>\n",
       "      <th>0</th>\n",
       "      <td>Adelie</td>\n",
       "      <td>Torgersen</td>\n",
       "      <td>39.1</td>\n",
       "      <td>18.7</td>\n",
       "      <td>181.0</td>\n",
       "      <td>3750.0</td>\n",
       "      <td>Male</td>\n",
       "    </tr>\n",
       "    <tr>\n",
       "      <th>1</th>\n",
       "      <td>Adelie</td>\n",
       "      <td>Torgersen</td>\n",
       "      <td>39.5</td>\n",
       "      <td>17.4</td>\n",
       "      <td>186.0</td>\n",
       "      <td>3800.0</td>\n",
       "      <td>Female</td>\n",
       "    </tr>\n",
       "    <tr>\n",
       "      <th>2</th>\n",
       "      <td>Adelie</td>\n",
       "      <td>Torgersen</td>\n",
       "      <td>40.3</td>\n",
       "      <td>18.0</td>\n",
       "      <td>195.0</td>\n",
       "      <td>3250.0</td>\n",
       "      <td>Female</td>\n",
       "    </tr>\n",
       "    <tr>\n",
       "      <th>3</th>\n",
       "      <td>Adelie</td>\n",
       "      <td>Torgersen</td>\n",
       "      <td>NaN</td>\n",
       "      <td>NaN</td>\n",
       "      <td>NaN</td>\n",
       "      <td>NaN</td>\n",
       "      <td>NaN</td>\n",
       "    </tr>\n",
       "    <tr>\n",
       "      <th>4</th>\n",
       "      <td>Adelie</td>\n",
       "      <td>Torgersen</td>\n",
       "      <td>36.7</td>\n",
       "      <td>19.3</td>\n",
       "      <td>193.0</td>\n",
       "      <td>3450.0</td>\n",
       "      <td>Female</td>\n",
       "    </tr>\n",
       "  </tbody>\n",
       "</table>\n",
       "</div>"
      ],
      "text/plain": [
       "  species     island  bill_length_mm  bill_depth_mm  flipper_length_mm  \\\n",
       "0  Adelie  Torgersen            39.1           18.7              181.0   \n",
       "1  Adelie  Torgersen            39.5           17.4              186.0   \n",
       "2  Adelie  Torgersen            40.3           18.0              195.0   \n",
       "3  Adelie  Torgersen             NaN            NaN                NaN   \n",
       "4  Adelie  Torgersen            36.7           19.3              193.0   \n",
       "\n",
       "   body_mass_g     sex  \n",
       "0       3750.0    Male  \n",
       "1       3800.0  Female  \n",
       "2       3250.0  Female  \n",
       "3          NaN     NaN  \n",
       "4       3450.0  Female  "
      ]
     },
     "execution_count": 47,
     "metadata": {},
     "output_type": "execute_result"
    }
   ],
   "source": [
    "df_penguins.head()"
   ]
  },
  {
   "cell_type": "markdown",
   "id": "c841930d-e235-468a-809d-8427f8739076",
   "metadata": {
    "id": "c841930d-e235-468a-809d-8427f8739076"
   },
   "source": [
    "**14.** How can you return the unique species of penguins from df_penguins?  How many unique species are there?"
   ]
  },
  {
   "cell_type": "code",
   "execution_count": null,
   "id": "130ed9bd-397b-4504-bf26-6b0dc716ba8b",
   "metadata": {
    "id": "130ed9bd-397b-4504-bf26-6b0dc716ba8b"
   },
   "outputs": [
    {
     "name": "stdout",
     "output_type": "stream",
     "text": [
      "Unique Species:  ['Adelie' 'Chinstrap' 'Gentoo']\n"
     ]
    }
   ],
   "source": [
    "species = df_penguins['species'].unique()\n",
    "print(\"Unique Species: \", species)"
   ]
  },
  {
   "cell_type": "markdown",
   "id": "3912a3df-d931-4d74-a6fa-34ad11f83f94",
   "metadata": {
    "id": "3912a3df-d931-4d74-a6fa-34ad11f83f94"
   },
   "source": [
    "**15.** What function can we use to drop the rows that have missing data?"
   ]
  },
  {
   "cell_type": "code",
   "execution_count": null,
   "id": "436cf3d3-db4a-42e3-81d3-9f2df28265f1",
   "metadata": {
    "id": "436cf3d3-db4a-42e3-81d3-9f2df28265f1"
   },
   "outputs": [
    {
     "data": {
      "text/html": [
       "<div>\n",
       "<style scoped>\n",
       "    .dataframe tbody tr th:only-of-type {\n",
       "        vertical-align: middle;\n",
       "    }\n",
       "\n",
       "    .dataframe tbody tr th {\n",
       "        vertical-align: top;\n",
       "    }\n",
       "\n",
       "    .dataframe thead th {\n",
       "        text-align: right;\n",
       "    }\n",
       "</style>\n",
       "<table border=\"1\" class=\"dataframe\">\n",
       "  <thead>\n",
       "    <tr style=\"text-align: right;\">\n",
       "      <th></th>\n",
       "      <th>species</th>\n",
       "      <th>island</th>\n",
       "      <th>bill_length_mm</th>\n",
       "      <th>bill_depth_mm</th>\n",
       "      <th>flipper_length_mm</th>\n",
       "      <th>body_mass_g</th>\n",
       "      <th>sex</th>\n",
       "    </tr>\n",
       "  </thead>\n",
       "  <tbody>\n",
       "    <tr>\n",
       "      <th>0</th>\n",
       "      <td>Adelie</td>\n",
       "      <td>Torgersen</td>\n",
       "      <td>39.1</td>\n",
       "      <td>18.7</td>\n",
       "      <td>181.0</td>\n",
       "      <td>3750.0</td>\n",
       "      <td>Male</td>\n",
       "    </tr>\n",
       "    <tr>\n",
       "      <th>1</th>\n",
       "      <td>Adelie</td>\n",
       "      <td>Torgersen</td>\n",
       "      <td>39.5</td>\n",
       "      <td>17.4</td>\n",
       "      <td>186.0</td>\n",
       "      <td>3800.0</td>\n",
       "      <td>Female</td>\n",
       "    </tr>\n",
       "    <tr>\n",
       "      <th>2</th>\n",
       "      <td>Adelie</td>\n",
       "      <td>Torgersen</td>\n",
       "      <td>40.3</td>\n",
       "      <td>18.0</td>\n",
       "      <td>195.0</td>\n",
       "      <td>3250.0</td>\n",
       "      <td>Female</td>\n",
       "    </tr>\n",
       "    <tr>\n",
       "      <th>4</th>\n",
       "      <td>Adelie</td>\n",
       "      <td>Torgersen</td>\n",
       "      <td>36.7</td>\n",
       "      <td>19.3</td>\n",
       "      <td>193.0</td>\n",
       "      <td>3450.0</td>\n",
       "      <td>Female</td>\n",
       "    </tr>\n",
       "    <tr>\n",
       "      <th>5</th>\n",
       "      <td>Adelie</td>\n",
       "      <td>Torgersen</td>\n",
       "      <td>39.3</td>\n",
       "      <td>20.6</td>\n",
       "      <td>190.0</td>\n",
       "      <td>3650.0</td>\n",
       "      <td>Male</td>\n",
       "    </tr>\n",
       "    <tr>\n",
       "      <th>...</th>\n",
       "      <td>...</td>\n",
       "      <td>...</td>\n",
       "      <td>...</td>\n",
       "      <td>...</td>\n",
       "      <td>...</td>\n",
       "      <td>...</td>\n",
       "      <td>...</td>\n",
       "    </tr>\n",
       "    <tr>\n",
       "      <th>338</th>\n",
       "      <td>Gentoo</td>\n",
       "      <td>Biscoe</td>\n",
       "      <td>47.2</td>\n",
       "      <td>13.7</td>\n",
       "      <td>214.0</td>\n",
       "      <td>4925.0</td>\n",
       "      <td>Female</td>\n",
       "    </tr>\n",
       "    <tr>\n",
       "      <th>340</th>\n",
       "      <td>Gentoo</td>\n",
       "      <td>Biscoe</td>\n",
       "      <td>46.8</td>\n",
       "      <td>14.3</td>\n",
       "      <td>215.0</td>\n",
       "      <td>4850.0</td>\n",
       "      <td>Female</td>\n",
       "    </tr>\n",
       "    <tr>\n",
       "      <th>341</th>\n",
       "      <td>Gentoo</td>\n",
       "      <td>Biscoe</td>\n",
       "      <td>50.4</td>\n",
       "      <td>15.7</td>\n",
       "      <td>222.0</td>\n",
       "      <td>5750.0</td>\n",
       "      <td>Male</td>\n",
       "    </tr>\n",
       "    <tr>\n",
       "      <th>342</th>\n",
       "      <td>Gentoo</td>\n",
       "      <td>Biscoe</td>\n",
       "      <td>45.2</td>\n",
       "      <td>14.8</td>\n",
       "      <td>212.0</td>\n",
       "      <td>5200.0</td>\n",
       "      <td>Female</td>\n",
       "    </tr>\n",
       "    <tr>\n",
       "      <th>343</th>\n",
       "      <td>Gentoo</td>\n",
       "      <td>Biscoe</td>\n",
       "      <td>49.9</td>\n",
       "      <td>16.1</td>\n",
       "      <td>213.0</td>\n",
       "      <td>5400.0</td>\n",
       "      <td>Male</td>\n",
       "    </tr>\n",
       "  </tbody>\n",
       "</table>\n",
       "<p>333 rows × 7 columns</p>\n",
       "</div>"
      ],
      "text/plain": [
       "    species     island  bill_length_mm  bill_depth_mm  flipper_length_mm  \\\n",
       "0    Adelie  Torgersen            39.1           18.7              181.0   \n",
       "1    Adelie  Torgersen            39.5           17.4              186.0   \n",
       "2    Adelie  Torgersen            40.3           18.0              195.0   \n",
       "4    Adelie  Torgersen            36.7           19.3              193.0   \n",
       "5    Adelie  Torgersen            39.3           20.6              190.0   \n",
       "..      ...        ...             ...            ...                ...   \n",
       "338  Gentoo     Biscoe            47.2           13.7              214.0   \n",
       "340  Gentoo     Biscoe            46.8           14.3              215.0   \n",
       "341  Gentoo     Biscoe            50.4           15.7              222.0   \n",
       "342  Gentoo     Biscoe            45.2           14.8              212.0   \n",
       "343  Gentoo     Biscoe            49.9           16.1              213.0   \n",
       "\n",
       "     body_mass_g     sex  \n",
       "0         3750.0    Male  \n",
       "1         3800.0  Female  \n",
       "2         3250.0  Female  \n",
       "4         3450.0  Female  \n",
       "5         3650.0    Male  \n",
       "..           ...     ...  \n",
       "338       4925.0  Female  \n",
       "340       4850.0  Female  \n",
       "341       5750.0    Male  \n",
       "342       5200.0  Female  \n",
       "343       5400.0    Male  \n",
       "\n",
       "[333 rows x 7 columns]"
      ]
     },
     "execution_count": 49,
     "metadata": {},
     "output_type": "execute_result"
    }
   ],
   "source": [
    "df_penguins.dropna()"
   ]
  },
  {
   "cell_type": "markdown",
   "id": "f1feab44-7136-4736-a11c-ee005fdb0698",
   "metadata": {
    "id": "f1feab44-7136-4736-a11c-ee005fdb0698"
   },
   "source": [
    "**16.** By default, will this modify df_penguins or will it return a copy?"
   ]
  },
  {
   "cell_type": "markdown",
   "id": "8b0981bc-d8b1-42a5-9df6-e2723f61013c",
   "metadata": {
    "id": "8b0981bc-d8b1-42a5-9df6-e2723f61013c"
   },
   "source": [
    "**answer:** by default, it returns a copy of the original dataframe\n"
   ]
  },
  {
   "cell_type": "markdown",
   "id": "7f35c024-ac5c-43e0-8ea7-3e03953f644b",
   "metadata": {
    "id": "7f35c024-ac5c-43e0-8ea7-3e03953f644b"
   },
   "source": [
    "**17.** How can we override the default?"
   ]
  },
  {
   "cell_type": "markdown",
   "id": "3f62e100-1000-40df-b21b-6af919fbb945",
   "metadata": {
    "id": "3f62e100-1000-40df-b21b-6af919fbb945"
   },
   "source": [
    "**answer** to override the default, we can use the Inplace = True argument in the .dropna() method, this will replace the original df"
   ]
  },
  {
   "cell_type": "markdown",
   "id": "a17f9c69-c8e2-4331-b9c7-c5be6a13a968",
   "metadata": {
    "id": "a17f9c69-c8e2-4331-b9c7-c5be6a13a968"
   },
   "source": [
    "**18.** Create a new DataFrame, df_penguins_full, with the missing data deleted."
   ]
  },
  {
   "cell_type": "code",
   "execution_count": null,
   "id": "f160094c-ba0c-4fe1-96f0-d6b23e8162c9",
   "metadata": {
    "id": "f160094c-ba0c-4fe1-96f0-d6b23e8162c9"
   },
   "outputs": [],
   "source": [
    "df_penguins_full = df_penguins.dropna()"
   ]
  },
  {
   "cell_type": "markdown",
   "id": "c34afa01-c0c4-40fa-b3a6-3b7c6abc58e1",
   "metadata": {
    "id": "c34afa01-c0c4-40fa-b3a6-3b7c6abc58e1"
   },
   "source": [
    "**19.** What is the average bill length of a penguin, in millimeters, in this (df_full) data set?"
   ]
  },
  {
   "cell_type": "code",
   "execution_count": null,
   "id": "6012e669-3c97-4949-be33-3e44daf9534a",
   "metadata": {
    "id": "6012e669-3c97-4949-be33-3e44daf9534a"
   },
   "outputs": [
    {
     "data": {
      "text/plain": [
       "43.993"
      ]
     },
     "execution_count": 60,
     "metadata": {},
     "output_type": "execute_result"
    }
   ],
   "source": [
    "df_penguins_full['bill_length_mm'].mean().round(3)"
   ]
  },
  {
   "cell_type": "markdown",
   "id": "38076367-ae05-4567-8963-12b5e0d77214",
   "metadata": {
    "id": "38076367-ae05-4567-8963-12b5e0d77214"
   },
   "source": [
    "**20.** Which of the following is most strongly correlated with bill length?  a) Body mass?  b) Flipper length?  c) Bill depth?  Show how you arrived at the answer."
   ]
  },
  {
   "cell_type": "markdown",
   "id": "2edbbf08-8f1d-40ea-b137-cdcdbfe02787",
   "metadata": {
    "id": "2edbbf08-8f1d-40ea-b137-cdcdbfe02787"
   },
   "source": [
    "**answer:** kinda had to GPT this, already knew the pearson correlation coefficient and what it is but didnt know how to use the correlation matrix, so i then gpted and saw that there is a .corr() method that uses pearson to find correlation coeffs. \\\n",
    "then i got to know that a correlation matrix can be made, since we wanted correlation with a specific column, i took that column out of the matrix, and then also deleted the row corresponding to correlation with itself cos that will always be 1.\\\n",
    "from the remaining rows in that column, i just had to see which had max correlation and that turned out to be the flipper length."
   ]
  },
  {
   "cell_type": "code",
   "execution_count": null,
   "id": "93840bc0-eda0-48fd-b14d-4405a484c547",
   "metadata": {
    "id": "93840bc0-eda0-48fd-b14d-4405a484c547"
   },
   "outputs": [
    {
     "name": "stdout",
     "output_type": "stream",
     "text": [
      "Most correlated column with bill length column is:  flipper_length_mm\n"
     ]
    }
   ],
   "source": [
    "df_relevant = df_penguins_full[['bill_length_mm', 'bill_depth_mm', 'flipper_length_mm', 'body_mass_g']]\n",
    "\n",
    "#in general correlation matrix\n",
    "corr_matrix = df_relevant.corr()\n",
    "\n",
    "#since we want to find only correlation with bill length,\n",
    "corr_matrix = corr_matrix['bill_length_mm']\n",
    "corr_matrix = corr_matrix[corr_matrix<1] #since we are removing the bill length col itself, we could also do .drop()\n",
    "\n",
    "most_corr_col = corr_matrix.idxmax()\n",
    "print(\"Most correlated column with bill length column is: \", most_corr_col)"
   ]
  },
  {
   "cell_type": "markdown",
   "id": "538ed22f-f2c0-46df-bf41-6a27246e356d",
   "metadata": {
    "id": "538ed22f-f2c0-46df-bf41-6a27246e356d"
   },
   "source": [
    "**21.** How could you show the median flipper length, grouped by species?"
   ]
  },
  {
   "cell_type": "code",
   "execution_count": null,
   "id": "a39321c8-1822-4078-91f9-6f9a36a3bab7",
   "metadata": {
    "id": "a39321c8-1822-4078-91f9-6f9a36a3bab7"
   },
   "outputs": [
    {
     "data": {
      "text/plain": [
       "species\n",
       "Adelie       190.0\n",
       "Chinstrap    196.0\n",
       "Gentoo       216.0\n",
       "Name: flipper_length_mm, dtype: float64"
      ]
     },
     "execution_count": 81,
     "metadata": {},
     "output_type": "execute_result"
    }
   ],
   "source": [
    "grouped = df_penguins_full.groupby('species')\n",
    "grouped['flipper_length_mm'].median()"
   ]
  },
  {
   "cell_type": "markdown",
   "id": "0d6ff0a0-f72b-47a0-a8c5-50cf2e9c8ef4",
   "metadata": {
    "id": "0d6ff0a0-f72b-47a0-a8c5-50cf2e9c8ef4"
   },
   "source": [
    "**22.** Which species has the longest flippers?"
   ]
  },
  {
   "cell_type": "code",
   "execution_count": null,
   "id": "3a407fae",
   "metadata": {},
   "outputs": [
    {
     "data": {
      "text/plain": [
       "'Gentoo'"
      ]
     },
     "execution_count": 82,
     "metadata": {},
     "output_type": "execute_result"
    }
   ],
   "source": [
    "x = grouped['flipper_length_mm'].median()\n",
    "x.idxmax()"
   ]
  },
  {
   "cell_type": "markdown",
   "id": "f50dacfd-a59d-4763-b8bf-004a02d8f05f",
   "metadata": {
    "id": "f50dacfd-a59d-4763-b8bf-004a02d8f05f"
   },
   "source": [
    "**23.** Which two species have the most similar mean weight?  Show how you arrived at the answer."
   ]
  },
  {
   "cell_type": "markdown",
   "id": "be5582aa-447d-4645-85cd-072894fcbb82",
   "metadata": {
    "id": "be5582aa-447d-4645-85cd-072894fcbb82"
   },
   "source": [
    "**answer:** again used some GPT help, but figured out that once i had the df grouped by species and mean weight, we essentially got a series in which we had to identify which difference is the smallest after taking the pairwise difference of all entities. this could be easy in this case since theres only 3 things but for a more general solution we can create a difference matrix. \\\n",
    "apply the function that takes the difference and store it in the matrix, notice the diagonal of the matrix will be zero since its taking difference of the same species within itself. \\\n",
    "to get rid of the zeros, use .mask() method and float('inf') to not get errors with checking for the condition diff == 0 \\\n",
    "now stack the matrix back into 1d and do idxmin to find the two most similar columns."
   ]
  },
  {
   "cell_type": "code",
   "execution_count": null,
   "id": "c61f152b-d401-4c28-aea1-014d01100136",
   "metadata": {
    "id": "c61f152b-d401-4c28-aea1-014d01100136"
   },
   "outputs": [
    {
     "name": "stdout",
     "output_type": "stream",
     "text": [
      "species      Adelie  Chinstrap    Gentoo\n",
      "species                                 \n",
      "Adelie          inf     26.924  1386.273\n",
      "Chinstrap    26.924        inf  1359.349\n",
      "Gentoo     1386.273   1359.349       inf\n",
      "Most similar species based on mean weight: \n",
      "('Adelie', 'Chinstrap')\n"
     ]
    }
   ],
   "source": [
    "grouped = df_penguins_full.groupby('species')['body_mass_g'].mean()\n",
    "diff_matrix = grouped.apply(lambda x: abs(grouped-x).round(3))\n",
    "diff_matrix = diff_matrix.mask(diff_matrix == 0, float('inf'))\n",
    "print(diff_matrix)\n",
    "print(\"Most similar species based on mean weight: \")\n",
    "print(diff_matrix.stack().idxmin())"
   ]
  },
  {
   "cell_type": "markdown",
   "id": "ddca88e5-374f-4c8a-bf61-26b70a8b3a90",
   "metadata": {
    "id": "ddca88e5-374f-4c8a-bf61-26b70a8b3a90"
   },
   "source": [
    "**24.** How could you sort the rows by bill length?"
   ]
  },
  {
   "cell_type": "code",
   "execution_count": null,
   "id": "4faabd67-0417-45ca-b907-7a170f4e9b71",
   "metadata": {
    "id": "4faabd67-0417-45ca-b907-7a170f4e9b71"
   },
   "outputs": [
    {
     "data": {
      "text/html": [
       "<div>\n",
       "<style scoped>\n",
       "    .dataframe tbody tr th:only-of-type {\n",
       "        vertical-align: middle;\n",
       "    }\n",
       "\n",
       "    .dataframe tbody tr th {\n",
       "        vertical-align: top;\n",
       "    }\n",
       "\n",
       "    .dataframe thead th {\n",
       "        text-align: right;\n",
       "    }\n",
       "</style>\n",
       "<table border=\"1\" class=\"dataframe\">\n",
       "  <thead>\n",
       "    <tr style=\"text-align: right;\">\n",
       "      <th></th>\n",
       "      <th>species</th>\n",
       "      <th>island</th>\n",
       "      <th>bill_length_mm</th>\n",
       "      <th>bill_depth_mm</th>\n",
       "      <th>flipper_length_mm</th>\n",
       "      <th>body_mass_g</th>\n",
       "      <th>sex</th>\n",
       "    </tr>\n",
       "  </thead>\n",
       "  <tbody>\n",
       "    <tr>\n",
       "      <th>142</th>\n",
       "      <td>Adelie</td>\n",
       "      <td>Dream</td>\n",
       "      <td>32.1</td>\n",
       "      <td>15.5</td>\n",
       "      <td>188.0</td>\n",
       "      <td>3050.0</td>\n",
       "      <td>Female</td>\n",
       "    </tr>\n",
       "    <tr>\n",
       "      <th>98</th>\n",
       "      <td>Adelie</td>\n",
       "      <td>Dream</td>\n",
       "      <td>33.1</td>\n",
       "      <td>16.1</td>\n",
       "      <td>178.0</td>\n",
       "      <td>2900.0</td>\n",
       "      <td>Female</td>\n",
       "    </tr>\n",
       "    <tr>\n",
       "      <th>70</th>\n",
       "      <td>Adelie</td>\n",
       "      <td>Torgersen</td>\n",
       "      <td>33.5</td>\n",
       "      <td>19.0</td>\n",
       "      <td>190.0</td>\n",
       "      <td>3600.0</td>\n",
       "      <td>Female</td>\n",
       "    </tr>\n",
       "    <tr>\n",
       "      <th>92</th>\n",
       "      <td>Adelie</td>\n",
       "      <td>Dream</td>\n",
       "      <td>34.0</td>\n",
       "      <td>17.1</td>\n",
       "      <td>185.0</td>\n",
       "      <td>3400.0</td>\n",
       "      <td>Female</td>\n",
       "    </tr>\n",
       "    <tr>\n",
       "      <th>18</th>\n",
       "      <td>Adelie</td>\n",
       "      <td>Torgersen</td>\n",
       "      <td>34.4</td>\n",
       "      <td>18.4</td>\n",
       "      <td>184.0</td>\n",
       "      <td>3325.0</td>\n",
       "      <td>Female</td>\n",
       "    </tr>\n",
       "    <tr>\n",
       "      <th>...</th>\n",
       "      <td>...</td>\n",
       "      <td>...</td>\n",
       "      <td>...</td>\n",
       "      <td>...</td>\n",
       "      <td>...</td>\n",
       "      <td>...</td>\n",
       "      <td>...</td>\n",
       "    </tr>\n",
       "    <tr>\n",
       "      <th>335</th>\n",
       "      <td>Gentoo</td>\n",
       "      <td>Biscoe</td>\n",
       "      <td>55.1</td>\n",
       "      <td>16.0</td>\n",
       "      <td>230.0</td>\n",
       "      <td>5850.0</td>\n",
       "      <td>Male</td>\n",
       "    </tr>\n",
       "    <tr>\n",
       "      <th>215</th>\n",
       "      <td>Chinstrap</td>\n",
       "      <td>Dream</td>\n",
       "      <td>55.8</td>\n",
       "      <td>19.8</td>\n",
       "      <td>207.0</td>\n",
       "      <td>4000.0</td>\n",
       "      <td>Male</td>\n",
       "    </tr>\n",
       "    <tr>\n",
       "      <th>321</th>\n",
       "      <td>Gentoo</td>\n",
       "      <td>Biscoe</td>\n",
       "      <td>55.9</td>\n",
       "      <td>17.0</td>\n",
       "      <td>228.0</td>\n",
       "      <td>5600.0</td>\n",
       "      <td>Male</td>\n",
       "    </tr>\n",
       "    <tr>\n",
       "      <th>169</th>\n",
       "      <td>Chinstrap</td>\n",
       "      <td>Dream</td>\n",
       "      <td>58.0</td>\n",
       "      <td>17.8</td>\n",
       "      <td>181.0</td>\n",
       "      <td>3700.0</td>\n",
       "      <td>Female</td>\n",
       "    </tr>\n",
       "    <tr>\n",
       "      <th>253</th>\n",
       "      <td>Gentoo</td>\n",
       "      <td>Biscoe</td>\n",
       "      <td>59.6</td>\n",
       "      <td>17.0</td>\n",
       "      <td>230.0</td>\n",
       "      <td>6050.0</td>\n",
       "      <td>Male</td>\n",
       "    </tr>\n",
       "  </tbody>\n",
       "</table>\n",
       "<p>333 rows × 7 columns</p>\n",
       "</div>"
      ],
      "text/plain": [
       "       species     island  bill_length_mm  bill_depth_mm  flipper_length_mm  \\\n",
       "142     Adelie      Dream            32.1           15.5              188.0   \n",
       "98      Adelie      Dream            33.1           16.1              178.0   \n",
       "70      Adelie  Torgersen            33.5           19.0              190.0   \n",
       "92      Adelie      Dream            34.0           17.1              185.0   \n",
       "18      Adelie  Torgersen            34.4           18.4              184.0   \n",
       "..         ...        ...             ...            ...                ...   \n",
       "335     Gentoo     Biscoe            55.1           16.0              230.0   \n",
       "215  Chinstrap      Dream            55.8           19.8              207.0   \n",
       "321     Gentoo     Biscoe            55.9           17.0              228.0   \n",
       "169  Chinstrap      Dream            58.0           17.8              181.0   \n",
       "253     Gentoo     Biscoe            59.6           17.0              230.0   \n",
       "\n",
       "     body_mass_g     sex  \n",
       "142       3050.0  Female  \n",
       "98        2900.0  Female  \n",
       "70        3600.0  Female  \n",
       "92        3400.0  Female  \n",
       "18        3325.0  Female  \n",
       "..           ...     ...  \n",
       "335       5850.0    Male  \n",
       "215       4000.0    Male  \n",
       "321       5600.0    Male  \n",
       "169       3700.0  Female  \n",
       "253       6050.0    Male  \n",
       "\n",
       "[333 rows x 7 columns]"
      ]
     },
     "execution_count": 124,
     "metadata": {},
     "output_type": "execute_result"
    }
   ],
   "source": [
    "df_penguins_full.sort_values(by = 'bill_length_mm', ascending=True, inplace=False)"
   ]
  },
  {
   "cell_type": "markdown",
   "id": "56d12fe3-805d-4f79-bf83-e515b5070229",
   "metadata": {
    "id": "56d12fe3-805d-4f79-bf83-e515b5070229"
   },
   "source": [
    "**25.** How could you run the same sort in descending order?"
   ]
  },
  {
   "cell_type": "code",
   "execution_count": null,
   "id": "02544f08-974e-463c-a2da-ac0b3ba3ff0d",
   "metadata": {
    "id": "02544f08-974e-463c-a2da-ac0b3ba3ff0d"
   },
   "outputs": [
    {
     "data": {
      "text/html": [
       "<div>\n",
       "<style scoped>\n",
       "    .dataframe tbody tr th:only-of-type {\n",
       "        vertical-align: middle;\n",
       "    }\n",
       "\n",
       "    .dataframe tbody tr th {\n",
       "        vertical-align: top;\n",
       "    }\n",
       "\n",
       "    .dataframe thead th {\n",
       "        text-align: right;\n",
       "    }\n",
       "</style>\n",
       "<table border=\"1\" class=\"dataframe\">\n",
       "  <thead>\n",
       "    <tr style=\"text-align: right;\">\n",
       "      <th></th>\n",
       "      <th>species</th>\n",
       "      <th>island</th>\n",
       "      <th>bill_length_mm</th>\n",
       "      <th>bill_depth_mm</th>\n",
       "      <th>flipper_length_mm</th>\n",
       "      <th>body_mass_g</th>\n",
       "      <th>sex</th>\n",
       "    </tr>\n",
       "  </thead>\n",
       "  <tbody>\n",
       "    <tr>\n",
       "      <th>253</th>\n",
       "      <td>Gentoo</td>\n",
       "      <td>Biscoe</td>\n",
       "      <td>59.6</td>\n",
       "      <td>17.0</td>\n",
       "      <td>230.0</td>\n",
       "      <td>6050.0</td>\n",
       "      <td>Male</td>\n",
       "    </tr>\n",
       "    <tr>\n",
       "      <th>169</th>\n",
       "      <td>Chinstrap</td>\n",
       "      <td>Dream</td>\n",
       "      <td>58.0</td>\n",
       "      <td>17.8</td>\n",
       "      <td>181.0</td>\n",
       "      <td>3700.0</td>\n",
       "      <td>Female</td>\n",
       "    </tr>\n",
       "    <tr>\n",
       "      <th>321</th>\n",
       "      <td>Gentoo</td>\n",
       "      <td>Biscoe</td>\n",
       "      <td>55.9</td>\n",
       "      <td>17.0</td>\n",
       "      <td>228.0</td>\n",
       "      <td>5600.0</td>\n",
       "      <td>Male</td>\n",
       "    </tr>\n",
       "    <tr>\n",
       "      <th>215</th>\n",
       "      <td>Chinstrap</td>\n",
       "      <td>Dream</td>\n",
       "      <td>55.8</td>\n",
       "      <td>19.8</td>\n",
       "      <td>207.0</td>\n",
       "      <td>4000.0</td>\n",
       "      <td>Male</td>\n",
       "    </tr>\n",
       "    <tr>\n",
       "      <th>335</th>\n",
       "      <td>Gentoo</td>\n",
       "      <td>Biscoe</td>\n",
       "      <td>55.1</td>\n",
       "      <td>16.0</td>\n",
       "      <td>230.0</td>\n",
       "      <td>5850.0</td>\n",
       "      <td>Male</td>\n",
       "    </tr>\n",
       "    <tr>\n",
       "      <th>...</th>\n",
       "      <td>...</td>\n",
       "      <td>...</td>\n",
       "      <td>...</td>\n",
       "      <td>...</td>\n",
       "      <td>...</td>\n",
       "      <td>...</td>\n",
       "      <td>...</td>\n",
       "    </tr>\n",
       "    <tr>\n",
       "      <th>18</th>\n",
       "      <td>Adelie</td>\n",
       "      <td>Torgersen</td>\n",
       "      <td>34.4</td>\n",
       "      <td>18.4</td>\n",
       "      <td>184.0</td>\n",
       "      <td>3325.0</td>\n",
       "      <td>Female</td>\n",
       "    </tr>\n",
       "    <tr>\n",
       "      <th>92</th>\n",
       "      <td>Adelie</td>\n",
       "      <td>Dream</td>\n",
       "      <td>34.0</td>\n",
       "      <td>17.1</td>\n",
       "      <td>185.0</td>\n",
       "      <td>3400.0</td>\n",
       "      <td>Female</td>\n",
       "    </tr>\n",
       "    <tr>\n",
       "      <th>70</th>\n",
       "      <td>Adelie</td>\n",
       "      <td>Torgersen</td>\n",
       "      <td>33.5</td>\n",
       "      <td>19.0</td>\n",
       "      <td>190.0</td>\n",
       "      <td>3600.0</td>\n",
       "      <td>Female</td>\n",
       "    </tr>\n",
       "    <tr>\n",
       "      <th>98</th>\n",
       "      <td>Adelie</td>\n",
       "      <td>Dream</td>\n",
       "      <td>33.1</td>\n",
       "      <td>16.1</td>\n",
       "      <td>178.0</td>\n",
       "      <td>2900.0</td>\n",
       "      <td>Female</td>\n",
       "    </tr>\n",
       "    <tr>\n",
       "      <th>142</th>\n",
       "      <td>Adelie</td>\n",
       "      <td>Dream</td>\n",
       "      <td>32.1</td>\n",
       "      <td>15.5</td>\n",
       "      <td>188.0</td>\n",
       "      <td>3050.0</td>\n",
       "      <td>Female</td>\n",
       "    </tr>\n",
       "  </tbody>\n",
       "</table>\n",
       "<p>333 rows × 7 columns</p>\n",
       "</div>"
      ],
      "text/plain": [
       "       species     island  bill_length_mm  bill_depth_mm  flipper_length_mm  \\\n",
       "253     Gentoo     Biscoe            59.6           17.0              230.0   \n",
       "169  Chinstrap      Dream            58.0           17.8              181.0   \n",
       "321     Gentoo     Biscoe            55.9           17.0              228.0   \n",
       "215  Chinstrap      Dream            55.8           19.8              207.0   \n",
       "335     Gentoo     Biscoe            55.1           16.0              230.0   \n",
       "..         ...        ...             ...            ...                ...   \n",
       "18      Adelie  Torgersen            34.4           18.4              184.0   \n",
       "92      Adelie      Dream            34.0           17.1              185.0   \n",
       "70      Adelie  Torgersen            33.5           19.0              190.0   \n",
       "98      Adelie      Dream            33.1           16.1              178.0   \n",
       "142     Adelie      Dream            32.1           15.5              188.0   \n",
       "\n",
       "     body_mass_g     sex  \n",
       "253       6050.0    Male  \n",
       "169       3700.0  Female  \n",
       "321       5600.0    Male  \n",
       "215       4000.0    Male  \n",
       "335       5850.0    Male  \n",
       "..           ...     ...  \n",
       "18        3325.0  Female  \n",
       "92        3400.0  Female  \n",
       "70        3600.0  Female  \n",
       "98        2900.0  Female  \n",
       "142       3050.0  Female  \n",
       "\n",
       "[333 rows x 7 columns]"
      ]
     },
     "execution_count": 125,
     "metadata": {},
     "output_type": "execute_result"
    }
   ],
   "source": [
    "df_penguins_full.sort_values(by = 'bill_length_mm', ascending=False, inplace=False)"
   ]
  },
  {
   "cell_type": "markdown",
   "id": "3b69d24f-cd5b-41c9-a4eb-b8325251fe7b",
   "metadata": {
    "id": "3b69d24f-cd5b-41c9-a4eb-b8325251fe7b"
   },
   "source": [
    "**26.** How could you sort by species first, then by body mass?"
   ]
  },
  {
   "cell_type": "code",
   "execution_count": null,
   "id": "bda80b1d-2773-493f-b13d-7b2fa60e6849",
   "metadata": {
    "id": "bda80b1d-2773-493f-b13d-7b2fa60e6849"
   },
   "outputs": [
    {
     "data": {
      "text/html": [
       "<div>\n",
       "<style scoped>\n",
       "    .dataframe tbody tr th:only-of-type {\n",
       "        vertical-align: middle;\n",
       "    }\n",
       "\n",
       "    .dataframe tbody tr th {\n",
       "        vertical-align: top;\n",
       "    }\n",
       "\n",
       "    .dataframe thead th {\n",
       "        text-align: right;\n",
       "    }\n",
       "</style>\n",
       "<table border=\"1\" class=\"dataframe\">\n",
       "  <thead>\n",
       "    <tr style=\"text-align: right;\">\n",
       "      <th></th>\n",
       "      <th>species</th>\n",
       "      <th>island</th>\n",
       "      <th>bill_length_mm</th>\n",
       "      <th>bill_depth_mm</th>\n",
       "      <th>flipper_length_mm</th>\n",
       "      <th>body_mass_g</th>\n",
       "      <th>sex</th>\n",
       "    </tr>\n",
       "  </thead>\n",
       "  <tbody>\n",
       "    <tr>\n",
       "      <th>58</th>\n",
       "      <td>Adelie</td>\n",
       "      <td>Biscoe</td>\n",
       "      <td>36.5</td>\n",
       "      <td>16.6</td>\n",
       "      <td>181.0</td>\n",
       "      <td>2850.0</td>\n",
       "      <td>Female</td>\n",
       "    </tr>\n",
       "    <tr>\n",
       "      <th>64</th>\n",
       "      <td>Adelie</td>\n",
       "      <td>Biscoe</td>\n",
       "      <td>36.4</td>\n",
       "      <td>17.1</td>\n",
       "      <td>184.0</td>\n",
       "      <td>2850.0</td>\n",
       "      <td>Female</td>\n",
       "    </tr>\n",
       "    <tr>\n",
       "      <th>54</th>\n",
       "      <td>Adelie</td>\n",
       "      <td>Biscoe</td>\n",
       "      <td>34.5</td>\n",
       "      <td>18.1</td>\n",
       "      <td>187.0</td>\n",
       "      <td>2900.0</td>\n",
       "      <td>Female</td>\n",
       "    </tr>\n",
       "    <tr>\n",
       "      <th>98</th>\n",
       "      <td>Adelie</td>\n",
       "      <td>Dream</td>\n",
       "      <td>33.1</td>\n",
       "      <td>16.1</td>\n",
       "      <td>178.0</td>\n",
       "      <td>2900.0</td>\n",
       "      <td>Female</td>\n",
       "    </tr>\n",
       "    <tr>\n",
       "      <th>116</th>\n",
       "      <td>Adelie</td>\n",
       "      <td>Torgersen</td>\n",
       "      <td>38.6</td>\n",
       "      <td>17.0</td>\n",
       "      <td>188.0</td>\n",
       "      <td>2900.0</td>\n",
       "      <td>Female</td>\n",
       "    </tr>\n",
       "    <tr>\n",
       "      <th>...</th>\n",
       "      <td>...</td>\n",
       "      <td>...</td>\n",
       "      <td>...</td>\n",
       "      <td>...</td>\n",
       "      <td>...</td>\n",
       "      <td>...</td>\n",
       "      <td>...</td>\n",
       "    </tr>\n",
       "    <tr>\n",
       "      <th>331</th>\n",
       "      <td>Gentoo</td>\n",
       "      <td>Biscoe</td>\n",
       "      <td>49.8</td>\n",
       "      <td>15.9</td>\n",
       "      <td>229.0</td>\n",
       "      <td>5950.0</td>\n",
       "      <td>Male</td>\n",
       "    </tr>\n",
       "    <tr>\n",
       "      <th>297</th>\n",
       "      <td>Gentoo</td>\n",
       "      <td>Biscoe</td>\n",
       "      <td>51.1</td>\n",
       "      <td>16.3</td>\n",
       "      <td>220.0</td>\n",
       "      <td>6000.0</td>\n",
       "      <td>Male</td>\n",
       "    </tr>\n",
       "    <tr>\n",
       "      <th>337</th>\n",
       "      <td>Gentoo</td>\n",
       "      <td>Biscoe</td>\n",
       "      <td>48.8</td>\n",
       "      <td>16.2</td>\n",
       "      <td>222.0</td>\n",
       "      <td>6000.0</td>\n",
       "      <td>Male</td>\n",
       "    </tr>\n",
       "    <tr>\n",
       "      <th>253</th>\n",
       "      <td>Gentoo</td>\n",
       "      <td>Biscoe</td>\n",
       "      <td>59.6</td>\n",
       "      <td>17.0</td>\n",
       "      <td>230.0</td>\n",
       "      <td>6050.0</td>\n",
       "      <td>Male</td>\n",
       "    </tr>\n",
       "    <tr>\n",
       "      <th>237</th>\n",
       "      <td>Gentoo</td>\n",
       "      <td>Biscoe</td>\n",
       "      <td>49.2</td>\n",
       "      <td>15.2</td>\n",
       "      <td>221.0</td>\n",
       "      <td>6300.0</td>\n",
       "      <td>Male</td>\n",
       "    </tr>\n",
       "  </tbody>\n",
       "</table>\n",
       "<p>333 rows × 7 columns</p>\n",
       "</div>"
      ],
      "text/plain": [
       "    species     island  bill_length_mm  bill_depth_mm  flipper_length_mm  \\\n",
       "58   Adelie     Biscoe            36.5           16.6              181.0   \n",
       "64   Adelie     Biscoe            36.4           17.1              184.0   \n",
       "54   Adelie     Biscoe            34.5           18.1              187.0   \n",
       "98   Adelie      Dream            33.1           16.1              178.0   \n",
       "116  Adelie  Torgersen            38.6           17.0              188.0   \n",
       "..      ...        ...             ...            ...                ...   \n",
       "331  Gentoo     Biscoe            49.8           15.9              229.0   \n",
       "297  Gentoo     Biscoe            51.1           16.3              220.0   \n",
       "337  Gentoo     Biscoe            48.8           16.2              222.0   \n",
       "253  Gentoo     Biscoe            59.6           17.0              230.0   \n",
       "237  Gentoo     Biscoe            49.2           15.2              221.0   \n",
       "\n",
       "     body_mass_g     sex  \n",
       "58        2850.0  Female  \n",
       "64        2850.0  Female  \n",
       "54        2900.0  Female  \n",
       "98        2900.0  Female  \n",
       "116       2900.0  Female  \n",
       "..           ...     ...  \n",
       "331       5950.0    Male  \n",
       "297       6000.0    Male  \n",
       "337       6000.0    Male  \n",
       "253       6050.0    Male  \n",
       "237       6300.0    Male  \n",
       "\n",
       "[333 rows x 7 columns]"
      ]
     },
     "execution_count": 136,
     "metadata": {},
     "output_type": "execute_result"
    }
   ],
   "source": [
    "df_penguins_full.sort_values(by = ['species','body_mass_g'], axis=0, ascending=[True,True])"
   ]
  },
  {
   "cell_type": "markdown",
   "id": "82890e5f-d9f7-4729-a179-b0883f1bc498",
   "metadata": {
    "id": "82890e5f-d9f7-4729-a179-b0883f1bc498"
   },
   "source": [
    "## Selecting Rows, Columns, and Cells\n",
    "\n",
    "Let's look at some precious stones now, and leave the poor penguins alone for a while.  Let's look at some precious stones now, and leave the poor penguins alone for a while.  "
   ]
  },
  {
   "cell_type": "markdown",
   "id": "5d1abb35-5d24-4bd2-89d4-dd9dbbdadccf",
   "metadata": {
    "id": "5d1abb35-5d24-4bd2-89d4-dd9dbbdadccf"
   },
   "source": [
    "**27.** Load the Seaborn \"diamonds\" dataset into a Pandas dataframe named diamonds."
   ]
  },
  {
   "cell_type": "code",
   "execution_count": null,
   "id": "9247186e-0c21-43d3-88db-79c7f4ecbc06",
   "metadata": {
    "id": "9247186e-0c21-43d3-88db-79c7f4ecbc06"
   },
   "outputs": [],
   "source": [
    "diamonds = sb.load_dataset('diamonds')"
   ]
  },
  {
   "cell_type": "markdown",
   "id": "cbe20f32-5cb2-4191-9994-dbadaf7488dd",
   "metadata": {
    "id": "cbe20f32-5cb2-4191-9994-dbadaf7488dd"
   },
   "source": [
    "**28.** Display the columns that are available."
   ]
  },
  {
   "cell_type": "code",
   "execution_count": null,
   "id": "c12fd634-2c83-4130-87f3-5580e42ce496",
   "metadata": {
    "id": "c12fd634-2c83-4130-87f3-5580e42ce496"
   },
   "outputs": [
    {
     "data": {
      "text/plain": [
       "Index(['carat', 'cut', 'color', 'clarity', 'depth', 'table', 'price', 'x', 'y',\n",
       "       'z'],\n",
       "      dtype='object')"
      ]
     },
     "execution_count": 138,
     "metadata": {},
     "output_type": "execute_result"
    }
   ],
   "source": [
    "diamonds.columns"
   ]
  },
  {
   "cell_type": "markdown",
   "id": "505b677e-c1bb-4daa-8615-a78ea4860a71",
   "metadata": {
    "id": "505b677e-c1bb-4daa-8615-a78ea4860a71"
   },
   "source": [
    "**29.** If you select a single column from the diamonds DataFrame, what will be the type of the return value?"
   ]
  },
  {
   "cell_type": "markdown",
   "id": "10307c17-e2ad-48ce-b0b9-ddde83b5f6c3",
   "metadata": {
    "id": "10307c17-e2ad-48ce-b0b9-ddde83b5f6c3"
   },
   "source": [
    "**answer:** the type of the column can be determined by column.type() method"
   ]
  },
  {
   "cell_type": "markdown",
   "id": "5f5d7cae-b784-449d-be28-a1473721b4fa",
   "metadata": {
    "id": "5f5d7cae-b784-449d-be28-a1473721b4fa"
   },
   "source": [
    "**30.** Select the 'table' column and show its type"
   ]
  },
  {
   "cell_type": "code",
   "execution_count": null,
   "id": "18963cfe-266d-4ca6-9471-b47000c35ee5",
   "metadata": {
    "id": "18963cfe-266d-4ca6-9471-b47000c35ee5"
   },
   "outputs": [
    {
     "data": {
      "text/plain": [
       "pandas.core.series.Series"
      ]
     },
     "execution_count": 141,
     "metadata": {},
     "output_type": "execute_result"
    }
   ],
   "source": [
    "table = diamonds['table']\n",
    "type(table)"
   ]
  },
  {
   "cell_type": "markdown",
   "id": "82de5bb4-baed-422e-83a6-d7581ea15ab8",
   "metadata": {
    "id": "82de5bb4-baed-422e-83a6-d7581ea15ab8"
   },
   "source": [
    "**31.** Select the first ten rows of the price and carat columns ten rows of the diamonds DataFrame into a variable called subset, and display them."
   ]
  },
  {
   "cell_type": "code",
   "execution_count": null,
   "id": "55ccbc17-b267-4ffb-9876-d2192ba2437d",
   "metadata": {
    "id": "55ccbc17-b267-4ffb-9876-d2192ba2437d"
   },
   "outputs": [
    {
     "name": "stdout",
     "output_type": "stream",
     "text": [
      "    price  carat\n",
      "0     326   0.23\n",
      "1     326   0.21\n",
      "2     327   0.23\n",
      "3     334   0.29\n",
      "4     335   0.31\n",
      "5     336   0.24\n",
      "6     336   0.24\n",
      "7     337   0.26\n",
      "8     337   0.22\n",
      "9     338   0.23\n",
      "10    339   0.30\n"
     ]
    }
   ],
   "source": [
    "subset = diamonds.loc[:10, ['price', 'carat']]\n",
    "print(subset)"
   ]
  },
  {
   "cell_type": "markdown",
   "id": "fdb4c150-ebdc-420d-979b-14231fc4764b",
   "metadata": {
    "id": "fdb4c150-ebdc-420d-979b-14231fc4764b"
   },
   "source": [
    "**32.** For a given column, show the code to display the datatype of the _values_ in the column?  "
   ]
  },
  {
   "cell_type": "code",
   "execution_count": null,
   "id": "bb6b2d54-e58f-4da4-bcf2-a4d08ee34602",
   "metadata": {
    "id": "bb6b2d54-e58f-4da4-bcf2-a4d08ee34602"
   },
   "outputs": [
    {
     "name": "stdout",
     "output_type": "stream",
     "text": [
      "category\n"
     ]
    }
   ],
   "source": [
    "#use the .dtype attribute.\n",
    "print(diamonds['cut'].dtype)"
   ]
  },
  {
   "cell_type": "markdown",
   "id": "ca510203-8c7e-48a1-81c3-c9e1bc5aa7b1",
   "metadata": {
    "id": "ca510203-8c7e-48a1-81c3-c9e1bc5aa7b1"
   },
   "source": [
    "**33.** Select the first row of the diamonds DataFrame into a variable called row."
   ]
  },
  {
   "cell_type": "code",
   "execution_count": null,
   "id": "8535dd1a-db9d-49c7-a6b2-0257616d7334",
   "metadata": {
    "id": "8535dd1a-db9d-49c7-a6b2-0257616d7334"
   },
   "outputs": [],
   "source": [
    "row = diamonds.loc[0]"
   ]
  },
  {
   "cell_type": "markdown",
   "id": "edbd9394-ec43-479c-919a-5eab17acb792",
   "metadata": {
    "id": "edbd9394-ec43-479c-919a-5eab17acb792"
   },
   "source": [
    "**34.** What would you expect the data type of the row to be?  Display it."
   ]
  },
  {
   "cell_type": "markdown",
   "id": "22d7c0bd-cf41-491e-8fc5-41aed540c16e",
   "metadata": {
    "id": "22d7c0bd-cf41-491e-8fc5-41aed540c16e"
   },
   "source": [
    "A Pandas series"
   ]
  },
  {
   "cell_type": "code",
   "execution_count": null,
   "id": "777274bd-3653-4d0c-b73e-75f879cb48ae",
   "metadata": {
    "id": "777274bd-3653-4d0c-b73e-75f879cb48ae"
   },
   "outputs": [
    {
     "name": "stdout",
     "output_type": "stream",
     "text": [
      "object\n"
     ]
    }
   ],
   "source": [
    "print(row.dtype)"
   ]
  },
  {
   "cell_type": "markdown",
   "id": "f6027d4a-4df5-45c6-bb82-c4ed046c2681",
   "metadata": {
    "id": "f6027d4a-4df5-45c6-bb82-c4ed046c2681"
   },
   "source": [
    "**35.** Can you discover the names of the columns using only the row returned in #33?  Why or why not?Can you discover the names of the columns using only the row returned in #33?  Why or why not?"
   ]
  },
  {
   "cell_type": "markdown",
   "id": "55c063e1-2346-4782-9133-e684c2714fe0",
   "metadata": {
    "id": "55c063e1-2346-4782-9133-e684c2714fe0"
   },
   "source": [
    "Yes, because a row series should have the columns as the index (See below):"
   ]
  },
  {
   "cell_type": "code",
   "execution_count": null,
   "id": "1a5b9a02-9764-43b7-b49b-4522506e5669",
   "metadata": {
    "id": "1a5b9a02-9764-43b7-b49b-4522506e5669"
   },
   "outputs": [
    {
     "name": "stdout",
     "output_type": "stream",
     "text": [
      "Index(['carat', 'cut', 'color', 'clarity', 'depth', 'table', 'price', 'x', 'y',\n",
      "       'z'],\n",
      "      dtype='object')\n"
     ]
    }
   ],
   "source": [
    "print(row.index)"
   ]
  },
  {
   "cell_type": "markdown",
   "id": "369f761e-0dbe-4589-835f-526ab8f9884f",
   "metadata": {
    "id": "369f761e-0dbe-4589-835f-526ab8f9884f"
   },
   "source": [
    "**36.** Select the row with the highest priced diamond."
   ]
  },
  {
   "cell_type": "code",
   "execution_count": null,
   "id": "41f8510d-cf79-43eb-910c-1c03aebc21ba",
   "metadata": {
    "id": "41f8510d-cf79-43eb-910c-1c03aebc21ba"
   },
   "outputs": [
    {
     "data": {
      "text/plain": [
       "carat         2.29\n",
       "cut        Premium\n",
       "color            I\n",
       "clarity        VS2\n",
       "depth         60.8\n",
       "table         60.0\n",
       "price        18823\n",
       "x              8.5\n",
       "y             8.47\n",
       "z             5.16\n",
       "Name: 27749, dtype: object"
      ]
     },
     "execution_count": 157,
     "metadata": {},
     "output_type": "execute_result"
    }
   ],
   "source": [
    "diamonds.loc[diamonds['price'].idxmax()]"
   ]
  },
  {
   "cell_type": "markdown",
   "id": "2694d362-a5d1-4ad9-8b09-f408d7531948",
   "metadata": {
    "id": "2694d362-a5d1-4ad9-8b09-f408d7531948"
   },
   "source": [
    "**37.** Select the row with the lowest priced diamond."
   ]
  },
  {
   "cell_type": "code",
   "execution_count": null,
   "id": "b6559ffa-fbb6-4ce9-b882-5bccbf5403e4",
   "metadata": {
    "id": "b6559ffa-fbb6-4ce9-b882-5bccbf5403e4"
   },
   "outputs": [
    {
     "data": {
      "text/plain": [
       "carat       0.23\n",
       "cut        Ideal\n",
       "color          E\n",
       "clarity      SI2\n",
       "depth       61.5\n",
       "table       55.0\n",
       "price        326\n",
       "x           3.95\n",
       "y           3.98\n",
       "z           2.43\n",
       "Name: 0, dtype: object"
      ]
     },
     "execution_count": 159,
     "metadata": {},
     "output_type": "execute_result"
    }
   ],
   "source": [
    "diamonds.loc[diamonds['price'].idxmin()]"
   ]
  },
  {
   "cell_type": "markdown",
   "id": "e366af69-1739-48c5-b964-298fa294bc7a",
   "metadata": {
    "id": "e366af69-1739-48c5-b964-298fa294bc7a"
   },
   "source": [
    "## Some Exercises Using Time Series"
   ]
  },
  {
   "cell_type": "markdown",
   "id": "ca92f2e5-c4f3-460e-b3b1-0d6bff4694ff",
   "metadata": {
    "id": "ca92f2e5-c4f3-460e-b3b1-0d6bff4694ff"
   },
   "source": [
    "**38.** Load the taxis dataset into a DataFrame, ```taxis```."
   ]
  },
  {
   "cell_type": "code",
   "execution_count": null,
   "id": "5bb6dee5-3828-4a80-8a35-98397639e5db",
   "metadata": {
    "id": "5bb6dee5-3828-4a80-8a35-98397639e5db"
   },
   "outputs": [
    {
     "data": {
      "text/html": [
       "<div>\n",
       "<style scoped>\n",
       "    .dataframe tbody tr th:only-of-type {\n",
       "        vertical-align: middle;\n",
       "    }\n",
       "\n",
       "    .dataframe tbody tr th {\n",
       "        vertical-align: top;\n",
       "    }\n",
       "\n",
       "    .dataframe thead th {\n",
       "        text-align: right;\n",
       "    }\n",
       "</style>\n",
       "<table border=\"1\" class=\"dataframe\">\n",
       "  <thead>\n",
       "    <tr style=\"text-align: right;\">\n",
       "      <th></th>\n",
       "      <th>pickup</th>\n",
       "      <th>dropoff</th>\n",
       "      <th>passengers</th>\n",
       "      <th>distance</th>\n",
       "      <th>fare</th>\n",
       "      <th>tip</th>\n",
       "      <th>tolls</th>\n",
       "      <th>total</th>\n",
       "      <th>color</th>\n",
       "      <th>payment</th>\n",
       "      <th>pickup_zone</th>\n",
       "      <th>dropoff_zone</th>\n",
       "      <th>pickup_borough</th>\n",
       "      <th>dropoff_borough</th>\n",
       "    </tr>\n",
       "  </thead>\n",
       "  <tbody>\n",
       "    <tr>\n",
       "      <th>0</th>\n",
       "      <td>2019-03-23 20:21:09</td>\n",
       "      <td>2019-03-23 20:27:24</td>\n",
       "      <td>1</td>\n",
       "      <td>1.60</td>\n",
       "      <td>7.0</td>\n",
       "      <td>2.15</td>\n",
       "      <td>0.0</td>\n",
       "      <td>12.95</td>\n",
       "      <td>yellow</td>\n",
       "      <td>credit card</td>\n",
       "      <td>Lenox Hill West</td>\n",
       "      <td>UN/Turtle Bay South</td>\n",
       "      <td>Manhattan</td>\n",
       "      <td>Manhattan</td>\n",
       "    </tr>\n",
       "    <tr>\n",
       "      <th>1</th>\n",
       "      <td>2019-03-04 16:11:55</td>\n",
       "      <td>2019-03-04 16:19:00</td>\n",
       "      <td>1</td>\n",
       "      <td>0.79</td>\n",
       "      <td>5.0</td>\n",
       "      <td>0.00</td>\n",
       "      <td>0.0</td>\n",
       "      <td>9.30</td>\n",
       "      <td>yellow</td>\n",
       "      <td>cash</td>\n",
       "      <td>Upper West Side South</td>\n",
       "      <td>Upper West Side South</td>\n",
       "      <td>Manhattan</td>\n",
       "      <td>Manhattan</td>\n",
       "    </tr>\n",
       "    <tr>\n",
       "      <th>2</th>\n",
       "      <td>2019-03-27 17:53:01</td>\n",
       "      <td>2019-03-27 18:00:25</td>\n",
       "      <td>1</td>\n",
       "      <td>1.37</td>\n",
       "      <td>7.5</td>\n",
       "      <td>2.36</td>\n",
       "      <td>0.0</td>\n",
       "      <td>14.16</td>\n",
       "      <td>yellow</td>\n",
       "      <td>credit card</td>\n",
       "      <td>Alphabet City</td>\n",
       "      <td>West Village</td>\n",
       "      <td>Manhattan</td>\n",
       "      <td>Manhattan</td>\n",
       "    </tr>\n",
       "    <tr>\n",
       "      <th>3</th>\n",
       "      <td>2019-03-10 01:23:59</td>\n",
       "      <td>2019-03-10 01:49:51</td>\n",
       "      <td>1</td>\n",
       "      <td>7.70</td>\n",
       "      <td>27.0</td>\n",
       "      <td>6.15</td>\n",
       "      <td>0.0</td>\n",
       "      <td>36.95</td>\n",
       "      <td>yellow</td>\n",
       "      <td>credit card</td>\n",
       "      <td>Hudson Sq</td>\n",
       "      <td>Yorkville West</td>\n",
       "      <td>Manhattan</td>\n",
       "      <td>Manhattan</td>\n",
       "    </tr>\n",
       "    <tr>\n",
       "      <th>4</th>\n",
       "      <td>2019-03-30 13:27:42</td>\n",
       "      <td>2019-03-30 13:37:14</td>\n",
       "      <td>3</td>\n",
       "      <td>2.16</td>\n",
       "      <td>9.0</td>\n",
       "      <td>1.10</td>\n",
       "      <td>0.0</td>\n",
       "      <td>13.40</td>\n",
       "      <td>yellow</td>\n",
       "      <td>credit card</td>\n",
       "      <td>Midtown East</td>\n",
       "      <td>Yorkville West</td>\n",
       "      <td>Manhattan</td>\n",
       "      <td>Manhattan</td>\n",
       "    </tr>\n",
       "  </tbody>\n",
       "</table>\n",
       "</div>"
      ],
      "text/plain": [
       "               pickup             dropoff  passengers  distance  fare   tip  \\\n",
       "0 2019-03-23 20:21:09 2019-03-23 20:27:24           1      1.60   7.0  2.15   \n",
       "1 2019-03-04 16:11:55 2019-03-04 16:19:00           1      0.79   5.0  0.00   \n",
       "2 2019-03-27 17:53:01 2019-03-27 18:00:25           1      1.37   7.5  2.36   \n",
       "3 2019-03-10 01:23:59 2019-03-10 01:49:51           1      7.70  27.0  6.15   \n",
       "4 2019-03-30 13:27:42 2019-03-30 13:37:14           3      2.16   9.0  1.10   \n",
       "\n",
       "   tolls  total   color      payment            pickup_zone  \\\n",
       "0    0.0  12.95  yellow  credit card        Lenox Hill West   \n",
       "1    0.0   9.30  yellow         cash  Upper West Side South   \n",
       "2    0.0  14.16  yellow  credit card          Alphabet City   \n",
       "3    0.0  36.95  yellow  credit card              Hudson Sq   \n",
       "4    0.0  13.40  yellow  credit card           Midtown East   \n",
       "\n",
       "            dropoff_zone pickup_borough dropoff_borough  \n",
       "0    UN/Turtle Bay South      Manhattan       Manhattan  \n",
       "1  Upper West Side South      Manhattan       Manhattan  \n",
       "2           West Village      Manhattan       Manhattan  \n",
       "3         Yorkville West      Manhattan       Manhattan  \n",
       "4         Yorkville West      Manhattan       Manhattan  "
      ]
     },
     "execution_count": 92,
     "metadata": {},
     "output_type": "execute_result"
    }
   ],
   "source": [
    "taxis = sb.load_dataset('taxis')\n",
    "taxis.head()"
   ]
  },
  {
   "cell_type": "markdown",
   "id": "06ef6738-b5fb-4341-8ced-15f02ee5aad6",
   "metadata": {
    "id": "06ef6738-b5fb-4341-8ced-15f02ee5aad6"
   },
   "source": [
    "**39.** The 'pickup' column contains the date and time the customer picked up, but it's a string.  Add a column to the DataFrame, 'pickup_time', containing the value in 'pickup' as a DateTime."
   ]
  },
  {
   "cell_type": "code",
   "execution_count": null,
   "id": "a857614a-ada0-43c5-9ba0-6e00422bf518",
   "metadata": {
    "id": "a857614a-ada0-43c5-9ba0-6e00422bf518"
   },
   "outputs": [],
   "source": [
    "taxis['pickup_time'] = pd.to_datetime(taxis['pickup'])"
   ]
  },
  {
   "cell_type": "markdown",
   "id": "d2aca5a0-b67d-4c2b-928f-49a0df783a4a",
   "metadata": {
    "id": "d2aca5a0-b67d-4c2b-928f-49a0df783a4a"
   },
   "source": [
    "**40.** We have a hypothesis that as the day goes on, the tips get higher.  We'll need to wrangle the data a bit before testing this, however.  First, now that we have a datetime column, pickup_time, create a subset of it to create a new DataFrame, taxis_one_day. This new DataFrame should have values between '2019-03-23 00:06:00' (inclusive) and '2019-03-24 00:00:00' (exlusive)."
   ]
  },
  {
   "cell_type": "code",
   "execution_count": null,
   "id": "4c92be8d-ee1a-452d-84e9-64617cbcd850",
   "metadata": {
    "id": "4c92be8d-ee1a-452d-84e9-64617cbcd850"
   },
   "outputs": [],
   "source": [
    "x = taxis.loc[(taxis['pickup_time'] >= '2019-03-23 00:06:00') & (taxis['pickup_time'] <= '2019-03-24 00:00:00')]\n",
    "print(x)"
   ]
  },
  {
   "cell_type": "markdown",
   "id": "14b66e0e-762c-433c-9041-e40cf624eaa5",
   "metadata": {
    "id": "14b66e0e-762c-433c-9041-e40cf624eaa5"
   },
   "source": [
    "**41.** We now have a range from morning until midnight, but we to take the mean of the numeric columns, grouped at one hour intervals.  Save the result as df_means, and display it."
   ]
  },
  {
   "cell_type": "code",
   "execution_count": null,
   "id": "baca4e69-dc2d-492e-918b-c15d7d560b4b",
   "metadata": {
    "id": "baca4e69-dc2d-492e-918b-c15d7d560b4b"
   },
   "outputs": [],
   "source": [
    "taxis.set_index('pickup_time', inplace=True)\n",
    "\n",
    "df_means = taxis.resample('H').mean()\n",
    "print(df_means)"
   ]
  },
  {
   "cell_type": "markdown",
   "id": "601743a0-8e97-46f3-8c46-6681353d374c",
   "metadata": {
    "id": "601743a0-8e97-46f3-8c46-6681353d374c"
   },
   "source": [
    "**42.** Create a simple line plot of the value \"distance\".  "
   ]
  },
  {
   "cell_type": "code",
   "execution_count": 191,
   "id": "d270aaf8-b52e-4d1f-8373-3ce72f9d4a81",
   "metadata": {
    "id": "d270aaf8-b52e-4d1f-8373-3ce72f9d4a81"
   },
   "outputs": [
    {
     "data": {
      "image/png": "[encoded data removed]",
      "text/plain": [
       "<Figure size 640x480 with 1 Axes>"
      ]
     },
     "metadata": {},
     "output_type": "display_data"
    }
   ],
   "source": [
    "plt.plot(taxis['pickup'], taxis['distance'])\n",
    "plt.title('Line Plot of distance')\n",
    "plt.xlabel('Datetime for pickup')\n",
    "plt.ylabel('distance')\n",
    "plt.grid(True)\n",
    "plt.show()"
   ]
  },
  {
   "cell_type": "markdown",
   "id": "deba998f-24b1-4fc3-93e6-807955ba111b",
   "metadata": {
    "id": "deba998f-24b1-4fc3-93e6-807955ba111b"
   },
   "source": [
    "**43.** Overall, do riders travel further or less far as the day progresses?"
   ]
  },
  {
   "cell_type": "markdown",
   "id": "4b69ad07-bd6c-4ef8-8caa-ec0b5b4a2b21",
   "metadata": {
    "id": "4b69ad07-bd6c-4ef8-8caa-ec0b5b4a2b21"
   },
   "source": []
  },
  {
   "cell_type": "markdown",
   "id": "3c1784d1-e66d-40c7-87d1-a5a4bc7dd43b",
   "metadata": {
    "id": "3c1784d1-e66d-40c7-87d1-a5a4bc7dd43b"
   },
   "source": [
    "**44.** Create a new column in taxis_means, ```tip_in_percent```.  The source columns for this should be \"fare\" and \"tip\""
   ]
  },
  {
   "cell_type": "code",
   "execution_count": 193,
   "id": "014637ae-70f7-4289-8077-5264bf46daab",
   "metadata": {
    "id": "014637ae-70f7-4289-8077-5264bf46daab"
   },
   "outputs": [
    {
     "data": {
      "text/html": [
       "<div>\n",
       "<style scoped>\n",
       "    .dataframe tbody tr th:only-of-type {\n",
       "        vertical-align: middle;\n",
       "    }\n",
       "\n",
       "    .dataframe tbody tr th {\n",
       "        vertical-align: top;\n",
       "    }\n",
       "\n",
       "    .dataframe thead th {\n",
       "        text-align: right;\n",
       "    }\n",
       "</style>\n",
       "<table border=\"1\" class=\"dataframe\">\n",
       "  <thead>\n",
       "    <tr style=\"text-align: right;\">\n",
       "      <th></th>\n",
       "      <th>pickup</th>\n",
       "      <th>dropoff</th>\n",
       "      <th>passengers</th>\n",
       "      <th>distance</th>\n",
       "      <th>fare</th>\n",
       "      <th>tip</th>\n",
       "      <th>tolls</th>\n",
       "      <th>total</th>\n",
       "      <th>color</th>\n",
       "      <th>payment</th>\n",
       "      <th>pickup_zone</th>\n",
       "      <th>dropoff_zone</th>\n",
       "      <th>pickup_borough</th>\n",
       "      <th>dropoff_borough</th>\n",
       "      <th>tip_in_percent</th>\n",
       "    </tr>\n",
       "    <tr>\n",
       "      <th>pickup_time</th>\n",
       "      <th></th>\n",
       "      <th></th>\n",
       "      <th></th>\n",
       "      <th></th>\n",
       "      <th></th>\n",
       "      <th></th>\n",
       "      <th></th>\n",
       "      <th></th>\n",
       "      <th></th>\n",
       "      <th></th>\n",
       "      <th></th>\n",
       "      <th></th>\n",
       "      <th></th>\n",
       "      <th></th>\n",
       "      <th></th>\n",
       "    </tr>\n",
       "  </thead>\n",
       "  <tbody>\n",
       "    <tr>\n",
       "      <th>2019-03-23 20:21:09</th>\n",
       "      <td>2019-03-23 20:21:09</td>\n",
       "      <td>2019-03-23 20:27:24</td>\n",
       "      <td>1</td>\n",
       "      <td>1.60</td>\n",
       "      <td>7.0</td>\n",
       "      <td>2.15</td>\n",
       "      <td>0.0</td>\n",
       "      <td>12.95</td>\n",
       "      <td>yellow</td>\n",
       "      <td>credit card</td>\n",
       "      <td>Lenox Hill West</td>\n",
       "      <td>UN/Turtle Bay South</td>\n",
       "      <td>Manhattan</td>\n",
       "      <td>Manhattan</td>\n",
       "      <td>30.71</td>\n",
       "    </tr>\n",
       "    <tr>\n",
       "      <th>2019-03-04 16:11:55</th>\n",
       "      <td>2019-03-04 16:11:55</td>\n",
       "      <td>2019-03-04 16:19:00</td>\n",
       "      <td>1</td>\n",
       "      <td>0.79</td>\n",
       "      <td>5.0</td>\n",
       "      <td>0.00</td>\n",
       "      <td>0.0</td>\n",
       "      <td>9.30</td>\n",
       "      <td>yellow</td>\n",
       "      <td>cash</td>\n",
       "      <td>Upper West Side South</td>\n",
       "      <td>Upper West Side South</td>\n",
       "      <td>Manhattan</td>\n",
       "      <td>Manhattan</td>\n",
       "      <td>0.00</td>\n",
       "    </tr>\n",
       "    <tr>\n",
       "      <th>2019-03-27 17:53:01</th>\n",
       "      <td>2019-03-27 17:53:01</td>\n",
       "      <td>2019-03-27 18:00:25</td>\n",
       "      <td>1</td>\n",
       "      <td>1.37</td>\n",
       "      <td>7.5</td>\n",
       "      <td>2.36</td>\n",
       "      <td>0.0</td>\n",
       "      <td>14.16</td>\n",
       "      <td>yellow</td>\n",
       "      <td>credit card</td>\n",
       "      <td>Alphabet City</td>\n",
       "      <td>West Village</td>\n",
       "      <td>Manhattan</td>\n",
       "      <td>Manhattan</td>\n",
       "      <td>31.47</td>\n",
       "    </tr>\n",
       "    <tr>\n",
       "      <th>2019-03-10 01:23:59</th>\n",
       "      <td>2019-03-10 01:23:59</td>\n",
       "      <td>2019-03-10 01:49:51</td>\n",
       "      <td>1</td>\n",
       "      <td>7.70</td>\n",
       "      <td>27.0</td>\n",
       "      <td>6.15</td>\n",
       "      <td>0.0</td>\n",
       "      <td>36.95</td>\n",
       "      <td>yellow</td>\n",
       "      <td>credit card</td>\n",
       "      <td>Hudson Sq</td>\n",
       "      <td>Yorkville West</td>\n",
       "      <td>Manhattan</td>\n",
       "      <td>Manhattan</td>\n",
       "      <td>22.78</td>\n",
       "    </tr>\n",
       "    <tr>\n",
       "      <th>2019-03-30 13:27:42</th>\n",
       "      <td>2019-03-30 13:27:42</td>\n",
       "      <td>2019-03-30 13:37:14</td>\n",
       "      <td>3</td>\n",
       "      <td>2.16</td>\n",
       "      <td>9.0</td>\n",
       "      <td>1.10</td>\n",
       "      <td>0.0</td>\n",
       "      <td>13.40</td>\n",
       "      <td>yellow</td>\n",
       "      <td>credit card</td>\n",
       "      <td>Midtown East</td>\n",
       "      <td>Yorkville West</td>\n",
       "      <td>Manhattan</td>\n",
       "      <td>Manhattan</td>\n",
       "      <td>12.22</td>\n",
       "    </tr>\n",
       "  </tbody>\n",
       "</table>\n",
       "</div>"
      ],
      "text/plain": [
       "                                 pickup             dropoff  passengers  \\\n",
       "pickup_time                                                               \n",
       "2019-03-23 20:21:09 2019-03-23 20:21:09 2019-03-23 20:27:24           1   \n",
       "2019-03-04 16:11:55 2019-03-04 16:11:55 2019-03-04 16:19:00           1   \n",
       "2019-03-27 17:53:01 2019-03-27 17:53:01 2019-03-27 18:00:25           1   \n",
       "2019-03-10 01:23:59 2019-03-10 01:23:59 2019-03-10 01:49:51           1   \n",
       "2019-03-30 13:27:42 2019-03-30 13:27:42 2019-03-30 13:37:14           3   \n",
       "\n",
       "                     distance  fare   tip  tolls  total   color      payment  \\\n",
       "pickup_time                                                                    \n",
       "2019-03-23 20:21:09      1.60   7.0  2.15    0.0  12.95  yellow  credit card   \n",
       "2019-03-04 16:11:55      0.79   5.0  0.00    0.0   9.30  yellow         cash   \n",
       "2019-03-27 17:53:01      1.37   7.5  2.36    0.0  14.16  yellow  credit card   \n",
       "2019-03-10 01:23:59      7.70  27.0  6.15    0.0  36.95  yellow  credit card   \n",
       "2019-03-30 13:27:42      2.16   9.0  1.10    0.0  13.40  yellow  credit card   \n",
       "\n",
       "                               pickup_zone           dropoff_zone  \\\n",
       "pickup_time                                                         \n",
       "2019-03-23 20:21:09        Lenox Hill West    UN/Turtle Bay South   \n",
       "2019-03-04 16:11:55  Upper West Side South  Upper West Side South   \n",
       "2019-03-27 17:53:01          Alphabet City           West Village   \n",
       "2019-03-10 01:23:59              Hudson Sq         Yorkville West   \n",
       "2019-03-30 13:27:42           Midtown East         Yorkville West   \n",
       "\n",
       "                    pickup_borough dropoff_borough  tip_in_percent  \n",
       "pickup_time                                                         \n",
       "2019-03-23 20:21:09      Manhattan       Manhattan           30.71  \n",
       "2019-03-04 16:11:55      Manhattan       Manhattan            0.00  \n",
       "2019-03-27 17:53:01      Manhattan       Manhattan           31.47  \n",
       "2019-03-10 01:23:59      Manhattan       Manhattan           22.78  \n",
       "2019-03-30 13:27:42      Manhattan       Manhattan           12.22  "
      ]
     },
     "execution_count": 193,
     "metadata": {},
     "output_type": "execute_result"
    }
   ],
   "source": [
    "taxis['tip_in_percent'] = ((taxis['tip']/taxis['fare'])*100).round(2)\n",
    "taxis.head()"
   ]
  },
  {
   "cell_type": "markdown",
   "id": "15be5b49-d465-48a7-9b3b-6d58291752d9",
   "metadata": {
    "id": "15be5b49-d465-48a7-9b3b-6d58291752d9"
   },
   "source": [
    "**45.** Create a new column, time_interval, as a range of integer values beginning with zero."
   ]
  },
  {
   "cell_type": "code",
   "execution_count": 196,
   "id": "bcc2dca5-7682-4e55-b218-e94006071ebd",
   "metadata": {
    "id": "bcc2dca5-7682-4e55-b218-e94006071ebd"
   },
   "outputs": [
    {
     "data": {
      "text/html": [
       "<div>\n",
       "<style scoped>\n",
       "    .dataframe tbody tr th:only-of-type {\n",
       "        vertical-align: middle;\n",
       "    }\n",
       "\n",
       "    .dataframe tbody tr th {\n",
       "        vertical-align: top;\n",
       "    }\n",
       "\n",
       "    .dataframe thead th {\n",
       "        text-align: right;\n",
       "    }\n",
       "</style>\n",
       "<table border=\"1\" class=\"dataframe\">\n",
       "  <thead>\n",
       "    <tr style=\"text-align: right;\">\n",
       "      <th></th>\n",
       "      <th>pickup</th>\n",
       "      <th>dropoff</th>\n",
       "      <th>passengers</th>\n",
       "      <th>distance</th>\n",
       "      <th>fare</th>\n",
       "      <th>tip</th>\n",
       "      <th>tolls</th>\n",
       "      <th>total</th>\n",
       "      <th>color</th>\n",
       "      <th>payment</th>\n",
       "      <th>pickup_zone</th>\n",
       "      <th>dropoff_zone</th>\n",
       "      <th>pickup_borough</th>\n",
       "      <th>dropoff_borough</th>\n",
       "      <th>tip_in_percent</th>\n",
       "      <th>time_interval</th>\n",
       "    </tr>\n",
       "    <tr>\n",
       "      <th>pickup_time</th>\n",
       "      <th></th>\n",
       "      <th></th>\n",
       "      <th></th>\n",
       "      <th></th>\n",
       "      <th></th>\n",
       "      <th></th>\n",
       "      <th></th>\n",
       "      <th></th>\n",
       "      <th></th>\n",
       "      <th></th>\n",
       "      <th></th>\n",
       "      <th></th>\n",
       "      <th></th>\n",
       "      <th></th>\n",
       "      <th></th>\n",
       "      <th></th>\n",
       "    </tr>\n",
       "  </thead>\n",
       "  <tbody>\n",
       "    <tr>\n",
       "      <th>2019-03-23 20:21:09</th>\n",
       "      <td>2019-03-23 20:21:09</td>\n",
       "      <td>2019-03-23 20:27:24</td>\n",
       "      <td>1</td>\n",
       "      <td>1.60</td>\n",
       "      <td>7.0</td>\n",
       "      <td>2.15</td>\n",
       "      <td>0.0</td>\n",
       "      <td>12.95</td>\n",
       "      <td>yellow</td>\n",
       "      <td>credit card</td>\n",
       "      <td>Lenox Hill West</td>\n",
       "      <td>UN/Turtle Bay South</td>\n",
       "      <td>Manhattan</td>\n",
       "      <td>Manhattan</td>\n",
       "      <td>30.71</td>\n",
       "      <td>0</td>\n",
       "    </tr>\n",
       "    <tr>\n",
       "      <th>2019-03-04 16:11:55</th>\n",
       "      <td>2019-03-04 16:11:55</td>\n",
       "      <td>2019-03-04 16:19:00</td>\n",
       "      <td>1</td>\n",
       "      <td>0.79</td>\n",
       "      <td>5.0</td>\n",
       "      <td>0.00</td>\n",
       "      <td>0.0</td>\n",
       "      <td>9.30</td>\n",
       "      <td>yellow</td>\n",
       "      <td>cash</td>\n",
       "      <td>Upper West Side South</td>\n",
       "      <td>Upper West Side South</td>\n",
       "      <td>Manhattan</td>\n",
       "      <td>Manhattan</td>\n",
       "      <td>0.00</td>\n",
       "      <td>1</td>\n",
       "    </tr>\n",
       "    <tr>\n",
       "      <th>2019-03-27 17:53:01</th>\n",
       "      <td>2019-03-27 17:53:01</td>\n",
       "      <td>2019-03-27 18:00:25</td>\n",
       "      <td>1</td>\n",
       "      <td>1.37</td>\n",
       "      <td>7.5</td>\n",
       "      <td>2.36</td>\n",
       "      <td>0.0</td>\n",
       "      <td>14.16</td>\n",
       "      <td>yellow</td>\n",
       "      <td>credit card</td>\n",
       "      <td>Alphabet City</td>\n",
       "      <td>West Village</td>\n",
       "      <td>Manhattan</td>\n",
       "      <td>Manhattan</td>\n",
       "      <td>31.47</td>\n",
       "      <td>2</td>\n",
       "    </tr>\n",
       "    <tr>\n",
       "      <th>2019-03-10 01:23:59</th>\n",
       "      <td>2019-03-10 01:23:59</td>\n",
       "      <td>2019-03-10 01:49:51</td>\n",
       "      <td>1</td>\n",
       "      <td>7.70</td>\n",
       "      <td>27.0</td>\n",
       "      <td>6.15</td>\n",
       "      <td>0.0</td>\n",
       "      <td>36.95</td>\n",
       "      <td>yellow</td>\n",
       "      <td>credit card</td>\n",
       "      <td>Hudson Sq</td>\n",
       "      <td>Yorkville West</td>\n",
       "      <td>Manhattan</td>\n",
       "      <td>Manhattan</td>\n",
       "      <td>22.78</td>\n",
       "      <td>3</td>\n",
       "    </tr>\n",
       "    <tr>\n",
       "      <th>2019-03-30 13:27:42</th>\n",
       "      <td>2019-03-30 13:27:42</td>\n",
       "      <td>2019-03-30 13:37:14</td>\n",
       "      <td>3</td>\n",
       "      <td>2.16</td>\n",
       "      <td>9.0</td>\n",
       "      <td>1.10</td>\n",
       "      <td>0.0</td>\n",
       "      <td>13.40</td>\n",
       "      <td>yellow</td>\n",
       "      <td>credit card</td>\n",
       "      <td>Midtown East</td>\n",
       "      <td>Yorkville West</td>\n",
       "      <td>Manhattan</td>\n",
       "      <td>Manhattan</td>\n",
       "      <td>12.22</td>\n",
       "      <td>4</td>\n",
       "    </tr>\n",
       "  </tbody>\n",
       "</table>\n",
       "</div>"
      ],
      "text/plain": [
       "                                 pickup             dropoff  passengers  \\\n",
       "pickup_time                                                               \n",
       "2019-03-23 20:21:09 2019-03-23 20:21:09 2019-03-23 20:27:24           1   \n",
       "2019-03-04 16:11:55 2019-03-04 16:11:55 2019-03-04 16:19:00           1   \n",
       "2019-03-27 17:53:01 2019-03-27 17:53:01 2019-03-27 18:00:25           1   \n",
       "2019-03-10 01:23:59 2019-03-10 01:23:59 2019-03-10 01:49:51           1   \n",
       "2019-03-30 13:27:42 2019-03-30 13:27:42 2019-03-30 13:37:14           3   \n",
       "\n",
       "                     distance  fare   tip  tolls  total   color      payment  \\\n",
       "pickup_time                                                                    \n",
       "2019-03-23 20:21:09      1.60   7.0  2.15    0.0  12.95  yellow  credit card   \n",
       "2019-03-04 16:11:55      0.79   5.0  0.00    0.0   9.30  yellow         cash   \n",
       "2019-03-27 17:53:01      1.37   7.5  2.36    0.0  14.16  yellow  credit card   \n",
       "2019-03-10 01:23:59      7.70  27.0  6.15    0.0  36.95  yellow  credit card   \n",
       "2019-03-30 13:27:42      2.16   9.0  1.10    0.0  13.40  yellow  credit card   \n",
       "\n",
       "                               pickup_zone           dropoff_zone  \\\n",
       "pickup_time                                                         \n",
       "2019-03-23 20:21:09        Lenox Hill West    UN/Turtle Bay South   \n",
       "2019-03-04 16:11:55  Upper West Side South  Upper West Side South   \n",
       "2019-03-27 17:53:01          Alphabet City           West Village   \n",
       "2019-03-10 01:23:59              Hudson Sq         Yorkville West   \n",
       "2019-03-30 13:27:42           Midtown East         Yorkville West   \n",
       "\n",
       "                    pickup_borough dropoff_borough  tip_in_percent  \\\n",
       "pickup_time                                                          \n",
       "2019-03-23 20:21:09      Manhattan       Manhattan           30.71   \n",
       "2019-03-04 16:11:55      Manhattan       Manhattan            0.00   \n",
       "2019-03-27 17:53:01      Manhattan       Manhattan           31.47   \n",
       "2019-03-10 01:23:59      Manhattan       Manhattan           22.78   \n",
       "2019-03-30 13:27:42      Manhattan       Manhattan           12.22   \n",
       "\n",
       "                     time_interval  \n",
       "pickup_time                         \n",
       "2019-03-23 20:21:09              0  \n",
       "2019-03-04 16:11:55              1  \n",
       "2019-03-27 17:53:01              2  \n",
       "2019-03-10 01:23:59              3  \n",
       "2019-03-30 13:27:42              4  "
      ]
     },
     "execution_count": 196,
     "metadata": {},
     "output_type": "execute_result"
    }
   ],
   "source": [
    "taxis['time_interval'] = range(0, len(taxis))\n",
    "taxis.head()"
   ]
  },
  {
   "cell_type": "markdown",
   "id": "269b329e-cade-4e54-9ed8-ce5d23006750",
   "metadata": {
    "id": "269b329e-cade-4e54-9ed8-ce5d23006750"
   },
   "source": [
    "Display the correlations between the following pairs of values:\n",
    "1. tip_in_percent and distance.\n",
    "1. tip_in_percent and passengers.\n",
    "1. tip_in_percent and time_interval."
   ]
  },
  {
   "cell_type": "code",
   "execution_count": 199,
   "id": "7003165a-2e86-46fa-9b0c-bb1e9dab4afd",
   "metadata": {
    "id": "7003165a-2e86-46fa-9b0c-bb1e9dab4afd"
   },
   "outputs": [
    {
     "name": "stdout",
     "output_type": "stream",
     "text": [
      "-0.1277468372497605\n",
      "0.02991085045212104\n",
      "-0.15977459947561617\n"
     ]
    }
   ],
   "source": [
    "print(taxis['tip_in_percent'].corr(taxis['distance']))\n",
    "print(taxis['tip_in_percent'].corr(taxis['passengers']))\n",
    "print(taxis['tip_in_percent'].corr(taxis['time_interval']))"
   ]
  },
  {
   "cell_type": "markdown",
   "id": "934d0379-8d2c-4579-af88-fafffdb58767",
   "metadata": {
    "id": "934d0379-8d2c-4579-af88-fafffdb58767"
   },
   "source": [
    "**47.** Admittedly, the size of the data set is fairly small given how we've subsetted it.  But based on the values in #45, which of the three pairs show the strongest correlation."
   ]
  },
  {
   "cell_type": "markdown",
   "id": "04dfb838-f8de-4e79-8076-12ef0c187fc4",
   "metadata": {
    "id": "04dfb838-f8de-4e79-8076-12ef0c187fc4"
   },
   "source": [
    "**answer:** strongest correlation is shown by the pair of tip and passenger columns"
   ]
  },
  {
   "cell_type": "markdown",
   "id": "279a9e91-2488-4e53-8234-ddde076fbe30",
   "metadata": {
    "id": "279a9e91-2488-4e53-8234-ddde076fbe30"
   },
   "source": [
    "**48.** Did our hypothesis that people tip more as the day goes on turn out to be warranted?"
   ]
  },
  {
   "cell_type": "markdown",
   "id": "6aaf603f-5099-457c-99eb-bf8370583a0c",
   "metadata": {
    "id": "6aaf603f-5099-457c-99eb-bf8370583a0c"
   },
   "source": [
    "correlation between tips and time interval is negative, so no, people tip less as the day goes on."
   ]
  }
 ],
 "metadata": {
  "colab": {
   "provenance": []
  },
  "kernelspec": {
   "display_name": "newvenv",
   "language": "python",
   "name": "python3"
  },
  "language_info": {
   "codemirror_mode": {
    "name": "ipython",
    "version": 3
   },
   "file_extension": ".py",
   "mimetype": "text/x-python",
   "name": "python",
   "nbconvert_exporter": "python",
   "pygments_lexer": "ipython3",
   "version": "3.11.10"
  }
 },
 "nbformat": 4,
 "nbformat_minor": 5
}
