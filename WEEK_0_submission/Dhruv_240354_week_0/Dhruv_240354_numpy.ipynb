{
 "cells": [
  {
   "cell_type": "markdown",
   "metadata": {
    "id": "Ar4fL67UDPHr"
   },
   "source": [
    "# NumPy exercises"
   ]
  },
  {
   "cell_type": "markdown",
   "metadata": {
    "id": "_KH_5nW4DPHv"
   },
   "source": [
    "Some  of these come from / are inspired from https://github.com/rougier/numpy-100 and http://www.scipy-lectures.org/intro/numpy/exercises.html\n",
    "\n",
    "You might want to look over these lists as well."
   ]
  },
  {
   "cell_type": "code",
   "execution_count": 53,
   "metadata": {
    "id": "u4ewzXF9DPHx"
   },
   "outputs": [],
   "source": [
    "import numpy as np\n",
    "import math\n",
    "import matplotlib.pyplot as plt"
   ]
  },
  {
   "cell_type": "markdown",
   "metadata": {
    "id": "BGjlCaQzDPHz"
   },
   "source": [
    "## Q1\n",
    "\n",
    "We can use `np.random.random_sample()` to create an array with random values.  By default, these will be in the range `[0.0, 1.0)`.  You can\n",
    "multiple the output and add a scalar to it to get it to be in a different range.\n",
    "\n",
    "Create a 10 x 10 array initialized with random numbers that lie between 0 and 10.\n",
    "\n",
    "Then compute the average of the array (there is a numpy function for this, `np.mean()`)."
   ]
  },
  {
   "cell_type": "code",
   "execution_count": 8,
   "metadata": {
    "id": "6MSFAgQyDPHz",
    "tags": []
   },
   "outputs": [
    {
     "name": "stdout",
     "output_type": "stream",
     "text": [
      "[[7.73682784 6.04679493 8.85765518 0.32661645 7.85151107 7.77593613\n",
      "  6.58590009 0.37930787 1.06134338 9.22594624]\n",
      " [8.10457118 7.06208834 4.61010258 3.16088578 8.30356994 5.45194026\n",
      "  7.7243229  5.35078787 5.82202164 0.60156727]\n",
      " [6.22461954 8.72319838 0.58842143 0.81488224 9.53468252 8.40656791\n",
      "  6.9502702  7.97628381 2.04222607 4.94723032]\n",
      " [5.50253232 1.07904755 2.50245155 1.61910146 1.60124088 3.6901868\n",
      "  3.80841844 2.18617323 8.1830682  1.0022269 ]\n",
      " [4.29747063 5.32216614 1.8073536  4.71489557 2.80084917 6.23597009\n",
      "  9.68240686 9.41667936 6.19114409 7.28905937]\n",
      " [9.68191638 7.29428049 9.97308484 7.76776772 8.64028607 1.89094943\n",
      "  3.08546792 6.6114036  6.63637479 4.65985449]\n",
      " [5.85666169 5.59416439 3.79253057 0.42290655 9.06476736 0.74002103\n",
      "  5.32139738 5.43998108 8.81499303 1.31186   ]\n",
      " [6.15205603 8.96018401 0.51748661 5.20069671 8.90523441 2.3599651\n",
      "  7.31841609 0.30607273 1.83903802 0.07940271]\n",
      " [9.94185275 4.31456616 7.31050779 7.11804483 3.44120461 6.78588311\n",
      "  4.98380809 6.59284351 1.23846176 2.56179381]\n",
      " [0.29338295 8.28151652 5.85657307 7.83135024 9.62043354 0.69101559\n",
      "  3.48594912 4.91601722 9.18306527 9.61502478]]\n",
      "Average of array: 5.254830375237222\n"
     ]
    }
   ],
   "source": [
    "m = 10 * np.random.random_sample((10,10))\n",
    "print(m)\n",
    "print(\"Average of array: \" + str(m.mean()))"
   ]
  },
  {
   "cell_type": "markdown",
   "metadata": {
    "id": "1RGJBfycDPH0"
   },
   "source": [
    "## Q2\n",
    "\n",
    "Create the array:\n",
    "```\n",
    "[[1,  6, 11],\n",
    " [2,  7, 12],\n",
    " [3,  8, 13],\n",
    " [4,  9, 14],\n",
    " [5, 10, 15]]\n",
    "```\n",
    "with out explicitly typing it in.\n",
    "\n",
    "Now create a new array containing only its 2nd and 4th rows."
   ]
  },
  {
   "cell_type": "code",
   "execution_count": 11,
   "metadata": {
    "id": "1jxOF41eDPH0",
    "tags": []
   },
   "outputs": [
    {
     "data": {
      "text/plain": [
       "array([[ 1,  6, 11],\n",
       "       [ 2,  7, 12],\n",
       "       [ 3,  8, 13],\n",
       "       [ 4,  9, 14],\n",
       "       [ 5, 10, 15]])"
      ]
     },
     "execution_count": 11,
     "metadata": {},
     "output_type": "execute_result"
    }
   ],
   "source": [
    "np.arange(1,16).reshape(5,3, order='F').astype(int)"
   ]
  },
  {
   "cell_type": "markdown",
   "metadata": {
    "id": "4mfsvN45DPH1"
   },
   "source": [
    "## Q3\n",
    "\n",
    "Create a 2d array with `1` on the border and `0` on the inside, e.g., like:\n",
    "```\n",
    "1 1 1 1 1\n",
    "1 0 0 0 1\n",
    "1 0 0 0 1\n",
    "1 1 1 1 1\n",
    "```\n",
    "\n",
    "Do this using array slice notation to let it work for an arbitrary-sized array"
   ]
  },
  {
   "cell_type": "code",
   "execution_count": 16,
   "metadata": {
    "id": "qf1EIwKSDPH2",
    "tags": []
   },
   "outputs": [
    {
     "name": "stdout",
     "output_type": "stream",
     "text": [
      "[[1 1 1 1 1 1]\n",
      " [1 0 0 0 0 1]\n",
      " [1 0 0 0 0 1]\n",
      " [1 0 0 0 0 1]\n",
      " [1 1 1 1 1 1]]\n"
     ]
    }
   ],
   "source": [
    "a = int(input(\"Enter number of rows: \"))\n",
    "b = int(input(\"Enter number of columns: \"))\n",
    "x = np.ones((a,b)).astype(int)\n",
    "x[1:a-1,1:b-1] = np.zeros((a-2,b-2))\n",
    "print(x)"
   ]
  },
  {
   "cell_type": "markdown",
   "metadata": {
    "id": "UuKIXz6vDPH3"
   },
   "source": [
    "## Q4\n",
    "\n",
    "  * Create an array with angles in degrees 0, 15, 30, ... 90 (i.e., every 15 degrees up to 90).\n",
    "\n",
    "  * Now create 3 new arrays with the sine, cosine, and tangent of the elements of the first array\n",
    "  \n",
    "  * Finally, calculate the inverse sine, inverse cosine, and inverse tangent the arrays above and compare to the original angles"
   ]
  },
  {
   "cell_type": "code",
   "execution_count": 46,
   "metadata": {
    "collapsed": true,
    "id": "bYMU3viyDPH4",
    "jupyter": {
     "outputs_hidden": true
    }
   },
   "outputs": [
    {
     "name": "stdout",
     "output_type": "stream",
     "text": [
      "Angles in deg:  [ 0 15 30 45 60 75 90]\n",
      "\n",
      "Sines of angles:  [0.    0.259 0.5   0.707 0.866 0.966 1.   ]\n",
      "Cosines of angles:  [1.    0.966 0.866 0.707 0.5   0.259 0.   ]\n",
      "Tangents of angles:  [0.00000000e+00 2.68000000e-01 5.77000000e-01 1.00000000e+00\n",
      " 1.73200000e+00 3.73200000e+00 1.63312394e+16]\n",
      "\n",
      "Inverse Sine:  [ 0.   15.01 30.02 44.98 59.99 75.   90.01]\n",
      "Inverse Cosines:  [ 0.   15.01 30.02 45.03 59.99 75.   90.01]\n",
      "Inverse Tangents:  [ 0.   15.01 29.97 44.98 59.99 75.   90.01]\n",
      "\n",
      "Around the same\n"
     ]
    }
   ],
   "source": [
    "deg = np.arange(0,91,15)\n",
    "rad = np.radians(deg)\n",
    "#all values are rounded to 3 decimals\n",
    "sine = np.sin(rad).round(decimals=3)\n",
    "cosine = np.cos(rad).round(decimals=3)\n",
    "tangent = np.tan(rad).round(decimals=3)\n",
    "print(\"Angles in deg: \", deg)\n",
    "print(\"\\nSines of angles: \", sine)\n",
    "print(\"Cosines of angles: \", cosine)\n",
    "print(\"Tangents of angles: \", tangent)\n",
    "arcsin = np.arcsin(sine).round(decimals=3)\n",
    "arccos = np.arccos(cosine).round(decimals=3)\n",
    "arctan = np.arctan(tangent).round(decimals=3)\n",
    "print(\"\\nInverse Sine: \", np.degrees(arcsin).round(decimals=2))\n",
    "print(\"Inverse Cosines: \", np.degrees(arccos).round(decimals=2))\n",
    "print(\"Inverse Tangents: \", np.degrees(arctan).round(decimals=2))\n",
    "print(\"\\nAround the same\")"
   ]
  },
  {
   "cell_type": "markdown",
   "metadata": {
    "id": "oKhSlL_EDPH4"
   },
   "source": [
    "## Q5\n",
    "\n",
    "Given the array:\n",
    "```\n",
    "x = np.array([1, -1, 2, 5, 8, 4, 10, 12, 3])\n",
    "```\n",
    "calculate the difference of each element with its neighbor."
   ]
  },
  {
   "cell_type": "code",
   "execution_count": 48,
   "metadata": {
    "id": "mRojYTFMDPH5",
    "tags": []
   },
   "outputs": [
    {
     "name": "stdout",
     "output_type": "stream",
     "text": [
      "Format: left is diff with prev neighbour, right is diff with next neighbour (excluding extremes)\n",
      "[2, [-2, -3], [3, -3], [3, -3], [3, 4], [-4, -6], [6, -2], [2, 9], -9]\n"
     ]
    }
   ],
   "source": [
    "\n",
    "x = np.array([1, -1, 2, 5, 8, 4, 10, 12, 3])\n",
    "l = []\n",
    "for i in range(len(x)):\n",
    "    if i == 0:\n",
    "        l.append(x[0] - x[1])\n",
    "    elif i == len(x)-1:\n",
    "        l.append(x[-1] - x[-2])\n",
    "    else:\n",
    "        k = []\n",
    "        k.append(x[i] - x[i-1])\n",
    "        k.append(x[i]-x[i+1])\n",
    "        l.append(k)\n",
    "print(\"Format: left is diff with prev neighbour, right is diff with next neighbour (excluding extremes)\")\n",
    "print(l)\n"
   ]
  },
  {
   "cell_type": "markdown",
   "metadata": {
    "id": "F8oQd_ELDPH6"
   },
   "source": [
    "## Q6\n",
    "\n",
    "Here we will read in columns of numbers from a file and create a histogram, using NumPy routines.  Make sure you have the data file\n",
    "\"`sample.txt`\" in the same directory as this notebook (you can download it from  https://raw.githubusercontent.com/sbu-python-summer/python-tutorial/master/day-3/sample.txt\n",
    "\n",
    "  * Use `np.loadtxt()` to read this file in.  \n",
    "\n",
    "  * Next, use `np.histogram()` to create a histogram array.  The output returns both the count and an array of edges.\n",
    "  \n",
    "  * Finally, loop over the bins and print out the bin center (averaging the left and right edges of the bin) and the count for that bin."
   ]
  },
  {
   "cell_type": "code",
   "execution_count": 63,
   "metadata": {
    "id": "F8hdGe1qDPH6",
    "tags": []
   },
   "outputs": [
    {
     "name": "stdout",
     "output_type": "stream",
     "text": [
      "Centre of bin: -24.11 with count: 6\n",
      "Centre of bin: -11.15 with count: 23\n",
      "Centre of bin: 1.81 with count: 52\n",
      "Centre of bin: 14.77 with count: 37\n",
      "Centre of bin: 27.73 with count: 16\n",
      "Centre of bin: 40.69 with count: 14\n",
      "Centre of bin: 53.64 with count: 13\n",
      "Centre of bin: 66.6 with count: 13\n",
      "Centre of bin: 79.56 with count: 13\n",
      "Centre of bin: 92.52 with count: 13\n"
     ]
    },
    {
     "data": {
      "image/png": "[encoded data removed]",
      "text/plain": [
       "<Figure size 640x480 with 1 Axes>"
      ]
     },
     "metadata": {},
     "output_type": "display_data"
    }
   ],
   "source": [
    "k = np.loadtxt(\"sample.txt\")\n",
    "counts, edges =  np.histogram(k)\n",
    "\n",
    "for i in range(len(edges)-1):\n",
    "    centre = float((edges[i] + edges[i+1])/2).__round__(2)\n",
    "    print(\"Centre of bin: \" + str(centre) + \" with count: \" + str(counts[i]))\n",
    "    \n",
    "plt.hist(k, bins = len(edges)-1, edgecolor = 'black')\n",
    "plt.show()\n"
   ]
  },
  {
   "cell_type": "markdown",
   "metadata": {
    "id": "qge_-x7CDPH7"
   },
   "source": [
    "## Q7\n",
    "\n",
    "NumPy has a standard deviation function, `np.std()`, but here we'll write our own that works on a 1-d array (vector).  The standard\n",
    "deviation is a measure of the \"width\" of the distribution of numbers\n",
    "in the vector.\n",
    "\n",
    "Given an array, $a$, and an average $\\bar{a}$, the standard deviation\n",
    "is:\n",
    "\n",
    "$$\n",
    "\\sigma = \\left [ \\frac{1}{N} \\sum_{i=1}^N (a_i - \\bar{a})^2 \\right ]^{1/2}\n",
    "$$\n",
    "\n",
    "Write a function to calculate the standard deviation for an input array, `a`:\n",
    "\n",
    "  * First compute the average of the elements in `a` to define $\\bar{a}$\n",
    "  * Next compute the sum over the squares of $a - \\bar{a}$\n",
    "  * Then divide the sum by the number of elements in the array\n",
    "  * Finally take the square root (you can use `np.sqrt()`)\n",
    "  \n",
    "Test your function on a random array, and compare to the built-in `np.std()`"
   ]
  },
  {
   "cell_type": "code",
   "execution_count": 71,
   "metadata": {
    "id": "0dxQkXaZDPH9"
   },
   "outputs": [
    {
     "name": "stdout",
     "output_type": "stream",
     "text": [
      "Input array:  [1, 2, 3, 4, 5]\n"
     ]
    }
   ],
   "source": [
    "a = list(map(int, input(\"enter the numbers: \").strip().split()))\n",
    "print(\"Input array: \", a)"
   ]
  },
  {
   "cell_type": "code",
   "execution_count": 73,
   "metadata": {},
   "outputs": [
    {
     "name": "stdout",
     "output_type": "stream",
     "text": [
      "STD calculated:  1.414\n",
      "Expected STD:  1.414\n"
     ]
    }
   ],
   "source": [
    "a = np.array(a)\n",
    "avg = np.mean(a)\n",
    "\n",
    "sqdif = (a-avg)**2\n",
    "sqdifsum = np.sum(sqdif)\n",
    "sqdifsum /= len(a)\n",
    "std = np.sqrt(sqdifsum) \n",
    "print(\"STD calculated: \", std.round(3))\n",
    "print(\"Expected STD: \", np.std(a).round(3))"
   ]
  }
 ],
 "metadata": {
  "colab": {
   "provenance": []
  },
  "kernelspec": {
   "display_name": "newvenv",
   "language": "python",
   "name": "python3"
  },
  "language_info": {
   "codemirror_mode": {
    "name": "ipython",
    "version": 3
   },
   "file_extension": ".py",
   "mimetype": "text/x-python",
   "name": "python",
   "nbconvert_exporter": "python",
   "pygments_lexer": "ipython3",
   "version": "3.11.10"
  }
 },
 "nbformat": 4,
 "nbformat_minor": 0
}
