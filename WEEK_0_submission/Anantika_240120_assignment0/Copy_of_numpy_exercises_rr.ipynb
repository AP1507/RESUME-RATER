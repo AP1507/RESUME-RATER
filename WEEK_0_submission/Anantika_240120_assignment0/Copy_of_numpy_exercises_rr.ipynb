{
  "cells": [
    {
      "cell_type": "markdown",
      "metadata": {
        "id": "Ar4fL67UDPHr"
      },
      "source": [
        "# NumPy exercises"
      ]
    },
    {
      "cell_type": "markdown",
      "metadata": {
        "id": "_KH_5nW4DPHv"
      },
      "source": [
        "Some  of these come from / are inspired from https://github.com/rougier/numpy-100 and http://www.scipy-lectures.org/intro/numpy/exercises.html\n",
        "\n",
        "You might want to look over these lists as well."
      ]
    },
    {
      "cell_type": "code",
      "execution_count": 1,
      "metadata": {
        "id": "u4ewzXF9DPHx"
      },
      "outputs": [],
      "source": [
        "import numpy as np"
      ]
    },
    {
      "cell_type": "markdown",
      "metadata": {
        "id": "BGjlCaQzDPHz"
      },
      "source": [
        "## Q1\n",
        "\n",
        "We can use `np.random.random_sample()` to create an array with random values.  By default, these will be in the range `[0.0, 1.0)`.  You can\n",
        "multiple the output and add a scalar to it to get it to be in a different range.\n",
        "\n",
        "Create a 10 x 10 array initialized with random numbers that lie between 0 and 10.\n",
        "\n",
        "Then compute the average of the array (there is a numpy function for this, `np.mean()`)."
      ]
    },
    {
      "cell_type": "code",
      "execution_count": 7,
      "metadata": {
        "tags": [],
        "id": "6MSFAgQyDPHz",
        "colab": {
          "base_uri": "https://localhost:8080/"
        },
        "outputId": "b59badab-62c3-4182-b2a9-cae85f8380e3"
      },
      "outputs": [
        {
          "output_type": "stream",
          "name": "stdout",
          "text": [
            "[[8.28679086 6.81353522 4.18321091 5.43570768 0.13137114 2.74166267\n",
            "  1.02263354 2.59892416 2.34918843 9.65777097]\n",
            " [2.03786693 0.4962723  4.82397656 7.00343957 7.57852907 7.8655475\n",
            "  1.26420195 0.08975739 7.68216617 9.23223419]\n",
            " [1.69307119 8.73428551 5.84088245 3.96862727 1.28102666 4.44055116\n",
            "  6.10950797 7.49959734 1.07078605 2.18818107]\n",
            " [6.29770844 3.32098082 1.28336359 9.58197119 5.61082182 2.5223279\n",
            "  1.44754093 5.70887251 6.43939834 1.19663869]\n",
            " [3.30812059 1.93190152 3.64030775 0.09739899 6.06701544 3.44188203\n",
            "  6.152668   5.47366844 3.44014188 8.32579043]\n",
            " [0.58340625 6.68427374 7.12253698 2.66079238 9.82140598 4.33676243\n",
            "  8.37094161 6.66313644 5.2875407  8.87200497]\n",
            " [5.65107807 1.27747208 6.75293797 2.34042926 8.78701863 7.08334216\n",
            "  1.37105824 1.49268018 3.09979382 6.35267638]\n",
            " [0.95945489 1.02664532 3.49705364 0.16964893 2.32425844 3.83724886\n",
            "  0.36650687 0.30356292 5.83500494 6.41024356]\n",
            " [0.83496861 3.27515386 8.10500063 6.15007971 4.37491524 2.93629305\n",
            "  9.76346757 3.78198164 8.1251066  8.34321978]\n",
            " [6.8139181  1.03769454 6.40521155 6.77338493 7.36313688 5.20989377\n",
            "  2.86386997 6.97122188 6.70187143 5.02506876]]\n",
            "4.596061982850532\n"
          ]
        }
      ],
      "source": [
        "rand1= np.random.random_sample((10,10))\n",
        "rand1[:,:]=rand1[:,:]*10\n",
        "mean=np.mean(rand1)\n",
        "print(rand1)\n",
        "print(mean)\n",
        "\n",
        "\n"
      ]
    },
    {
      "cell_type": "markdown",
      "metadata": {
        "id": "1RGJBfycDPH0"
      },
      "source": [
        "## Q2\n",
        "\n",
        "Create the array:\n",
        "```\n",
        "[[1,  6, 11],\n",
        " [2,  7, 12],\n",
        " [3,  8, 13],\n",
        " [4,  9, 14],\n",
        " [5, 10, 15]]\n",
        "```\n",
        "with out explicitly typing it in.\n",
        "\n",
        "Now create a new array containing only its 2nd and 4th rows."
      ]
    },
    {
      "cell_type": "code",
      "execution_count": 13,
      "metadata": {
        "tags": [],
        "id": "1jxOF41eDPH0",
        "colab": {
          "base_uri": "https://localhost:8080/"
        },
        "outputId": "c70f3681-c8ef-4b72-fc6f-0388b8c24e62"
      },
      "outputs": [
        {
          "output_type": "stream",
          "name": "stdout",
          "text": [
            "[[ 1  6 11]\n",
            " [ 2  7 12]\n",
            " [ 3  8 13]\n",
            " [ 4  9 14]\n",
            " [ 5 10 15]]\n",
            "[[ 2  7 12]\n",
            " [ 4  9 14]]\n"
          ]
        }
      ],
      "source": [
        "list1=[1,6,11]\n",
        "list2 =[]\n",
        "list3 =[]\n",
        "list4 =[]\n",
        "list5 =[]\n",
        "\n",
        "for i in range(3):\n",
        "  list2.append(list1[i]+1)\n",
        "  list3.append(list1[i]+2)\n",
        "  list4.append(list1[i]+3)\n",
        "  list5.append(list1[i]+4)\n",
        "\n",
        "a=np.array([list1,list2,list3,list4,list5])\n",
        "print(a)\n",
        "print(a[1:4:2])\n",
        "\n"
      ]
    },
    {
      "cell_type": "markdown",
      "metadata": {
        "id": "4mfsvN45DPH1"
      },
      "source": [
        "## Q3\n",
        "\n",
        "Create a 2d array with `1` on the border and `0` on the inside, e.g., like:\n",
        "```\n",
        "1 1 1 1 1\n",
        "1 0 0 0 1\n",
        "1 0 0 0 1\n",
        "1 1 1 1 1\n",
        "```\n",
        "\n",
        "Do this using array slice notation to let it work for an arbitrary-sized array"
      ]
    },
    {
      "cell_type": "code",
      "execution_count": 24,
      "metadata": {
        "tags": [],
        "id": "qf1EIwKSDPH2",
        "colab": {
          "base_uri": "https://localhost:8080/"
        },
        "outputId": "c0168aef-05b4-4b26-e690-bed8bb9a49c2"
      },
      "outputs": [
        {
          "output_type": "stream",
          "name": "stdout",
          "text": [
            "number of rows 4\n",
            "number of columns 5\n",
            "[[1. 1. 1. 1. 1.]\n",
            " [1. 0. 0. 0. 1.]\n",
            " [1. 0. 0. 0. 1.]\n",
            " [1. 1. 1. 1. 1.]]\n"
          ]
        }
      ],
      "source": [
        "r=input(\"number of rows \")\n",
        "c=input(\"number of columns \")\n",
        "a=np.ones([int(r),int(c)])\n",
        "b=np.zeros([((int(r)-2)),((int(c)-2))])\n",
        "a[1:(int(r)-1),1:(int(c)-1)]=b\n",
        "print(a)\n"
      ]
    },
    {
      "cell_type": "markdown",
      "metadata": {
        "id": "UuKIXz6vDPH3"
      },
      "source": [
        "## Q4\n",
        "\n",
        "  * Create an array with angles in degrees 0, 15, 30, ... 90 (i.e., every 15 degrees up to 90).\n",
        "\n",
        "  * Now create 3 new arrays with the sine, cosine, and tangent of the elements of the first array\n",
        "  \n",
        "  * Finally, calculate the inverse sine, inverse cosine, and inverse tangent the arrays above and compare to the original angles"
      ]
    },
    {
      "cell_type": "code",
      "execution_count": 25,
      "metadata": {
        "collapsed": true,
        "jupyter": {
          "outputs_hidden": true
        },
        "id": "bYMU3viyDPH4",
        "colab": {
          "base_uri": "https://localhost:8080/"
        },
        "outputId": "42c68f66-2b7c-4efd-dc65-7e31f08cbe89"
      },
      "outputs": [
        {
          "output_type": "stream",
          "name": "stdout",
          "text": [
            "[0.         0.25881905 0.5        0.70710678 0.8660254  0.96592583\n",
            " 1.        ]\n",
            "[1.00000000e+00 9.65925826e-01 8.66025404e-01 7.07106781e-01\n",
            " 5.00000000e-01 2.58819045e-01 6.12323400e-17]\n",
            "[0.00000000e+00 2.67949192e-01 5.77350269e-01 1.00000000e+00\n",
            " 1.73205081e+00 3.73205081e+00 1.63312394e+16]\n",
            "[ 0. 15. 30. 45. 60. 75. 90.]\n",
            "[ 0. 15. 30. 45. 60. 75. 90.]\n",
            "[ 0. 15. 30. 45. 60. 75. 90.]\n"
          ]
        }
      ],
      "source": [
        "a=np.array([0,15,30,45,60,75,90])\n",
        "b=np.sin(np.deg2rad(a))\n",
        "c=np.cos(np.deg2rad(a))\n",
        "d=np.tan(np.deg2rad(a))\n",
        "print(b)\n",
        "print(c)\n",
        "print(d)\n",
        "e=np.arcsin(b)\n",
        "f=np.arccos(c)\n",
        "g=np.arctan(d)\n",
        "print(np.rad2deg(e))\n",
        "print(np.rad2deg(f))\n",
        "print(np.rad2deg(g))"
      ]
    },
    {
      "cell_type": "markdown",
      "metadata": {
        "id": "oKhSlL_EDPH4"
      },
      "source": [
        "## Q5\n",
        "\n",
        "Given the array:\n",
        "```\n",
        "x = np.array([1, -1, 2, 5, 8, 4, 10, 12, 3])\n",
        "```\n",
        "calculate the difference of each element with its neighbor."
      ]
    },
    {
      "cell_type": "code",
      "execution_count": 26,
      "metadata": {
        "tags": [],
        "id": "mRojYTFMDPH5",
        "colab": {
          "base_uri": "https://localhost:8080/"
        },
        "outputId": "cfb9b412-71e0-47b7-dc17-2910fc4c4efb"
      },
      "outputs": [
        {
          "output_type": "stream",
          "name": "stdout",
          "text": [
            "[-2  3  3  3 -4  6  2 -9]\n"
          ]
        }
      ],
      "source": [
        "x = np.array([1, -1, 2, 5, 8, 4, 10, 12, 3])\n",
        "print(np.diff(x))"
      ]
    },
    {
      "cell_type": "markdown",
      "metadata": {
        "id": "F8oQd_ELDPH6"
      },
      "source": [
        "## Q6\n",
        "\n",
        "Here we will read in columns of numbers from a file and create a histogram, using NumPy routines.  Make sure you have the data file\n",
        "\"`sample.txt`\" in the same directory as this notebook (you can download it from  https://raw.githubusercontent.com/sbu-python-summer/python-tutorial/master/day-3/sample.txt\n",
        "\n",
        "  * Use `np.loadtxt()` to read this file in.  \n",
        "\n",
        "  * Next, use `np.histogram()` to create a histogram array.  The output returns both the count and an array of edges.\n",
        "  \n",
        "  * Finally, loop over the bins and print out the bin center (averaging the left and right edges of the bin) and the count for that bin."
      ]
    },
    {
      "cell_type": "code",
      "source": [
        "data=np.loadtxt(\"numpysample.txt\")\n",
        "hist,bin_edges=np.histogram(data)\n",
        "for i in range(len(hist)):\n",
        "  print(\"Bin centre= \"+ str(bin_edges[i]+(bin_edges[i+1]-bin_edges[i])/2))\n",
        "  print(\"Bin Count= \"+ str(hist[i]))"
      ],
      "metadata": {
        "colab": {
          "base_uri": "https://localhost:8080/"
        },
        "id": "B1R2sDb5j0O1",
        "outputId": "f14185fc-9d61-4815-e592-32e586926a7a"
      },
      "execution_count": 32,
      "outputs": [
        {
          "output_type": "stream",
          "name": "stdout",
          "text": [
            "Bin centre= -24.109006493430737\n",
            "Bin Count= 6\n",
            "Bin centre= -11.150163704648554\n",
            "Bin Count= 23\n",
            "Bin centre= 1.8086790841336278\n",
            "Bin Count= 52\n",
            "Bin centre= 14.767521872915811\n",
            "Bin Count= 37\n",
            "Bin centre= 27.726364661697996\n",
            "Bin Count= 16\n",
            "Bin centre= 40.68520745048018\n",
            "Bin Count= 14\n",
            "Bin centre= 53.64405023926236\n",
            "Bin Count= 13\n",
            "Bin centre= 66.60289302804455\n",
            "Bin Count= 13\n",
            "Bin centre= 79.56173581682673\n",
            "Bin Count= 13\n",
            "Bin centre= 92.5205786056089\n",
            "Bin Count= 13\n"
          ]
        }
      ]
    },
    {
      "cell_type": "markdown",
      "metadata": {
        "id": "qge_-x7CDPH7"
      },
      "source": [
        "## Q7\n",
        "\n",
        "NumPy has a standard deviation function, `np.std()`, but here we'll write our own that works on a 1-d array (vector).  The standard\n",
        "deviation is a measure of the \"width\" of the distribution of numbers\n",
        "in the vector.\n",
        "\n",
        "Given an array, $a$, and an average $\\bar{a}$, the standard deviation\n",
        "is:\n",
        "\n",
        "$$\n",
        "\\sigma = \\left [ \\frac{1}{N} \\sum_{i=1}^N (a_i - \\bar{a})^2 \\right ]^{1/2}\n",
        "$$\n",
        "\n",
        "Write a function to calculate the standard deviation for an input array, `a`:\n",
        "\n",
        "  * First compute the average of the elements in `a` to define $\\bar{a}$\n",
        "  * Next compute the sum over the squares of $a - \\bar{a}$\n",
        "  * Then divide the sum by the number of elements in the array\n",
        "  * Finally take the square root (you can use `np.sqrt()`)\n",
        "  \n",
        "Test your function on a random array, and compare to the built-in `np.std()`"
      ]
    },
    {
      "cell_type": "code",
      "source": [
        "\n",
        "lst = []\n",
        "n = int(input(\"Enter number of elements : \"))\n",
        "for i in range(0, n):\n",
        "    ele = int(input())\n",
        "    lst.append(ele)\n",
        "mean=np.mean(lst)\n",
        "sos=[]\n",
        "for i in range(0, n):\n",
        "  sq=(lst[i]-mean)**2\n",
        "  sos.append(sq)\n",
        "\n",
        "var=np.sum(sos)/n\n",
        "std=np.sqrt(var)\n",
        "print(std)\n",
        "stdcheck=np.std(lst)\n",
        "print(stdcheck)\n",
        "\n",
        "\n"
      ],
      "metadata": {
        "colab": {
          "base_uri": "https://localhost:8080/"
        },
        "id": "6_BOgGUDjzR4",
        "outputId": "c8014421-3ac5-4ff6-f5f3-947b3b8d8c12"
      },
      "execution_count": 37,
      "outputs": [
        {
          "output_type": "stream",
          "name": "stdout",
          "text": [
            "Enter number of elements : 3\n",
            "5\n",
            "6\n",
            "7\n",
            "0.816496580927726\n",
            "0.816496580927726\n"
          ]
        }
      ]
    }
  ],
  "metadata": {
    "kernelspec": {
      "display_name": "Python 3 (ipykernel)",
      "language": "python",
      "name": "python3"
    },
    "language_info": {
      "codemirror_mode": {
        "name": "ipython",
        "version": 3
      },
      "file_extension": ".py",
      "mimetype": "text/x-python",
      "name": "python",
      "nbconvert_exporter": "python",
      "pygments_lexer": "ipython3",
      "version": "3.12.1"
    },
    "colab": {
      "provenance": []
    }
  },
  "nbformat": 4,
  "nbformat_minor": 0
}