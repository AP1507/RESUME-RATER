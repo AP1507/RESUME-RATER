{
  "cells": [
    {
      "cell_type": "markdown",
      "metadata": {
        "id": "Ar4fL67UDPHr"
      },
      "source": [
        "# NumPy exercises"
      ]
    },
    {
      "cell_type": "markdown",
      "metadata": {
        "id": "_KH_5nW4DPHv"
      },
      "source": [
        "Some  of these come from / are inspired from https://github.com/rougier/numpy-100 and http://www.scipy-lectures.org/intro/numpy/exercises.html\n",
        "\n",
        "You might want to look over these lists as well."
      ]
    },
    {
      "cell_type": "code",
      "execution_count": null,
      "metadata": {
        "id": "u4ewzXF9DPHx"
      },
      "outputs": [],
      "source": [
        "import numpy as np"
      ]
    },
    {
      "cell_type": "markdown",
      "metadata": {
        "id": "BGjlCaQzDPHz"
      },
      "source": [
        "## Q1\n",
        "\n",
        "We can use `np.random.random_sample()` to create an array with random values.  By default, these will be in the range `[0.0, 1.0)`.  You can\n",
        "multiple the output and add a scalar to it to get it to be in a different range.\n",
        "\n",
        "Create a 10 x 10 array initialized with random numbers that lie between 0 and 10.\n",
        "\n",
        "Then compute the average of the array (there is a numpy function for this, `np.mean()`)."
      ]
    },
    {
      "cell_type": "code",
      "execution_count": null,
      "metadata": {
        "tags": [],
        "id": "6MSFAgQyDPHz",
        "outputId": "eb46646e-a867-4a96-a4a9-169759bb07ff",
        "colab": {
          "base_uri": "https://localhost:8080/"
        }
      },
      "outputs": [
        {
          "output_type": "stream",
          "name": "stdout",
          "text": [
            "[[0.54625777 0.75417752 0.13755163 0.24140922 0.13940651 0.90750972\n",
            "  0.42529318 0.21771596 0.61848007 0.44610769]\n",
            " [0.10982467 0.55080097 0.5541078  0.50958522 0.85187154 0.53556592\n",
            "  0.57395501 0.10471168 0.82344753 0.88047101]\n",
            " [0.38779913 0.97610579 0.87568729 0.26685975 0.55920807 0.58122041\n",
            "  0.35253118 0.10838921 0.21007633 0.45023518]\n",
            " [0.90511926 0.07933332 0.90404668 0.66069213 0.90481406 0.71100884\n",
            "  0.86766162 0.75537154 0.72913157 0.7285638 ]\n",
            " [0.6157169  0.35294191 0.95241857 0.33077654 0.92030645 0.18846884\n",
            "  0.5472134  0.91218627 0.28256019 0.22408191]\n",
            " [0.30302566 0.7914427  0.23050177 0.45358049 0.90530071 0.28890352\n",
            "  0.07469783 0.32309439 0.35245322 0.07762173]\n",
            " [0.23661869 0.80008977 0.76737113 0.56364424 0.38788349 0.93208585\n",
            "  0.37147761 0.96401865 0.61178166 0.80761187]\n",
            " [0.12325018 0.68451333 0.74140381 0.20089501 0.96548914 0.00126256\n",
            "  0.66743035 0.08580112 0.34825233 0.68465143]\n",
            " [0.94348492 0.00909556 0.15715236 0.20013303 0.48925    0.77747711\n",
            "  0.81016968 0.98761285 0.82495097 0.46653775]\n",
            " [0.81965979 0.77906947 0.56361563 0.952234   0.29891373 0.18421682\n",
            "  0.03056883 0.24334993 0.28492137 0.69385619]]\n"
          ]
        },
        {
          "output_type": "execute_result",
          "data": {
            "text/plain": [
              "0.5253120102406992"
            ]
          },
          "metadata": {},
          "execution_count": 1
        }
      ],
      "source": [
        "import numpy as np\n",
        "array = np.random.uniform(size=(10,10))\n",
        "print(array)\n",
        "array.mean()"
      ]
    },
    {
      "cell_type": "markdown",
      "metadata": {
        "id": "1RGJBfycDPH0"
      },
      "source": [
        "## Q2\n",
        "\n",
        "Create the array:\n",
        "```\n",
        "[[1,  6, 11],\n",
        " [2,  7, 12],\n",
        " [3,  8, 13],\n",
        " [4,  9, 14],\n",
        " [5, 10, 15]]\n",
        "```\n",
        "with out explicitly typing it in.\n",
        "\n",
        "Now create a new array containing only its 2nd and 4th rows."
      ]
    },
    {
      "cell_type": "code",
      "execution_count": null,
      "metadata": {
        "tags": [],
        "id": "1jxOF41eDPH0",
        "colab": {
          "base_uri": "https://localhost:8080/"
        },
        "outputId": "74819553-e324-4ac6-ba2a-fc92cce0980a"
      },
      "outputs": [
        {
          "output_type": "stream",
          "name": "stdout",
          "text": [
            "[[ 1  6 11]\n",
            " [ 2  7 12]\n",
            " [ 3  8 13]\n",
            " [ 4  9 14]\n",
            " [ 5 10 15]]\n"
          ]
        }
      ],
      "source": [
        "import numpy as np\n",
        "a = np.array([1, 2, 3, 4, 5])\n",
        "b = a + 5\n",
        "c = a + 10\n",
        "x = np.stack((a, b, c), axis=1)\n",
        "print(x)\n"
      ]
    },
    {
      "cell_type": "markdown",
      "metadata": {
        "id": "4mfsvN45DPH1"
      },
      "source": [
        "## Q3\n",
        "\n",
        "Create a 2d array with `1` on the border and `0` on the inside, e.g., like:\n",
        "```\n",
        "1 1 1 1 1\n",
        "1 0 0 0 1\n",
        "1 0 0 0 1\n",
        "1 1 1 1 1\n",
        "```\n",
        "\n",
        "Do this using array slice notation to let it work for an arbitrary-sized array"
      ]
    },
    {
      "cell_type": "code",
      "execution_count": null,
      "metadata": {
        "tags": [],
        "id": "qf1EIwKSDPH2",
        "colab": {
          "base_uri": "https://localhost:8080/"
        },
        "outputId": "2f41ffad-cabb-442b-beb2-5af1878c2143"
      },
      "outputs": [
        {
          "output_type": "execute_result",
          "data": {
            "text/plain": [
              "array([[1, 1, 1, 1, 1],\n",
              "       [1, 0, 0, 0, 1],\n",
              "       [1, 0, 0, 0, 1],\n",
              "       [1, 1, 1, 1, 1]])"
            ]
          },
          "metadata": {},
          "execution_count": 44
        }
      ],
      "source": [
        "import numpy as np\n",
        "def array(m,n):\n",
        "  x = np.zeros((m,n), dtype=int)\n",
        "  x[0,:] = 1\n",
        "  x[-1,:] = 1\n",
        "  x[1:-1,0] = 1\n",
        "  x[1:-1,-1] = 1\n",
        "  return x\n",
        "array(4,5)\n"
      ]
    },
    {
      "cell_type": "markdown",
      "metadata": {
        "id": "UuKIXz6vDPH3"
      },
      "source": [
        "## Q4\n",
        "\n",
        "  * Create an array with angles in degrees 0, 15, 30, ... 90 (i.e., every 15 degrees up to 90).\n",
        "\n",
        "  * Now create 3 new arrays with the sine, cosine, and tangent of the elements of the first array\n",
        "  \n",
        "  * Finally, calculate the inverse sine, inverse cosine, and inverse tangent the arrays above and compare to the original angles"
      ]
    },
    {
      "cell_type": "code",
      "execution_count": null,
      "metadata": {
        "collapsed": true,
        "jupyter": {
          "outputs_hidden": true
        },
        "id": "bYMU3viyDPH4",
        "outputId": "0ee111b9-11bb-4f02-9466-a27aa0eacf8a",
        "colab": {
          "base_uri": "https://localhost:8080/"
        }
      },
      "outputs": [
        {
          "output_type": "stream",
          "name": "stdout",
          "text": [
            "[0.         0.25881905 0.5        0.70710678 0.8660254  0.96592583\n",
            " 1.        ]\n",
            "[1.00000000e+00 9.65925826e-01 8.66025404e-01 7.07106781e-01\n",
            " 5.00000000e-01 2.58819045e-01 6.12323400e-17]\n",
            "[0.00000000e+00 2.67949192e-01 5.77350269e-01 1.00000000e+00\n",
            " 1.73205081e+00 3.73205081e+00 1.63312394e+16]\n",
            "[0.         0.26179939 0.52359878 0.78539816 1.04719755 1.30899694\n",
            " 1.57079633]\n",
            "[0.         0.26179939 0.52359878 0.78539816 1.04719755 1.30899694\n",
            " 1.57079633]\n",
            "[0.         0.26179939 0.52359878 0.78539816 1.04719755 1.30899694\n",
            " 1.57079633]\n"
          ]
        }
      ],
      "source": [
        "import numpy as np\n",
        "angles = np.array([0, np.pi/12, np.pi/6, np.pi/4, np.pi/3, np.pi*5/12, np.pi/2])\n",
        "sine = np.sin(angles)\n",
        "cosine = np.cos(angles)\n",
        "tangent = np.tan(angles)\n",
        "inv_sine = np.arcsin(sine)\n",
        "inv_cosine = np.arccos(cosine)\n",
        "inv_tangent = np.arctan(tangent)\n",
        "print(sine)\n",
        "print(cosine)\n",
        "print(tangent)\n",
        "print(inv_sine)\n",
        "print(inv_cosine)\n",
        "print(inv_tangent)\n"
      ]
    },
    {
      "cell_type": "markdown",
      "metadata": {
        "id": "oKhSlL_EDPH4"
      },
      "source": [
        "## Q5\n",
        "\n",
        "Given the array:\n",
        "```\n",
        "x = np.array([1, -1, 2, 5, 8, 4, 10, 12, 3])\n",
        "```\n",
        "calculate the difference of each element with its neighbor."
      ]
    },
    {
      "cell_type": "code",
      "execution_count": null,
      "metadata": {
        "tags": [],
        "id": "mRojYTFMDPH5",
        "colab": {
          "base_uri": "https://localhost:8080/"
        },
        "outputId": "907fa8bf-4de9-461a-f8a7-1ebe9d677d1b"
      },
      "outputs": [
        {
          "output_type": "stream",
          "name": "stdout",
          "text": [
            "-2\n",
            "3\n",
            "3\n",
            "3\n",
            "-4\n",
            "6\n",
            "2\n",
            "-9\n"
          ]
        }
      ],
      "source": [
        "import numpy as np\n",
        "x = np.array([1, -1, 2, 5, 8, 4, 10, 12, 3])\n",
        "x_new = np.diff(x)\n",
        "for a in x_new:\n",
        "  print(a)"
      ]
    },
    {
      "cell_type": "markdown",
      "metadata": {
        "id": "F8oQd_ELDPH6"
      },
      "source": [
        "## Q6\n",
        "\n",
        "Here we will read in columns of numbers from a file and create a histogram, using NumPy routines.  Make sure you have the data file\n",
        "\"`sample.txt`\" in the same directory as this notebook (you can download it from  https://raw.githubusercontent.com/sbu-python-summer/python-tutorial/master/day-3/sample.txt\n",
        "\n",
        "  * Use `np.loadtxt()` to read this file in.  \n",
        "\n",
        "  * Next, use `np.histogram()` to create a histogram array.  The output returns both the count and an array of edges.\n",
        "  \n",
        "  * Finally, loop over the bins and print out the bin center (averaging the left and right edges of the bin) and the count for that bin."
      ]
    },
    {
      "cell_type": "code",
      "execution_count": null,
      "metadata": {
        "tags": [],
        "id": "F8hdGe1qDPH6",
        "colab": {
          "base_uri": "https://localhost:8080/"
        },
        "outputId": "6cefcd32-aeb8-4005-ba6e-9ec1f36d8920"
      },
      "outputs": [
        {
          "output_type": "stream",
          "name": "stdout",
          "text": [
            "(array([ 6, 23, 52, 37, 16, 14, 13, 13, 13, 13]), array([-30.58842789, -17.6295851 ,  -4.67074231,   8.28810048,\n",
            "        21.24694327,  34.20578606,  47.16462884,  60.12347163,\n",
            "        73.08231442,  86.04115721,  99.        ]))\n"
          ]
        }
      ],
      "source": [
        "import numpy as np\n",
        "sample_txt = np.loadtxt(\"https://raw.githubusercontent.com/sbu-python-summer/python-tutorial/master/day-3/sample.txt\")\n",
        "print(np.histogram(sample_txt))\n",
        "\n"
      ]
    },
    {
      "cell_type": "markdown",
      "metadata": {
        "id": "qge_-x7CDPH7"
      },
      "source": [
        "## Q7\n",
        "\n",
        "NumPy has a standard deviation function, `np.std()`, but here we'll write our own that works on a 1-d array (vector).  The standard\n",
        "deviation is a measure of the \"width\" of the distribution of numbers\n",
        "in the vector.\n",
        "\n",
        "Given an array, $a$, and an average $\\bar{a}$, the standard deviation\n",
        "is:\n",
        "\n",
        "$$\n",
        "\\sigma = \\left [ \\frac{1}{N} \\sum_{i=1}^N (a_i - \\bar{a})^2 \\right ]^{1/2}\n",
        "$$\n",
        "\n",
        "Write a function to calculate the standard deviation for an input array, `a`:\n",
        "\n",
        "  * First compute the average of the elements in `a` to define $\\bar{a}$\n",
        "  * Next compute the sum over the squares of $a - \\bar{a}$\n",
        "  * Then divide the sum by the number of elements in the array\n",
        "  * Finally take the square root (you can use `np.sqrt()`)\n",
        "  \n",
        "Test your function on a random array, and compare to the built-in `np.std()`"
      ]
    },
    {
      "cell_type": "code",
      "execution_count": null,
      "metadata": {
        "id": "0dxQkXaZDPH9",
        "colab": {
          "base_uri": "https://localhost:8080/"
        },
        "outputId": "7d06c419-6012-402b-d870-9d5c88f33ed8"
      },
      "outputs": [
        {
          "output_type": "stream",
          "name": "stdout",
          "text": [
            "1.4142135623730951\n",
            "1.4142135623730951\n"
          ]
        }
      ],
      "source": [
        "import numpy as np\n",
        "a = np.array([1, 2, 3, 4, 5])\n",
        "print(np.std(a))\n",
        "def stdfunc(z):\n",
        "  x = (z - ((z.sum())/z.size))**2\n",
        "  print(np.sqrt(((x.sum())/z.size)))\n",
        "stdfunc(a)\n",
        "\n",
        "\n"
      ]
    }
  ],
  "metadata": {
    "kernelspec": {
      "display_name": "Python 3 (ipykernel)",
      "language": "python",
      "name": "python3"
    },
    "language_info": {
      "codemirror_mode": {
        "name": "ipython",
        "version": 3
      },
      "file_extension": ".py",
      "mimetype": "text/x-python",
      "name": "python",
      "nbconvert_exporter": "python",
      "pygments_lexer": "ipython3",
      "version": "3.12.1"
    },
    "colab": {
      "provenance": [],
      "collapsed_sections": [
        "BGjlCaQzDPHz",
        "1RGJBfycDPH0",
        "4mfsvN45DPH1",
        "UuKIXz6vDPH3",
        "oKhSlL_EDPH4",
        "F8oQd_ELDPH6",
        "qge_-x7CDPH7"
      ]
    }
  },
  "nbformat": 4,
  "nbformat_minor": 0
}