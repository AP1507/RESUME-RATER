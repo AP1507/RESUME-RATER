{
 "cells": [
  {
   "cell_type": "markdown",
   "metadata": {
    "id": "Ar4fL67UDPHr"
   },
   "source": [
    "# NumPy exercises"
   ]
  },
  {
   "cell_type": "markdown",
   "metadata": {
    "id": "_KH_5nW4DPHv"
   },
   "source": [
    "Some  of these come from / are inspired from https://github.com/rougier/numpy-100 and http://www.scipy-lectures.org/intro/numpy/exercises.html\n",
    "\n",
    "You might want to look over these lists as well."
   ]
  },
  {
   "cell_type": "code",
   "execution_count": 30,
   "metadata": {
    "executionInfo": {
     "elapsed": 360,
     "status": "ok",
     "timestamp": 1733408109310,
     "user": {
      "displayName": "HARSH",
      "userId": "15231902621483241862"
     },
     "user_tz": -330
    },
    "id": "u4ewzXF9DPHx"
   },
   "outputs": [],
   "source": [
    "import numpy as np"
   ]
  },
  {
   "cell_type": "markdown",
   "metadata": {
    "id": "BGjlCaQzDPHz"
   },
   "source": [
    "## Q1\n",
    "\n",
    "We can use `np.random.random_sample()` to create an array with random values.  By default, these will be in the range `[0.0, 1.0)`.  You can\n",
    "multiple the output and add a scalar to it to get it to be in a different range.\n",
    "\n",
    "Create a 10 x 10 array initialized with random numbers that lie between 0 and 10.\n",
    "\n",
    "Then compute the average of the array (there is a numpy function for this, `np.mean()`)."
   ]
  },
  {
   "cell_type": "code",
   "execution_count": 5,
   "metadata": {
    "executionInfo": {
     "elapsed": 358,
     "status": "ok",
     "timestamp": 1733403630534,
     "user": {
      "displayName": "HARSH",
      "userId": "15231902621483241862"
     },
     "user_tz": -330
    },
    "id": "6MSFAgQyDPHz",
    "tags": []
   },
   "outputs": [],
   "source": [
    "arr=np.random.random_sample((10,10))*10\n",
    "avg= np.mean(arr)"
   ]
  },
  {
   "cell_type": "markdown",
   "metadata": {
    "id": "1RGJBfycDPH0"
   },
   "source": [
    "## Q2\n",
    "\n",
    "Create the array:\n",
    "```\n",
    "[[1,  6, 11],\n",
    " [2,  7, 12],\n",
    " [3,  8, 13],\n",
    " [4,  9, 14],\n",
    " [5, 10, 15]]\n",
    "```\n",
    "with out explicitly typing it in.\n",
    "\n",
    "Now create a new array containing only its 2nd and 4th rows."
   ]
  },
  {
   "cell_type": "code",
   "execution_count": 16,
   "metadata": {
    "colab": {
     "base_uri": "https://localhost:8080/"
    },
    "executionInfo": {
     "elapsed": 377,
     "status": "ok",
     "timestamp": 1733404435908,
     "user": {
      "displayName": "HARSH",
      "userId": "15231902621483241862"
     },
     "user_tz": -330
    },
    "id": "1jxOF41eDPH0",
    "outputId": "d9a2e17d-4db2-4c56-bbca-278b46cb03cb",
    "tags": []
   },
   "outputs": [
    {
     "name": "stdout",
     "output_type": "stream",
     "text": [
      "[[ 1  6 11]\n",
      " [ 2  7 12]\n",
      " [ 3  8 13]\n",
      " [ 4  9 14]\n",
      " [ 5 10 15]]\n",
      "[[ 2  7 12]\n",
      " [ 4  9 14]]\n"
     ]
    }
   ],
   "source": [
    "arr = np.arange(1, 16).reshape(5, 3, order='F')\n",
    "print(arr)\n",
    "arr1= arr[[1,3],:]\n",
    "print(arr1)"
   ]
  },
  {
   "cell_type": "markdown",
   "metadata": {
    "id": "4mfsvN45DPH1"
   },
   "source": [
    "## Q3\n",
    "\n",
    "Create a 2d array with `1` on the border and `0` on the inside, e.g., like:\n",
    "```\n",
    "1 1 1 1 1\n",
    "1 0 0 0 1\n",
    "1 0 0 0 1\n",
    "1 1 1 1 1\n",
    "```\n",
    "\n",
    "Do this using array slice notation to let it work for an arbitrary-sized array"
   ]
  },
  {
   "cell_type": "code",
   "execution_count": 21,
   "metadata": {
    "colab": {
     "base_uri": "https://localhost:8080/"
    },
    "executionInfo": {
     "elapsed": 3846,
     "status": "ok",
     "timestamp": 1733405466390,
     "user": {
      "displayName": "HARSH",
      "userId": "15231902621483241862"
     },
     "user_tz": -330
    },
    "id": "qf1EIwKSDPH2",
    "outputId": "7ac571e2-0b42-416e-d785-01e078d5135a",
    "tags": []
   },
   "outputs": [
    {
     "name": "stdout",
     "output_type": "stream",
     "text": [
      "2\n",
      "2\n",
      "[[1 1]\n",
      " [1 1]]\n"
     ]
    }
   ],
   "source": [
    "x=int(input())\n",
    "y=int(input())\n",
    "arr=np.full((x,y),0)\n",
    "arr[0,:]=1\n",
    "arr[-1,:]=1\n",
    "arr[:,0]=1\n",
    "arr[:,-1]=1\n",
    "print(arr)"
   ]
  },
  {
   "cell_type": "markdown",
   "metadata": {
    "id": "UuKIXz6vDPH3"
   },
   "source": [
    "## Q4\n",
    "\n",
    "  * Create an array with angles in degrees 0, 15, 30, ... 90 (i.e., every 15 degrees up to 90).\n",
    "\n",
    "  * Now create 3 new arrays with the sine, cosine, and tangent of the elements of the first array\n",
    "  \n",
    "  * Finally, calculate the inverse sine, inverse cosine, and inverse tangent the arrays above and compare to the original angles"
   ]
  },
  {
   "cell_type": "code",
   "execution_count": 28,
   "metadata": {
    "colab": {
     "base_uri": "https://localhost:8080/"
    },
    "collapsed": true,
    "executionInfo": {
     "elapsed": 400,
     "status": "ok",
     "timestamp": 1733407992444,
     "user": {
      "displayName": "HARSH",
      "userId": "15231902621483241862"
     },
     "user_tz": -330
    },
    "id": "bYMU3viyDPH4",
    "jupyter": {
     "outputs_hidden": true
    },
    "outputId": "bbfe9cf0-65be-4b9e-b37c-13d2a99cded8"
   },
   "outputs": [
    {
     "name": "stdout",
     "output_type": "stream",
     "text": [
      "Angles= [ 0 15 30 45 60 75 90]\n",
      "SIN= [0.         0.25881905 0.5        0.70710678 0.8660254  0.96592583\n",
      " 1.        ]\n",
      "COS= [1.00000000e+00 9.65925826e-01 8.66025404e-01 7.07106781e-01\n",
      " 5.00000000e-01 2.58819045e-01 6.12323400e-17]\n",
      "TAN= [0.00000000e+00 2.67949192e-01 5.77350269e-01 1.00000000e+00\n",
      " 1.73205081e+00 3.73205081e+00 1.63312394e+16]\n",
      "SIN INVERSE= [ 0. 15. 30. 45. 60. 75. 90.]\n",
      "COS INVERSE= [ 0. 15. 30. 45. 60. 75. 90.]\n",
      "TAN INVERSE= [ 0. 15. 30. 45. 60. 75. 90.]\n"
     ]
    }
   ],
   "source": [
    "arr=np.arange(0,91,15)\n",
    "np.array(arr,ndmin=2)\n",
    "print(\"Angles=\",arr)\n",
    "rad=np.radians(arr)\n",
    "sin=np.sin(rad)\n",
    "cos=np.cos(rad)\n",
    "tan=np.tan(rad)\n",
    "asin=np.degrees(np.arcsin(sin))\n",
    "acos=np.degrees(np.arccos(cos))\n",
    "atan=np.degrees(np.arctan(tan))\n",
    "print(\"SIN=\",sin)\n",
    "print(\"COS=\",cos)\n",
    "print(\"TAN=\",tan)\n",
    "print(\"SIN INVERSE=\",asin)\n",
    "print(\"COS INVERSE=\",acos)\n",
    "print(\"TAN INVERSE=\",atan)\n",
    "\n"
   ]
  },
  {
   "cell_type": "markdown",
   "metadata": {
    "id": "oKhSlL_EDPH4"
   },
   "source": [
    "## Q5\n",
    "\n",
    "Given the array:\n",
    "```\n",
    "x = np.array([1, -1, 2, 5, 8, 4, 10, 12, 3])\n",
    "```\n",
    "calculate the difference of each element with its neighbor."
   ]
  },
  {
   "cell_type": "code",
   "execution_count": 38,
   "metadata": {
    "colab": {
     "base_uri": "https://localhost:8080/"
    },
    "executionInfo": {
     "elapsed": 397,
     "status": "ok",
     "timestamp": 1733408716080,
     "user": {
      "displayName": "HARSH",
      "userId": "15231902621483241862"
     },
     "user_tz": -330
    },
    "id": "mRojYTFMDPH5",
    "outputId": "0cb189b0-a92d-4eb4-cdf1-4768143a0ddf",
    "tags": []
   },
   "outputs": [
    {
     "name": "stdout",
     "output_type": "stream",
     "text": [
      "[-2  3  3  3 -4  6  2 -9]\n"
     ]
    }
   ],
   "source": [
    "x = np.array([1, -1, 2, 5, 8, 4, 10, 12, 3])\n",
    "print(np.diff(x))"
   ]
  },
  {
   "cell_type": "markdown",
   "metadata": {
    "id": "F8oQd_ELDPH6"
   },
   "source": [
    "## Q6\n",
    "\n",
    "Here we will read in columns of numbers from a file and create a histogram, using NumPy routines.  Make sure you have the data file\n",
    "\"`sample.txt`\" in the same directory as this notebook (you can download it from  https://raw.githubusercontent.com/sbu-python-summer/python-tutorial/master/day-3/sample.txt\n",
    "\n",
    "  * Use `np.loadtxt()` to read this file in.  \n",
    "\n",
    "  * Next, use `np.histogram()` to create a histogram array.  The output returns both the count and an array of edges.\n",
    "  \n",
    "  * Finally, loop over the bins and print out the bin center (averaging the left and right edges of the bin) and the count for that bin."
   ]
  },
  {
   "cell_type": "code",
   "execution_count": 64,
   "metadata": {
    "colab": {
     "base_uri": "https://localhost:8080/"
    },
    "collapsed": true,
    "executionInfo": {
     "elapsed": 3,
     "status": "ok",
     "timestamp": 1733411371737,
     "user": {
      "displayName": "HARSH",
      "userId": "15231902621483241862"
     },
     "user_tz": -330
    },
    "id": "F8hdGe1qDPH6",
    "outputId": "f956c2c9-cd35-4196-bfad-f378ff39129a",
    "tags": []
   },
   "outputs": [
    {
     "name": "stdout",
     "output_type": "stream",
     "text": [
      "Bin center:       -2410.900649%, Count:         600.000000%\n",
      "Bin center:       -1115.016370%, Count:        2300.000000%\n",
      "Bin center:         180.867908%, Count:        5200.000000%\n",
      "Bin center:        1476.752187%, Count:        3700.000000%\n",
      "Bin center:        2772.636466%, Count:        1600.000000%\n",
      "Bin center:        4068.520745%, Count:        1400.000000%\n",
      "Bin center:        5364.405024%, Count:        1300.000000%\n",
      "Bin center:        6660.289303%, Count:        1300.000000%\n",
      "Bin center:        7956.173582%, Count:        1300.000000%\n",
      "Bin center:        9252.057861%, Count:        1300.000000%\n"
     ]
    }
   ],
   "source": [
    "text = np.loadtxt(\"https://raw.githubusercontent.com/sbu-python-summer/python-tutorial/master/day-3/sample.txt\")\n",
    "count,binedges = np.histogram(text)\n",
    "for i in range(len(count)):\n",
    "    bincenter=(binedges[i] + binedges[i+1]) / 2\n",
    "    print(\"Bin center:{:20%}, Count:{:20%}\".format(bincenter,count[i]))"
   ]
  },
  {
   "cell_type": "markdown",
   "metadata": {
    "id": "qge_-x7CDPH7"
   },
   "source": [
    "## Q7\n",
    "\n",
    "NumPy has a standard deviation function, `np.std()`, but here we'll write our own that works on a 1-d array (vector).  The standard\n",
    "deviation is a measure of the \"width\" of the distribution of numbers\n",
    "in the vector.\n",
    "\n",
    "Given an array, $a$, and an average $\\bar{a}$, the standard deviation\n",
    "is:\n",
    "\n",
    "$$\n",
    "\\sigma = \\left [ \\frac{1}{N} \\sum_{i=1}^N (a_i - \\bar{a})^2 \\right ]^{1/2}\n",
    "$$\n",
    "\n",
    "Write a function to calculate the standard deviation for an input array, `a`:\n",
    "\n",
    "  * First compute the average of the elements in `a` to define $\\bar{a}$\n",
    "  * Next compute the sum over the squares of $a - \\bar{a}$\n",
    "  * Then divide the sum by the number of elements in the array\n",
    "  * Finally take the square root (you can use `np.sqrt()`)\n",
    "  \n",
    "Test your function on a random array, and compare to the built-in `np.std()`"
   ]
  },
  {
   "cell_type": "code",
   "execution_count": 63,
   "metadata": {
    "colab": {
     "base_uri": "https://localhost:8080/"
    },
    "executionInfo": {
     "elapsed": 352,
     "status": "ok",
     "timestamp": 1733411370203,
     "user": {
      "displayName": "HARSH",
      "userId": "15231902621483241862"
     },
     "user_tz": -330
    },
    "id": "Mm0ZFCi-Tysu",
    "outputId": "f9f65fa3-ae38-4415-912d-3895da71e4d1"
   },
   "outputs": [
    {
     "name": "stdout",
     "output_type": "stream",
     "text": [
      "np.std : 147.6233043933105\n",
      "147.6233043933105\n"
     ]
    }
   ],
   "source": [
    "def customstd(arr):\n",
    "    sum=0\n",
    "    avg=np.mean(arr)\n",
    "    sum=np.sum((arr-avg)**2)\n",
    "    variance=sum/(len(arr))\n",
    "    std=np.sqrt(variance)\n",
    "    print(std)\n",
    "arr1=np.array([123,152,69,73,465])\n",
    "print(\"np.std :\",np.std(arr1))\n",
    "customstd(arr1)"
   ]
  },
  {
   "cell_type": "code",
   "execution_count": null,
   "metadata": {
    "id": "J6FWTjzTUAx0"
   },
   "outputs": [],
   "source": []
  },
  {
   "cell_type": "markdown",
   "metadata": {
    "id": "0dxQkXaZDPH9"
   },
   "source": []
  }
 ],
 "metadata": {
  "colab": {
   "provenance": [
    {
     "file_id": "1k3GEZ41WFV9fAzHOFHGxAdBJSmjp-DFA",
     "timestamp": 1733402181377
    },
    {
     "file_id": "https://github.com/sbu-python-class/python-science/blob/main/content/02-numpy/numpy-exercises.ipynb",
     "timestamp": 1732919545665
    }
   ]
  },
  "kernelspec": {
   "display_name": "Python 3 (ipykernel)",
   "language": "python",
   "name": "python3"
  },
  "language_info": {
   "codemirror_mode": {
    "name": "ipython",
    "version": 3
   },
   "file_extension": ".py",
   "mimetype": "text/x-python",
   "name": "python",
   "nbconvert_exporter": "python",
   "pygments_lexer": "ipython3",
   "version": "3.12.1"
  }
 },
 "nbformat": 4,
 "nbformat_minor": 0
}
