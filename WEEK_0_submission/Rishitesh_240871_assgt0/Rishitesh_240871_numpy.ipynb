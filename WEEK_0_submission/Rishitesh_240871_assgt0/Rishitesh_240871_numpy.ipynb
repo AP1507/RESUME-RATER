{
  "cells": [
    {
      "cell_type": "markdown",
      "metadata": {
        "id": "Ar4fL67UDPHr"
      },
      "source": [
        "# NumPy exercises"
      ]
    },
    {
      "cell_type": "markdown",
      "metadata": {
        "id": "_KH_5nW4DPHv"
      },
      "source": [
        "Some  of these come from / are inspired from https://github.com/rougier/numpy-100 and http://www.scipy-lectures.org/intro/numpy/exercises.html\n",
        "\n",
        "You might want to look over these lists as well."
      ]
    },
    {
      "cell_type": "code",
      "execution_count": null,
      "metadata": {
        "id": "u4ewzXF9DPHx"
      },
      "outputs": [],
      "source": [
        "import numpy as np"
      ]
    },
    {
      "cell_type": "markdown",
      "metadata": {
        "id": "BGjlCaQzDPHz"
      },
      "source": [
        "## Q1\n",
        "\n",
        "We can use `np.random.random_sample()` to create an array with random values.  By default, these will be in the range `[0.0, 1.0)`.  You can\n",
        "multiple the output and add a scalar to it to get it to be in a different range.\n",
        "\n",
        "Create a 10 x 10 array initialized with random numbers that lie between 0 and 10.\n",
        "\n",
        "Then compute the average of the array (there is a numpy function for this, `np.mean()`)."
      ]
    },
    {
      "cell_type": "code",
      "execution_count": 14,
      "metadata": {
        "tags": [],
        "id": "6MSFAgQyDPHz",
        "colab": {
          "base_uri": "https://localhost:8080/"
        },
        "outputId": "0aed05e5-2d87-4c2b-804b-2514ec6bb3cf"
      },
      "outputs": [
        {
          "output_type": "stream",
          "name": "stdout",
          "text": [
            "[[5.24572432 8.51042256 5.62049819 7.15095176 8.29456747 1.4765435\n",
            "  4.42104013 0.5008073  4.55800681 5.24756055]\n",
            " [7.20635901 8.96029753 9.61982082 9.41280354 9.59207822 4.27781964\n",
            "  3.66453817 0.63847946 9.86173902 2.30492862]\n",
            " [4.81650588 5.37119935 4.72414436 2.56746163 4.25174524 6.07522648\n",
            "  1.62828733 9.05124245 3.67092357 1.37096214]\n",
            " [3.22821796 6.24270276 5.1387609  8.3511124  9.95411381 0.78804384\n",
            "  4.87376768 3.55566252 5.34450713 7.07336136]\n",
            " [2.41733128 1.2599208  2.3217093  6.73671576 4.21648039 1.39509796\n",
            "  8.05200944 5.65260502 4.42563035 0.53920214]\n",
            " [7.96932902 2.03109384 5.69515378 0.31724476 8.61292759 8.61059505\n",
            "  6.22163882 8.82754144 7.81472434 4.90486868]\n",
            " [4.41899519 7.43995027 9.83975355 0.17673441 6.12695608 8.8336284\n",
            "  9.56027532 3.2106276  7.61754151 4.52173853]\n",
            " [2.27748847 5.3031895  1.32707892 7.66721305 9.3018443  1.87442522\n",
            "  7.24513637 3.96164076 6.87003982 8.10635522]\n",
            " [2.98193977 2.11294084 7.60423917 2.58407656 4.01669021 1.92408052\n",
            "  4.96149239 8.56087299 0.91952411 6.11397002]\n",
            " [5.19237169 2.60321175 8.97258966 9.77770154 9.51644908 6.31271401\n",
            "  3.81161096 3.50183907 7.17840734 7.48216465]]\n",
            "Mean:\n",
            "5.344742540035395\n"
          ]
        }
      ],
      "source": [
        "arr=np.random.random_sample((10,10))*10\n",
        "mean=np.mean(arr)\n",
        "print(arr)\n",
        "print(\"Mean:\")\n",
        "print(mean)"
      ]
    },
    {
      "cell_type": "markdown",
      "metadata": {
        "id": "1RGJBfycDPH0"
      },
      "source": [
        "## Q2\n",
        "\n",
        "Create the array:\n",
        "```\n",
        "[[1,  6, 11],\n",
        " [2,  7, 12],\n",
        " [3,  8, 13],\n",
        " [4,  9, 14],\n",
        " [5, 10, 15]]\n",
        "```\n",
        "with out explicitly typing it in.\n",
        "\n",
        "Now create a new array containing only its 2nd and 4th rows."
      ]
    },
    {
      "cell_type": "code",
      "execution_count": 16,
      "metadata": {
        "tags": [],
        "id": "1jxOF41eDPH0",
        "colab": {
          "base_uri": "https://localhost:8080/"
        },
        "outputId": "9de77cb1-6dac-4cf1-e603-eca455563d78"
      },
      "outputs": [
        {
          "output_type": "stream",
          "name": "stdout",
          "text": [
            "[[ 1  6 11]\n",
            " [ 2  7 12]\n",
            " [ 3  8 13]\n",
            " [ 4  9 14]\n",
            " [ 5 10 15]]\n",
            "2nd and 4th rows:\n",
            "[[ 2  7 12]\n",
            " [ 4  9 14]]\n"
          ]
        }
      ],
      "source": [
        "arr = np.arange(1, 16).reshape(5, 3, order='F')\n",
        "newarr = arr[[1, 3], :]\n",
        "print(arr)\n",
        "print(\"2nd and 4th rows:\")\n",
        "print(newarr)\n"
      ]
    },
    {
      "cell_type": "markdown",
      "metadata": {
        "id": "4mfsvN45DPH1"
      },
      "source": [
        "## Q3\n",
        "\n",
        "Create a 2d array with `1` on the border and `0` on the inside, e.g., like:\n",
        "```\n",
        "1 1 1 1 1\n",
        "1 0 0 0 1\n",
        "1 0 0 0 1\n",
        "1 1 1 1 1\n",
        "```\n",
        "\n",
        "Do this using array slice notation to let it work for an arbitrary-sized array"
      ]
    },
    {
      "cell_type": "code",
      "execution_count": 15,
      "metadata": {
        "tags": [],
        "id": "qf1EIwKSDPH2",
        "colab": {
          "base_uri": "https://localhost:8080/"
        },
        "outputId": "3a572f60-1a3b-4536-f131-87de36fba444"
      },
      "outputs": [
        {
          "output_type": "stream",
          "name": "stdout",
          "text": [
            "[[1. 1. 1. 1. 1.]\n",
            " [1. 0. 0. 0. 1.]\n",
            " [1. 0. 0. 0. 1.]\n",
            " [1. 0. 0. 0. 1.]\n",
            " [1. 1. 1. 1. 1.]]\n"
          ]
        }
      ],
      "source": [
        "i,j = 5, 5\n",
        "arr = np.ones((i,j))\n",
        "arr[1:-1, 1:-1] = 0\n",
        "print(arr)\n"
      ]
    },
    {
      "cell_type": "markdown",
      "metadata": {
        "id": "UuKIXz6vDPH3"
      },
      "source": [
        "## Q4\n",
        "\n",
        "  * Create an array with angles in degrees 0, 15, 30, ... 90 (i.e., every 15 degrees up to 90).\n",
        "\n",
        "  * Now create 3 new arrays with the sine, cosine, and tangent of the elements of the first array\n",
        "  \n",
        "  * Finally, calculate the inverse sine, inverse cosine, and inverse tangent the arrays above and compare to the original angles"
      ]
    },
    {
      "cell_type": "code",
      "execution_count": 17,
      "metadata": {
        "collapsed": true,
        "jupyter": {
          "outputs_hidden": true
        },
        "id": "bYMU3viyDPH4",
        "colab": {
          "base_uri": "https://localhost:8080/"
        },
        "outputId": "f1326409-280a-4991-f30c-9277461d335a"
      },
      "outputs": [
        {
          "output_type": "stream",
          "name": "stdout",
          "text": [
            "Angles: [ 0 15 30 45 60 75 90]\n",
            "Inverse Sine: [ 0. 15. 30. 45. 60. 75. 90.]\n",
            "Inverse Cosine: [ 0. 15. 30. 45. 60. 75. 90.]\n",
            "Inverse Tangent: [ 0. 15. 30. 45. 60. 75. 90.]\n"
          ]
        }
      ],
      "source": [
        "angles= np.arange(0, 91, 15)\n",
        "angles_rad = np.radians(angles)\n",
        "sine = np.sin(angles_rad)\n",
        "cosine= np.cos(angles_rad)\n",
        "tangent= np.tan(angles_rad)\n",
        "inverse_sine = np.degrees(np.arcsin(sine))\n",
        "inverse_cosine = np.degrees(np.arccos(cosine))\n",
        "inverse_tangent = np.degrees(np.arctan(tangent))\n",
        "print(\"Angles:\", angles)\n",
        "print(\"Inverse Sine:\", inverse_sine)\n",
        "print(\"Inverse Cosine:\", inverse_cosine)\n",
        "print(\"Inverse Tangent:\", inverse_tangent)\n"
      ]
    },
    {
      "cell_type": "markdown",
      "metadata": {
        "id": "oKhSlL_EDPH4"
      },
      "source": [
        "## Q5\n",
        "\n",
        "Given the array:\n",
        "```\n",
        "x = np.array([1, -1, 2, 5, 8, 4, 10, 12, 3])\n",
        "```\n",
        "calculate the difference of each element with its neighbor."
      ]
    },
    {
      "cell_type": "code",
      "execution_count": 18,
      "metadata": {
        "tags": [],
        "id": "mRojYTFMDPH5",
        "colab": {
          "base_uri": "https://localhost:8080/"
        },
        "outputId": "45b5cae6-efd2-47fc-9b3f-68d39bc15c10"
      },
      "outputs": [
        {
          "output_type": "stream",
          "name": "stdout",
          "text": [
            "[-2  3  3  3 -4  6  2 -9]\n"
          ]
        }
      ],
      "source": [
        "arr = np.array([1, -1, 2, 5, 8, 4, 10, 12, 3])\n",
        "differences = np.diff(arr)\n",
        "print(differences)\n"
      ]
    },
    {
      "cell_type": "markdown",
      "metadata": {
        "id": "F8oQd_ELDPH6"
      },
      "source": [
        "## Q6\n",
        "\n",
        "Here we will read in columns of numbers from a file and create a histogram, using NumPy routines.  Make sure you have the data file\n",
        "\"`sample.txt`\" in the same directory as this notebook (you can download it from  https://raw.githubusercontent.com/sbu-python-summer/python-tutorial/master/day-3/sample.txt\n",
        "\n",
        "  * Use `np.loadtxt()` to read this file in.  \n",
        "\n",
        "  * Next, use `np.histogram()` to create a histogram array.  The output returns both the count and an array of edges.\n",
        "  \n",
        "  * Finally, loop over the bins and print out the bin center (averaging the left and right edges of the bin) and the count for that bin."
      ]
    },
    {
      "cell_type": "code",
      "execution_count": 19,
      "metadata": {
        "tags": [],
        "id": "F8hdGe1qDPH6",
        "colab": {
          "base_uri": "https://localhost:8080/"
        },
        "outputId": "46e12cd8-1489-4fa1-93b9-710c10efbdac"
      },
      "outputs": [
        {
          "output_type": "stream",
          "name": "stdout",
          "text": [
            "Bin center: -24.11, Count: 6\n",
            "Bin center: -11.15, Count: 23\n",
            "Bin center: 1.81, Count: 52\n",
            "Bin center: 14.77, Count: 37\n",
            "Bin center: 27.73, Count: 16\n",
            "Bin center: 40.69, Count: 14\n",
            "Bin center: 53.64, Count: 13\n",
            "Bin center: 66.60, Count: 13\n",
            "Bin center: 79.56, Count: 13\n",
            "Bin center: 92.52, Count: 13\n"
          ]
        }
      ],
      "source": [
        "data = np.loadtxt('https://raw.githubusercontent.com/sbu-python-summer/python-tutorial/master/day-3/sample.txt')\n",
        "counts, bin_edges = np.histogram(data, bins=10)\n",
        "for i in range(len(counts)):\n",
        "    bin_center = (bin_edges[i] + bin_edges[i + 1]) / 2\n",
        "    print(f\"Bin center: {bin_center:.2f}, Count: {counts[i]}\")\n"
      ]
    },
    {
      "cell_type": "markdown",
      "metadata": {
        "id": "qge_-x7CDPH7"
      },
      "source": [
        "## Q7\n",
        "\n",
        "NumPy has a standard deviation function, `np.std()`, but here we'll write our own that works on a 1-d array (vector).  The standard\n",
        "deviation is a measure of the \"width\" of the distribution of numbers\n",
        "in the vector.\n",
        "\n",
        "Given an array, $a$, and an average $\\bar{a}$, the standard deviation\n",
        "is:\n",
        "\n",
        "$$\n",
        "\\sigma = \\left [ \\frac{1}{N} \\sum_{i=1}^N (a_i - \\bar{a})^2 \\right ]^{1/2}\n",
        "$$\n",
        "\n",
        "Write a function to calculate the standard deviation for an input array, `a`:\n",
        "\n",
        "  * First compute the average of the elements in `a` to define $\\bar{a}$\n",
        "  * Next compute the sum over the squares of $a - \\bar{a}$\n",
        "  * Then divide the sum by the number of elements in the array\n",
        "  * Finally take the square root (you can use `np.sqrt()`)\n",
        "  \n",
        "Test your function on a random array, and compare to the built-in `np.std()`"
      ]
    },
    {
      "cell_type": "code",
      "execution_count": 20,
      "metadata": {
        "id": "0dxQkXaZDPH9",
        "colab": {
          "base_uri": "https://localhost:8080/"
        },
        "outputId": "ff0e2aea-7f21-4750-caae-7fe7ac7163c5"
      },
      "outputs": [
        {
          "output_type": "stream",
          "name": "stdout",
          "text": [
            "[1.53699627 2.8094805  2.20734419 8.24369452 7.63121173 6.60172438\n",
            " 0.36821375 4.68661126 6.93988716 2.57721085]\n",
            "Calculated std: 2.6775326709365896\n",
            "Numpy std: 2.6775326709365896\n"
          ]
        }
      ],
      "source": [
        "def std(a):\n",
        "  mean=np.mean(a)\n",
        "  sum=np.sum((a-mean)**2)\n",
        "  variance=sum/len(a)\n",
        "  return np.sqrt(variance)\n",
        "arr=np.random.random_sample((10))*10\n",
        "calculated_std=std(arr)\n",
        "numpy_std=np.std(arr)\n",
        "print(arr)\n",
        "print(\"Calculated std:\",calculated_std)\n",
        "print(\"Numpy std:\",numpy_std)"
      ]
    }
  ],
  "metadata": {
    "kernelspec": {
      "display_name": "Python 3 (ipykernel)",
      "language": "python",
      "name": "python3"
    },
    "language_info": {
      "codemirror_mode": {
        "name": "ipython",
        "version": 3
      },
      "file_extension": ".py",
      "mimetype": "text/x-python",
      "name": "python",
      "nbconvert_exporter": "python",
      "pygments_lexer": "ipython3",
      "version": "3.12.1"
    },
    "colab": {
      "provenance": []
    }
  },
  "nbformat": 4,
  "nbformat_minor": 0
}