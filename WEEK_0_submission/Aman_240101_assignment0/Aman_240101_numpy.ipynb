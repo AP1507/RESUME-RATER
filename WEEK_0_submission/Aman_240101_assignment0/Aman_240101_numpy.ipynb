{
  "nbformat": 4,
  "nbformat_minor": 0,
  "metadata": {
    "colab": {
      "provenance": []
    },
    "kernelspec": {
      "name": "python3",
      "display_name": "Python 3"
    },
    "language_info": {
      "name": "python"
    }
  },
  "cells": [
    {
      "cell_type": "markdown",
      "source": [
        "Question 1"
      ],
      "metadata": {
        "id": "tceThMx9KaQM"
      }
    },
    {
      "cell_type": "code",
      "source": [
        "import numpy as np"
      ],
      "metadata": {
        "id": "NyGbSFxgKbi2"
      },
      "execution_count": 1,
      "outputs": []
    },
    {
      "cell_type": "code",
      "source": [
        "random_array = np.random.rand(10, 10) * 10"
      ],
      "metadata": {
        "id": "LhkEZvwgKxM3"
      },
      "execution_count": 2,
      "outputs": []
    },
    {
      "cell_type": "code",
      "source": [
        "average=np.mean(random_array)"
      ],
      "metadata": {
        "id": "yPxPdsMjK4Nn"
      },
      "execution_count": 3,
      "outputs": []
    },
    {
      "cell_type": "code",
      "source": [
        "random_array"
      ],
      "metadata": {
        "colab": {
          "base_uri": "https://localhost:8080/"
        },
        "id": "Z0UNlTHrK892",
        "outputId": "3be7ec3a-882a-4c71-fc1e-9e616598072a"
      },
      "execution_count": 4,
      "outputs": [
        {
          "output_type": "execute_result",
          "data": {
            "text/plain": [
              "array([[0.04580131, 4.4601689 , 6.22861696, 8.56029814, 3.6306706 ,\n",
              "        5.95695899, 4.55082763, 0.20826949, 6.42728201, 1.66055656],\n",
              "       [6.2636555 , 3.95252112, 8.32622   , 2.67174203, 5.43589704,\n",
              "        1.39201547, 8.3427791 , 0.99218505, 2.72764699, 5.44764732],\n",
              "       [0.59728837, 5.00002228, 8.32686622, 9.12075811, 0.87317571,\n",
              "        3.7300884 , 7.59394341, 3.44496146, 9.33745316, 7.10248955],\n",
              "       [5.24822934, 5.31488101, 5.19983218, 5.21043863, 9.21507415,\n",
              "        7.10210015, 4.44436695, 9.82558175, 3.69482222, 0.12745448],\n",
              "       [8.2716636 , 2.06169093, 8.66021793, 5.88064226, 3.20238844,\n",
              "        3.43210574, 9.50158443, 7.42534056, 9.90589381, 2.73966475],\n",
              "       [5.3728769 , 6.71957442, 6.76931776, 0.74365483, 3.23462963,\n",
              "        5.78419253, 4.38477313, 1.53367458, 4.31018098, 8.73518612],\n",
              "       [8.99935572, 4.73720537, 7.46467082, 1.88497073, 2.67253254,\n",
              "        2.77153415, 0.03596628, 4.59306694, 1.94500092, 9.47986388],\n",
              "       [3.56346633, 8.3069102 , 0.97496424, 5.1765521 , 8.02464042,\n",
              "        1.27637309, 3.99286428, 3.06884014, 0.40099529, 2.52194096],\n",
              "       [4.63016066, 5.25786442, 9.45874897, 6.74959195, 6.35563343,\n",
              "        3.67227158, 3.09472521, 0.15663047, 3.36365342, 5.38733549],\n",
              "       [6.62623934, 8.14791173, 4.52678773, 7.29160763, 2.92108239,\n",
              "        2.82405889, 8.35695478, 1.79704863, 0.91862543, 3.99134019]])"
            ]
          },
          "metadata": {},
          "execution_count": 4
        }
      ]
    },
    {
      "cell_type": "code",
      "source": [
        "average"
      ],
      "metadata": {
        "colab": {
          "base_uri": "https://localhost:8080/"
        },
        "id": "lZgPB-lRK_7d",
        "outputId": "56fa3b83-7c93-43db-9af4-5337052d51a0"
      },
      "execution_count": 5,
      "outputs": [
        {
          "output_type": "execute_result",
          "data": {
            "text/plain": [
              "4.838808277987578"
            ]
          },
          "metadata": {},
          "execution_count": 5
        }
      ]
    },
    {
      "cell_type": "markdown",
      "source": [
        "Question 2"
      ],
      "metadata": {
        "id": "h5LWi96iLFxg"
      }
    },
    {
      "cell_type": "code",
      "source": [
        "array=np.arange(1,16)"
      ],
      "metadata": {
        "id": "WymlesaWLHZx"
      },
      "execution_count": 6,
      "outputs": []
    },
    {
      "cell_type": "code",
      "source": [
        "array"
      ],
      "metadata": {
        "colab": {
          "base_uri": "https://localhost:8080/"
        },
        "id": "iIVOZtJ5Lgfe",
        "outputId": "053fb4e3-9925-4eff-de85-8c2d2df372d3"
      },
      "execution_count": 7,
      "outputs": [
        {
          "output_type": "execute_result",
          "data": {
            "text/plain": [
              "array([ 1,  2,  3,  4,  5,  6,  7,  8,  9, 10, 11, 12, 13, 14, 15])"
            ]
          },
          "metadata": {},
          "execution_count": 7
        }
      ]
    },
    {
      "cell_type": "code",
      "source": [
        "array =array.reshape(3,5)"
      ],
      "metadata": {
        "id": "ZqOyunGMLk_g"
      },
      "execution_count": 16,
      "outputs": []
    },
    {
      "cell_type": "code",
      "source": [
        "array"
      ],
      "metadata": {
        "colab": {
          "base_uri": "https://localhost:8080/"
        },
        "id": "Mc3gJ8Z1MCSi",
        "outputId": "3f9241ca-3b10-4a3a-80a2-be1366e910fc"
      },
      "execution_count": 17,
      "outputs": [
        {
          "output_type": "execute_result",
          "data": {
            "text/plain": [
              "array([[ 1,  2,  3,  4,  5],\n",
              "       [ 6,  7,  8,  9, 10],\n",
              "       [11, 12, 13, 14, 15]])"
            ]
          },
          "metadata": {},
          "execution_count": 17
        }
      ]
    },
    {
      "cell_type": "code",
      "source": [
        "array_2=array.T\n",
        "array_2"
      ],
      "metadata": {
        "colab": {
          "base_uri": "https://localhost:8080/"
        },
        "id": "DnRx24jSMR0r",
        "outputId": "1bec60ab-a91e-4939-f718-f2652629b6b8"
      },
      "execution_count": 18,
      "outputs": [
        {
          "output_type": "execute_result",
          "data": {
            "text/plain": [
              "array([[ 1,  6, 11],\n",
              "       [ 2,  7, 12],\n",
              "       [ 3,  8, 13],\n",
              "       [ 4,  9, 14],\n",
              "       [ 5, 10, 15]])"
            ]
          },
          "metadata": {},
          "execution_count": 18
        }
      ]
    },
    {
      "cell_type": "code",
      "source": [
        "new_array = array[[1, 2], :]"
      ],
      "metadata": {
        "id": "9LqBTvhiM-lK"
      },
      "execution_count": 20,
      "outputs": []
    },
    {
      "cell_type": "code",
      "source": [
        "new_array"
      ],
      "metadata": {
        "colab": {
          "base_uri": "https://localhost:8080/"
        },
        "id": "XQmgGkEuNKBs",
        "outputId": "b6086151-0c48-40eb-e888-7ac22e3bd6a2"
      },
      "execution_count": 21,
      "outputs": [
        {
          "output_type": "execute_result",
          "data": {
            "text/plain": [
              "array([[ 6,  7,  8,  9, 10],\n",
              "       [11, 12, 13, 14, 15]])"
            ]
          },
          "metadata": {},
          "execution_count": 21
        }
      ]
    },
    {
      "cell_type": "markdown",
      "source": [
        "Question 3"
      ],
      "metadata": {
        "id": "j702NlDlUvXS"
      }
    },
    {
      "cell_type": "code",
      "source": [
        "array =np.zeros((4,5),dtype=int)"
      ],
      "metadata": {
        "id": "V_Bhpbr0SyjD"
      },
      "execution_count": 23,
      "outputs": []
    },
    {
      "cell_type": "code",
      "source": [
        "array"
      ],
      "metadata": {
        "colab": {
          "base_uri": "https://localhost:8080/"
        },
        "id": "P10G76PrTKJZ",
        "outputId": "a419264c-0c2d-4f8e-ad6c-4b3b1e1d431c"
      },
      "execution_count": 24,
      "outputs": [
        {
          "output_type": "execute_result",
          "data": {
            "text/plain": [
              "array([[0, 0, 0, 0, 0],\n",
              "       [0, 0, 0, 0, 0],\n",
              "       [0, 0, 0, 0, 0],\n",
              "       [0, 0, 0, 0, 0]])"
            ]
          },
          "metadata": {},
          "execution_count": 24
        }
      ]
    },
    {
      "cell_type": "code",
      "source": [
        "array[0,:] =1"
      ],
      "metadata": {
        "id": "djrdX967TRwf"
      },
      "execution_count": 26,
      "outputs": []
    },
    {
      "cell_type": "code",
      "source": [
        "array[-1,:]=1"
      ],
      "metadata": {
        "id": "I9ea326dTcM_"
      },
      "execution_count": 27,
      "outputs": []
    },
    {
      "cell_type": "code",
      "source": [
        "array"
      ],
      "metadata": {
        "colab": {
          "base_uri": "https://localhost:8080/"
        },
        "id": "fIGYt0AjTgki",
        "outputId": "72b4b74e-6541-4251-c2b9-c7feb52af62b"
      },
      "execution_count": 28,
      "outputs": [
        {
          "output_type": "execute_result",
          "data": {
            "text/plain": [
              "array([[1, 1, 1, 1, 1],\n",
              "       [0, 0, 0, 0, 0],\n",
              "       [0, 0, 0, 0, 0],\n",
              "       [1, 1, 1, 1, 1]])"
            ]
          },
          "metadata": {},
          "execution_count": 28
        }
      ]
    },
    {
      "cell_type": "code",
      "source": [
        "array[:,0]=1"
      ],
      "metadata": {
        "id": "f5F50rPiTnXT"
      },
      "execution_count": 29,
      "outputs": []
    },
    {
      "cell_type": "code",
      "source": [
        "array[:,-1]=1"
      ],
      "metadata": {
        "id": "J_Q8vAMwTuwN"
      },
      "execution_count": 30,
      "outputs": []
    },
    {
      "cell_type": "code",
      "source": [
        "array"
      ],
      "metadata": {
        "colab": {
          "base_uri": "https://localhost:8080/"
        },
        "id": "MFHryqOBT0Tw",
        "outputId": "5dad5aad-7deb-466b-fc0a-508e8d160457"
      },
      "execution_count": 31,
      "outputs": [
        {
          "output_type": "execute_result",
          "data": {
            "text/plain": [
              "array([[1, 1, 1, 1, 1],\n",
              "       [1, 0, 0, 0, 1],\n",
              "       [1, 0, 0, 0, 1],\n",
              "       [1, 1, 1, 1, 1]])"
            ]
          },
          "metadata": {},
          "execution_count": 31
        }
      ]
    },
    {
      "cell_type": "markdown",
      "source": [
        "Question 4"
      ],
      "metadata": {
        "id": "rbuBtsrRU4WZ"
      }
    },
    {
      "cell_type": "code",
      "source": [
        "angles=np.arange(0,91,15)"
      ],
      "metadata": {
        "id": "xyj0gviiU7LR"
      },
      "execution_count": 32,
      "outputs": []
    },
    {
      "cell_type": "code",
      "source": [
        "angles"
      ],
      "metadata": {
        "colab": {
          "base_uri": "https://localhost:8080/"
        },
        "id": "QQTTE8-JXPGX",
        "outputId": "d166cf68-03db-4426-f14c-66f0c8713fe1"
      },
      "execution_count": 33,
      "outputs": [
        {
          "output_type": "execute_result",
          "data": {
            "text/plain": [
              "array([ 0, 15, 30, 45, 60, 75, 90])"
            ]
          },
          "metadata": {},
          "execution_count": 33
        }
      ]
    },
    {
      "cell_type": "code",
      "source": [
        "angles_rad=np.deg2rad(angles)"
      ],
      "metadata": {
        "id": "rhKteiy6XWUp"
      },
      "execution_count": 35,
      "outputs": []
    },
    {
      "cell_type": "code",
      "source": [
        "sinv=np.sin(angles_rad)\n",
        "cosv=np.cos(angles_rad)\n",
        "tanv=np.tan(angles_rad)\n"
      ],
      "metadata": {
        "id": "W01npT8RXyZa"
      },
      "execution_count": 38,
      "outputs": []
    },
    {
      "cell_type": "code",
      "source": [
        "sinv"
      ],
      "metadata": {
        "colab": {
          "base_uri": "https://localhost:8080/"
        },
        "id": "_9OTBBc-Y-Mm",
        "outputId": "8e2d7cc6-1577-4925-dd4c-e6070b921635"
      },
      "execution_count": 39,
      "outputs": [
        {
          "output_type": "execute_result",
          "data": {
            "text/plain": [
              "array([0.        , 0.25881905, 0.5       , 0.70710678, 0.8660254 ,\n",
              "       0.96592583, 1.        ])"
            ]
          },
          "metadata": {},
          "execution_count": 39
        }
      ]
    },
    {
      "cell_type": "code",
      "source": [
        "cosv"
      ],
      "metadata": {
        "colab": {
          "base_uri": "https://localhost:8080/"
        },
        "id": "igoa5clFZDK5",
        "outputId": "d4ccdd55-4489-4994-e44d-6319f9d5f42b"
      },
      "execution_count": 40,
      "outputs": [
        {
          "output_type": "execute_result",
          "data": {
            "text/plain": [
              "array([1.00000000e+00, 9.65925826e-01, 8.66025404e-01, 7.07106781e-01,\n",
              "       5.00000000e-01, 2.58819045e-01, 6.12323400e-17])"
            ]
          },
          "metadata": {},
          "execution_count": 40
        }
      ]
    },
    {
      "cell_type": "code",
      "source": [
        "tanv"
      ],
      "metadata": {
        "colab": {
          "base_uri": "https://localhost:8080/"
        },
        "id": "Bx3iW3DxZE7F",
        "outputId": "15c9f81d-cbe8-4320-8302-dec293359dfd"
      },
      "execution_count": 41,
      "outputs": [
        {
          "output_type": "execute_result",
          "data": {
            "text/plain": [
              "array([0.00000000e+00, 2.67949192e-01, 5.77350269e-01, 1.00000000e+00,\n",
              "       1.73205081e+00, 3.73205081e+00, 1.63312394e+16])"
            ]
          },
          "metadata": {},
          "execution_count": 41
        }
      ]
    },
    {
      "cell_type": "markdown",
      "source": [
        "Question 5"
      ],
      "metadata": {
        "id": "SVtLwVumaKvR"
      }
    },
    {
      "cell_type": "code",
      "source": [
        "x = np.array([1, -1, 2, 5, 8, 4, 10, 12, 3])"
      ],
      "metadata": {
        "id": "6gqi6-g7ZsnU"
      },
      "execution_count": 42,
      "outputs": []
    },
    {
      "cell_type": "code",
      "source": [
        "diff=np.diff(x)"
      ],
      "metadata": {
        "id": "JsdhJYXbZvA-"
      },
      "execution_count": 43,
      "outputs": []
    },
    {
      "cell_type": "code",
      "source": [
        "diff"
      ],
      "metadata": {
        "colab": {
          "base_uri": "https://localhost:8080/"
        },
        "id": "Dy5QkL6rZy_2",
        "outputId": "95aab3c9-108c-40ad-b33b-f9b3564e3b6e"
      },
      "execution_count": 44,
      "outputs": [
        {
          "output_type": "execute_result",
          "data": {
            "text/plain": [
              "array([-2,  3,  3,  3, -4,  6,  2, -9])"
            ]
          },
          "metadata": {},
          "execution_count": 44
        }
      ]
    },
    {
      "cell_type": "markdown",
      "source": [
        "Question 6"
      ],
      "metadata": {
        "id": "XhYZfeSRaNdi"
      }
    },
    {
      "cell_type": "code",
      "source": [
        "data=np.loadtxt('/content/sample.txt')"
      ],
      "metadata": {
        "id": "oyGIFNOyaPXb"
      },
      "execution_count": 46,
      "outputs": []
    },
    {
      "cell_type": "code",
      "source": [
        "data"
      ],
      "metadata": {
        "colab": {
          "base_uri": "https://localhost:8080/"
        },
        "id": "QHyITj-1awLs",
        "outputId": "140feee5-c771-4154-9a43-07d3bc99ae46"
      },
      "execution_count": 47,
      "outputs": [
        {
          "output_type": "execute_result",
          "data": {
            "text/plain": [
              "array([[ 0.00000000e+00, -4.75677275e+00],\n",
              "       [ 1.00000000e+00,  6.88953354e+00],\n",
              "       [ 2.00000000e+00,  8.99689609e+00],\n",
              "       [ 3.00000000e+00, -1.74610171e+00],\n",
              "       [ 4.00000000e+00,  1.03044029e+00],\n",
              "       [ 5.00000000e+00,  4.63576843e+00],\n",
              "       [ 6.00000000e+00,  5.17722592e+00],\n",
              "       [ 7.00000000e+00,  1.59646902e+01],\n",
              "       [ 8.00000000e+00, -1.20210982e+01],\n",
              "       [ 9.00000000e+00, -1.81008788e+01],\n",
              "       [ 1.00000000e+01, -2.51788866e+01],\n",
              "       [ 1.10000000e+01,  4.51892535e+00],\n",
              "       [ 1.20000000e+01,  9.04391677e+00],\n",
              "       [ 1.30000000e+01, -5.22153591e-01],\n",
              "       [ 1.40000000e+01, -3.13388866e+00],\n",
              "       [ 1.50000000e+01, -6.91471494e+00],\n",
              "       [ 1.60000000e+01, -6.31426355e+00],\n",
              "       [ 1.70000000e+01,  6.70690189e+00],\n",
              "       [ 1.80000000e+01, -2.59716364e+01],\n",
              "       [ 1.90000000e+01, -4.43537243e+00],\n",
              "       [ 2.00000000e+01,  4.88905016e-01],\n",
              "       [ 2.10000000e+01, -3.60048108e-02],\n",
              "       [ 2.20000000e+01, -4.37254566e+00],\n",
              "       [ 2.30000000e+01,  4.04703176e-01],\n",
              "       [ 2.40000000e+01,  3.09059799e+00],\n",
              "       [ 2.50000000e+01,  1.93065266e+01],\n",
              "       [ 2.60000000e+01,  6.48611582e+00],\n",
              "       [ 2.70000000e+01, -1.07811286e+01],\n",
              "       [ 2.80000000e+01, -1.28579188e+01],\n",
              "       [ 2.90000000e+01, -1.02784011e+00],\n",
              "       [ 3.00000000e+01, -3.05884279e+01],\n",
              "       [ 3.10000000e+01, -6.51710963e+00],\n",
              "       [ 3.20000000e+01, -7.48921019e+00],\n",
              "       [ 3.30000000e+01, -1.11057217e+01],\n",
              "       [ 3.40000000e+01,  4.12072192e+00],\n",
              "       [ 3.50000000e+01, -3.15323958e+00],\n",
              "       [ 3.60000000e+01,  1.41350417e+00],\n",
              "       [ 3.70000000e+01,  2.25833747e+01],\n",
              "       [ 3.80000000e+01, -1.22755660e+01],\n",
              "       [ 3.90000000e+01, -4.79310290e+00],\n",
              "       [ 4.00000000e+01, -7.12853755e+00],\n",
              "       [ 4.10000000e+01, -1.72790192e+01],\n",
              "       [ 4.20000000e+01,  1.96556358e+01],\n",
              "       [ 4.30000000e+01, -1.27450668e+00],\n",
              "       [ 4.40000000e+01,  3.73805817e+00],\n",
              "       [ 4.50000000e+01,  1.04819591e+01],\n",
              "       [ 4.60000000e+01, -1.28141873e+01],\n",
              "       [ 4.70000000e+01, -2.24245301e+01],\n",
              "       [ 4.80000000e+01,  4.13783401e+00],\n",
              "       [ 4.90000000e+01, -4.13199693e-02],\n",
              "       [ 5.00000000e+01,  7.37529805e+00],\n",
              "       [ 5.10000000e+01, -4.09838552e+00],\n",
              "       [ 5.20000000e+01, -5.59957162e+00],\n",
              "       [ 5.30000000e+01, -1.32534432e+01],\n",
              "       [ 5.40000000e+01,  1.62907434e+01],\n",
              "       [ 5.50000000e+01,  1.04241848e+01],\n",
              "       [ 5.60000000e+01, -4.27251752e+00],\n",
              "       [ 5.70000000e+01,  1.90168469e+01],\n",
              "       [ 5.80000000e+01,  3.15448739e+00],\n",
              "       [ 5.90000000e+01, -9.70480792e+00],\n",
              "       [ 6.00000000e+01, -8.10117693e-04],\n",
              "       [ 6.10000000e+01,  6.10442495e+00],\n",
              "       [ 6.20000000e+01,  2.44781129e+01],\n",
              "       [ 6.30000000e+01,  1.48466183e+01],\n",
              "       [ 6.40000000e+01, -2.18637866e+00],\n",
              "       [ 6.50000000e+01,  9.86177634e+00],\n",
              "       [ 6.60000000e+01,  1.27249770e+01],\n",
              "       [ 6.70000000e+01,  4.03724573e+00],\n",
              "       [ 6.80000000e+01, -6.56843975e-01],\n",
              "       [ 6.90000000e+01,  1.53726258e+01],\n",
              "       [ 7.00000000e+01, -7.88087235e+00],\n",
              "       [ 7.10000000e+01,  2.54070375e+00],\n",
              "       [ 7.20000000e+01, -1.02254483e+00],\n",
              "       [ 7.30000000e+01,  2.09103486e+01],\n",
              "       [ 7.40000000e+01,  9.22254199e+00],\n",
              "       [ 7.50000000e+01, -1.10566286e+01],\n",
              "       [ 7.60000000e+01,  2.79395083e+01],\n",
              "       [ 7.70000000e+01, -6.03285768e+00],\n",
              "       [ 7.80000000e+01,  1.80983457e+01],\n",
              "       [ 7.90000000e+01,  3.85948784e+01],\n",
              "       [ 8.00000000e+01, -8.72094283e-01],\n",
              "       [ 8.10000000e+01,  1.72297208e+00],\n",
              "       [ 8.20000000e+01, -4.17408818e+00],\n",
              "       [ 8.30000000e+01, -8.31896283e+00],\n",
              "       [ 8.40000000e+01,  1.45125588e+01],\n",
              "       [ 8.50000000e+01,  5.63083729e+00],\n",
              "       [ 8.60000000e+01,  1.30976670e+01],\n",
              "       [ 8.70000000e+01,  9.51721084e+00],\n",
              "       [ 8.80000000e+01, -3.27303230e+00],\n",
              "       [ 8.90000000e+01,  1.42297537e+01],\n",
              "       [ 9.00000000e+01, -1.29030787e+01],\n",
              "       [ 9.10000000e+01,  1.06954694e+01],\n",
              "       [ 9.20000000e+01, -6.12535753e+00],\n",
              "       [ 9.30000000e+01, -5.38615351e-02],\n",
              "       [ 9.40000000e+01,  8.34423854e+00],\n",
              "       [ 9.50000000e+01,  1.25695448e+01],\n",
              "       [ 9.60000000e+01, -1.57306830e+00],\n",
              "       [ 9.70000000e+01,  9.58834965e+00],\n",
              "       [ 9.80000000e+01, -1.77910627e+01],\n",
              "       [ 9.90000000e+01, -4.61399547e+00]])"
            ]
          },
          "metadata": {},
          "execution_count": 47
        }
      ]
    },
    {
      "cell_type": "code",
      "source": [
        "counts, edges = np.histogram(data)"
      ],
      "metadata": {
        "id": "FyUaL_ueaxY9"
      },
      "execution_count": 48,
      "outputs": []
    },
    {
      "cell_type": "code",
      "source": [
        "for i in range(len(counts)):\n",
        "  bin_center = (edges[i] + edges[i + 1]) / 2\n"
      ],
      "metadata": {
        "id": "HIWgvZ6BbGte"
      },
      "execution_count": 54,
      "outputs": []
    },
    {
      "cell_type": "code",
      "source": [
        "bin_center"
      ],
      "metadata": {
        "colab": {
          "base_uri": "https://localhost:8080/"
        },
        "id": "nMg582vKbQtP",
        "outputId": "b90880b6-b387-4cae-804f-43b048194349"
      },
      "execution_count": 56,
      "outputs": [
        {
          "output_type": "execute_result",
          "data": {
            "text/plain": [
              "92.5205786056089"
            ]
          },
          "metadata": {},
          "execution_count": 56
        }
      ]
    },
    {
      "cell_type": "markdown",
      "source": [
        "Question 7"
      ],
      "metadata": {
        "id": "bFwaMjsubz78"
      }
    },
    {
      "cell_type": "code",
      "source": [
        "def my_std(a):\n",
        " avg=np.mean(a)\n",
        " sum_sq_diff=np.sum(((a-avg)**2))\n",
        " std_dev=np.sqrt(sum_sq_diff/(len(a)))\n",
        " return std_dev"
      ],
      "metadata": {
        "id": "TmV3pyFSb1mF"
      },
      "execution_count": 69,
      "outputs": []
    },
    {
      "cell_type": "code",
      "source": [
        "random_array = np.random.rand(10)\n"
      ],
      "metadata": {
        "id": "Eu4u8U3GcKRS"
      },
      "execution_count": 73,
      "outputs": []
    },
    {
      "cell_type": "code",
      "source": [
        "random_array"
      ],
      "metadata": {
        "colab": {
          "base_uri": "https://localhost:8080/"
        },
        "id": "CNpTRA_4eEuc",
        "outputId": "6a3e269b-62c6-466a-aca5-7933ab10ad26"
      },
      "execution_count": 74,
      "outputs": [
        {
          "output_type": "execute_result",
          "data": {
            "text/plain": [
              "array([0.97734896, 0.93794481, 0.91679368, 0.37217866, 0.16660622,\n",
              "       0.39224353, 0.66525817, 0.56110715, 0.97658446, 0.99030135])"
            ]
          },
          "metadata": {},
          "execution_count": 74
        }
      ]
    },
    {
      "cell_type": "code",
      "source": [
        "my_std_result = my_std(random_array)\n",
        "numpy_std_result = np.std(random_array)"
      ],
      "metadata": {
        "id": "AtnVBey9eIcF"
      },
      "execution_count": 75,
      "outputs": []
    },
    {
      "cell_type": "code",
      "source": [
        "if my_std_result==numpy_std_result:\n",
        "  print(\"The results are equal\")\n",
        "else:\n",
        "  print(\"The results are not equal\")\n"
      ],
      "metadata": {
        "colab": {
          "base_uri": "https://localhost:8080/"
        },
        "id": "aVkc9-DyeTGt",
        "outputId": "4ffa5ee9-ca7c-4fdf-c046-5d5b98da6496"
      },
      "execution_count": 76,
      "outputs": [
        {
          "output_type": "stream",
          "name": "stdout",
          "text": [
            "The results are equal\n"
          ]
        }
      ]
    }
  ]
}