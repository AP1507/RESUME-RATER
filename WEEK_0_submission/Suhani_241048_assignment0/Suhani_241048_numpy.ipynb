{
  "cells": [
    {
      "cell_type": "markdown",
      "metadata": {
        "id": "Ar4fL67UDPHr"
      },
      "source": [
        "# NumPy exercises"
      ]
    },
    {
      "cell_type": "markdown",
      "metadata": {
        "id": "_KH_5nW4DPHv"
      },
      "source": [
        "Some  of these come from / are inspired from https://github.com/rougier/numpy-100 and http://www.scipy-lectures.org/intro/numpy/exercises.html\n",
        "\n",
        "You might want to look over these lists as well."
      ]
    },
    {
      "cell_type": "code",
      "execution_count": null,
      "metadata": {
        "id": "u4ewzXF9DPHx"
      },
      "outputs": [],
      "source": [
        "import numpy as np"
      ]
    },
    {
      "cell_type": "markdown",
      "metadata": {
        "id": "BGjlCaQzDPHz"
      },
      "source": [
        "## Q1\n",
        "\n",
        "We can use `np.random.random_sample()` to create an array with random values.  By default, these will be in the range `[0.0, 1.0)`.  You can\n",
        "multiple the output and add a scalar to it to get it to be in a different range.\n",
        "\n",
        "Create a 10 x 10 array initialized with random numbers that lie between 0 and 10.\n",
        "\n",
        "Then compute the average of the array (there is a numpy function for this, `np.mean()`)."
      ]
    },
    {
      "cell_type": "code",
      "execution_count": null,
      "metadata": {
        "tags": [],
        "id": "6MSFAgQyDPHz"
      },
      "outputs": [],
      "source": [
        "import numpy as np\n",
        "\n",
        "array = np.random.random_sample((10, 10)) * 10\n",
        "average = np.mean(array)"
      ]
    },
    {
      "cell_type": "markdown",
      "metadata": {
        "id": "1RGJBfycDPH0"
      },
      "source": [
        "## Q2\n",
        "\n",
        "Create the array:\n",
        "```\n",
        "[[1,  6, 11],\n",
        " [2,  7, 12],\n",
        " [3,  8, 13],\n",
        " [4,  9, 14],\n",
        " [5, 10, 15]]\n",
        "```\n",
        "with out explicitly typing it in.\n",
        "\n",
        "Now create a new array containing only its 2nd and 4th rows."
      ]
    },
    {
      "cell_type": "code",
      "execution_count": null,
      "metadata": {
        "tags": [],
        "id": "1jxOF41eDPH0",
        "outputId": "e85aed33-823e-4e35-8333-4ba358044c71",
        "colab": {
          "base_uri": "https://localhost:8080/"
        }
      },
      "outputs": [
        {
          "output_type": "stream",
          "name": "stdout",
          "text": [
            "[[ 1  6 11]\n",
            " [ 2  7 12]\n",
            " [ 3  8 13]\n",
            " [ 4  9 14]\n",
            " [ 5 10 15]]\n",
            "[[ 2  7 12]\n",
            " [ 4  9 14]]\n"
          ]
        }
      ],
      "source": [
        "import numpy as np\n",
        "\n",
        "array = np.arange(1, 16)\n",
        "array = array.reshape(3, 5).T\n",
        "print(array)\n",
        "new_array = array[[1, 3]]\n",
        "print(new_array)"
      ]
    },
    {
      "cell_type": "markdown",
      "metadata": {
        "id": "4mfsvN45DPH1"
      },
      "source": [
        "## Q3\n",
        "\n",
        "Create a 2d array with `1` on the border and `0` on the inside, e.g., like:\n",
        "```\n",
        "1 1 1 1 1\n",
        "1 0 0 0 1\n",
        "1 0 0 0 1\n",
        "1 1 1 1 1\n",
        "```\n",
        "\n",
        "Do this using array slice notation to let it work for an arbitrary-sized array"
      ]
    },
    {
      "cell_type": "code",
      "execution_count": null,
      "metadata": {
        "tags": [],
        "id": "qf1EIwKSDPH2",
        "outputId": "abf583cd-afad-40a6-b98a-2fb2181c5c44",
        "colab": {
          "base_uri": "https://localhost:8080/"
        }
      },
      "outputs": [
        {
          "output_type": "stream",
          "name": "stdout",
          "text": [
            "[[1. 1. 1. 1. 1.]\n",
            " [1. 0. 0. 0. 1.]\n",
            " [1. 0. 0. 0. 1.]\n",
            " [1. 0. 0. 0. 1.]\n",
            " [1. 1. 1. 1. 1.]]\n"
          ]
        }
      ],
      "source": [
        "import numpy as np\n",
        "\n",
        "array = np.ones((5, 5))\n",
        "array[1:-1, 1:-1] = 0\n",
        "print(array)\n"
      ]
    },
    {
      "cell_type": "markdown",
      "metadata": {
        "id": "UuKIXz6vDPH3"
      },
      "source": [
        "## Q4\n",
        "\n",
        "  * Create an array with angles in degrees 0, 15, 30, ... 90 (i.e., every 15 degrees up to 90).\n",
        "\n",
        "  * Now create 3 new arrays with the sine, cosine, and tangent of the elements of the first array\n",
        "  \n",
        "  * Finally, calculate the inverse sine, inverse cosine, and inverse tangent the arrays above and compare to the original angles"
      ]
    },
    {
      "cell_type": "code",
      "execution_count": null,
      "metadata": {
        "collapsed": true,
        "jupyter": {
          "outputs_hidden": true
        },
        "id": "bYMU3viyDPH4",
        "outputId": "ffe3c4e0-9cc7-4006-a2e9-1c6b68dfa43a",
        "colab": {
          "base_uri": "https://localhost:8080/"
        }
      },
      "outputs": [
        {
          "output_type": "stream",
          "name": "stdout",
          "text": [
            "Angles (degrees): [ 0 15 30 45 60 75 90]\n",
            "Sine values: [0.         0.25881905 0.5        0.70710678 0.8660254  0.96592583\n",
            " 1.        ]\n",
            "Cosine values: [1.00000000e+00 9.65925826e-01 8.66025404e-01 7.07106781e-01\n",
            " 5.00000000e-01 2.58819045e-01 6.12323400e-17]\n",
            "Tangent values: [0.00000000e+00 2.67949192e-01 5.77350269e-01 1.00000000e+00\n",
            " 1.73205081e+00 3.73205081e+00 1.63312394e+16]\n",
            "Inverse Sine (degrees): [ 0. 15. 30. 45. 60. 75. 90.]\n",
            "Inverse Cosine (degrees): [ 0. 15. 30. 45. 60. 75. 90.]\n",
            "Inverse Tangent (degrees): [ 0. 15. 30. 45. 60. 75. 90.]\n"
          ]
        }
      ],
      "source": [
        "import numpy as np\n",
        "\n",
        "\n",
        "angles_deg = np.arange(0, 91, 15)\n",
        "angles_rad = np.radians(angles_deg)\n",
        "\n",
        "sine_values = np.sin(angles_rad)\n",
        "cosine_values = np.cos(angles_rad)\n",
        "tangent_values = np.tan(angles_rad)\n",
        "\n",
        "inverse_sine = np.degrees(np.arcsin(sine_values))\n",
        "inverse_cosine = np.degrees(np.arccos(cosine_values))\n",
        "inverse_tangent = np.degrees(np.arctan(tangent_values))\n",
        "\n",
        "print(\"Angles (degrees):\", angles_deg)\n",
        "print(\"Sine values:\", sine_values)\n",
        "print(\"Cosine values:\", cosine_values)\n",
        "print(\"Tangent values:\", tangent_values)\n",
        "print(\"Inverse Sine (degrees):\", inverse_sine)\n",
        "print(\"Inverse Cosine (degrees):\", inverse_cosine)\n",
        "print(\"Inverse Tangent (degrees):\", inverse_tangent)"
      ]
    },
    {
      "cell_type": "markdown",
      "metadata": {
        "id": "oKhSlL_EDPH4"
      },
      "source": [
        "## Q5\n",
        "\n",
        "Given the array:\n",
        "```\n",
        "x = np.array([1, -1, 2, 5, 8, 4, 10, 12, 3])\n",
        "```\n",
        "calculate the difference of each element with its neighbor."
      ]
    },
    {
      "cell_type": "code",
      "execution_count": null,
      "metadata": {
        "tags": [],
        "id": "mRojYTFMDPH5",
        "outputId": "0018a17c-67ee-4089-9622-70cda2b01a77",
        "colab": {
          "base_uri": "https://localhost:8080/"
        }
      },
      "outputs": [
        {
          "output_type": "stream",
          "name": "stdout",
          "text": [
            "[-2  3  3  3 -4  6  2 -9]\n"
          ]
        }
      ],
      "source": [
        "import numpy as np\n",
        "\n",
        "x = np.array([1, -1, 2, 5, 8, 4, 10, 12, 3])\n",
        "\n",
        "differences = np.diff(x)\n",
        "print(differences)"
      ]
    },
    {
      "cell_type": "markdown",
      "metadata": {
        "id": "F8oQd_ELDPH6"
      },
      "source": [
        "## Q6\n",
        "\n",
        "Here we will read in columns of numbers from a file and create a histogram, using NumPy routines.  Make sure you have the data file\n",
        "\"`sample.txt`\" in the same directory as this notebook (you can download it from  https://raw.githubusercontent.com/sbu-python-summer/python-tutorial/master/day-3/sample.txt\n",
        "\n",
        "  * Use `np.loadtxt()` to read this file in.  \n",
        "\n",
        "  * Next, use `np.histogram()` to create a histogram array.  The output returns both the count and an array of edges.\n",
        "  \n",
        "  * Finally, loop over the bins and print out the bin center (averaging the left and right edges of the bin) and the count for that bin."
      ]
    },
    {
      "cell_type": "code",
      "execution_count": null,
      "metadata": {
        "tags": [],
        "id": "F8hdGe1qDPH6",
        "outputId": "4b7aa5bc-1f25-4d6b-a0f5-8010a7bf894b",
        "colab": {
          "base_uri": "https://localhost:8080/"
        }
      },
      "outputs": [
        {
          "output_type": "stream",
          "name": "stdout",
          "text": [
            "Bin center: -24.109006493430737, Count: 6\n",
            "Bin center: -11.150163704648554, Count: 23\n",
            "Bin center: 1.8086790841336278, Count: 52\n",
            "Bin center: 14.767521872915811, Count: 37\n",
            "Bin center: 27.726364661697996, Count: 16\n",
            "Bin center: 40.68520745048018, Count: 14\n",
            "Bin center: 53.64405023926236, Count: 13\n",
            "Bin center: 66.60289302804455, Count: 13\n",
            "Bin center: 79.56173581682673, Count: 13\n",
            "Bin center: 92.5205786056089, Count: 13\n"
          ]
        }
      ],
      "source": [
        "import numpy as np\n",
        "import urllib.request\n",
        "url = 'https://raw.githubusercontent.com/sbu-python-summer/python-tutorial/master/day-3/sample.txt'\n",
        "urllib.request.urlretrieve(url, 'sample.txt')\n",
        "\n",
        "data = np.loadtxt('sample.txt')\n",
        "counts, edges = np.histogram(data)\n",
        "\n",
        "for i in range(len(counts)):\n",
        "    bin_center = (edges[i] + edges[i + 1]) / 2\n",
        "    print(f\"Bin center: {bin_center}, Count: {counts[i]}\")\n"
      ]
    },
    {
      "cell_type": "markdown",
      "metadata": {
        "id": "qge_-x7CDPH7"
      },
      "source": [
        "## Q7\n",
        "\n",
        "NumPy has a standard deviation function, `np.std()`, but here we'll write our own that works on a 1-d array (vector).  The standard\n",
        "deviation is a measure of the \"width\" of the distribution of numbers\n",
        "in the vector.\n",
        "\n",
        "Given an array, $a$, and an average $\\bar{a}$, the standard deviation\n",
        "is:\n",
        "\n",
        "$$\n",
        "\\sigma = \\left [ \\frac{1}{N} \\sum_{i=1}^N (a_i - \\bar{a})^2 \\right ]^{1/2}\n",
        "$$\n",
        "\n",
        "Write a function to calculate the standard deviation for an input array, `a`:\n",
        "\n",
        "  * First compute the average of the elements in `a` to define $\\bar{a}$\n",
        "  * Next compute the sum over the squares of $a - \\bar{a}$\n",
        "  * Then divide the sum by the number of elements in the array\n",
        "  * Finally take the square root (you can use `np.sqrt()`)\n",
        "  \n",
        "Test your function on a random array, and compare to the built-in `np.std()`"
      ]
    },
    {
      "cell_type": "code",
      "execution_count": null,
      "metadata": {
        "id": "0dxQkXaZDPH9",
        "outputId": "f029c3cd-c4d6-4981-e12f-0d1f8f16bf0f",
        "colab": {
          "base_uri": "https://localhost:8080/"
        }
      },
      "outputs": [
        {
          "output_type": "stream",
          "name": "stdout",
          "text": [
            "Custom standard deviation: 0.28365108451097276\n",
            "Built-in standard deviation: 0.28365108451097276\n",
            "The custom function matches the built-in function!\n"
          ]
        }
      ],
      "source": [
        "import numpy as np\n",
        "\n",
        "def custom_std(a):\n",
        "    mean = sum(a) / len(a)\n",
        "\n",
        "    squared_differences = [(x - mean) ** 2 for x in a]\n",
        "    squared_sum = sum(squared_differences)\n",
        "\n",
        "    variance = squared_sum / len(a)\n",
        "\n",
        "    std_dev = np.sqrt(variance)\n",
        "\n",
        "    return std_dev\n",
        "\n",
        "random_array = np.random.random(100)\n",
        "custom_result = custom_std(random_array)\n",
        "\n",
        "builtin_result = np.std(random_array)\n",
        "print(f\"Custom standard deviation: {custom_result}\")\n",
        "print(f\"Built-in standard deviation: {builtin_result}\")\n",
        "\n",
        "\n",
        "if np.isclose(custom_result, builtin_result, atol=1e-8):\n",
        "    print(\"The custom function matches the built-in function!\")\n",
        "else:\n",
        "    print(\"The custom function does not match the built-in function.\")\n"
      ]
    }
  ],
  "metadata": {
    "kernelspec": {
      "display_name": "Python 3 (ipykernel)",
      "language": "python",
      "name": "python3"
    },
    "language_info": {
      "codemirror_mode": {
        "name": "ipython",
        "version": 3
      },
      "file_extension": ".py",
      "mimetype": "text/x-python",
      "name": "python",
      "nbconvert_exporter": "python",
      "pygments_lexer": "ipython3",
      "version": "3.12.1"
    },
    "colab": {
      "provenance": []
    }
  },
  "nbformat": 4,
  "nbformat_minor": 0
}