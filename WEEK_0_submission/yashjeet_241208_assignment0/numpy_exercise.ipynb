{
  "cells": [
    {
      "cell_type": "markdown",
      "metadata": {
        "id": "Ar4fL67UDPHr"
      },
      "source": [
        "# NumPy exercises"
      ]
    },
    {
      "cell_type": "markdown",
      "metadata": {
        "id": "_KH_5nW4DPHv"
      },
      "source": [
        "Some  of these come from / are inspired from https://github.com/rougier/numpy-100 and http://www.scipy-lectures.org/intro/numpy/exercises.html\n",
        "\n",
        "You might want to look over these lists as well."
      ]
    },
    {
      "cell_type": "code",
      "execution_count": null,
      "metadata": {
        "id": "u4ewzXF9DPHx"
      },
      "outputs": [],
      "source": [
        "import numpy as np"
      ]
    },
    {
      "cell_type": "markdown",
      "metadata": {
        "id": "BGjlCaQzDPHz"
      },
      "source": [
        "## Q1\n",
        "\n",
        "We can use `np.random.random_sample()` to create an array with random values.  By default, these will be in the range `[0.0, 1.0)`.  You can\n",
        "multiple the output and add a scalar to it to get it to be in a different range.\n",
        "\n",
        "Create a 10 x 10 array initialized with random numbers that lie between 0 and 10.\n",
        "\n",
        "Then compute the average of the array (there is a numpy function for this, `np.mean()`)."
      ]
    },
    {
      "cell_type": "code",
      "execution_count": null,
      "metadata": {
        "tags": [],
        "id": "6MSFAgQyDPHz",
        "outputId": "833bd4ec-6b60-4e6e-dc5c-6e86b4e05793",
        "colab": {
          "base_uri": "https://localhost:8080/"
        }
      },
      "outputs": [
        {
          "output_type": "stream",
          "name": "stdout",
          "text": [
            "[[0.38145101 5.57440486 9.43270239 0.7749863  2.97167444 6.49969857\n",
            "  4.39200168 0.12182803 6.19124103 3.98503677]\n",
            " [7.9683559  5.62203205 5.16276087 6.55010179 4.7352942  5.25090498\n",
            "  5.59952032 3.17183617 7.36648889 9.65436924]\n",
            " [2.55866698 2.04285893 2.3213492  8.48575428 4.13700694 2.30501626\n",
            "  7.18273184 6.08889968 1.03008158 7.42099429]\n",
            " [4.83531786 0.0624785  1.36203934 5.4765545  2.21344761 4.19290953\n",
            "  2.21446567 1.13926738 8.11961879 2.38877341]\n",
            " [0.72315835 7.39009373 0.66959682 2.71655899 6.37049232 7.8486569\n",
            "  8.89408281 6.77862903 8.69979779 7.41315891]\n",
            " [6.79043216 6.73275479 5.75095998 1.68102877 2.50203182 2.54039176\n",
            "  1.09099014 2.20555137 0.79568468 9.30871799]\n",
            " [4.718357   7.87135601 2.223009   5.95769562 2.29988197 9.37620608\n",
            "  0.69332176 6.42318689 6.65098789 0.30092964]\n",
            " [4.5582489  8.80770396 0.94839757 8.94087363 1.9760444  1.33058914\n",
            "  9.61174439 1.06888851 2.55766293 1.86596627]\n",
            " [6.02705387 9.88744844 6.20937404 4.50903208 3.47811621 4.25879002\n",
            "  4.56758912 7.536305   0.68860328 5.50124181]\n",
            " [6.62676867 5.69944281 5.79995534 1.02712826 7.2579473  4.81637338\n",
            "  6.44956325 7.31547232 8.92232908 8.28924545]]\n",
            "4.769365224351728\n"
          ]
        }
      ],
      "source": [
        "arr = np.random.random_sample((10, 10)) * 10\n",
        "print(arr)\n",
        "print(np.mean(arr))"
      ]
    },
    {
      "cell_type": "markdown",
      "metadata": {
        "id": "1RGJBfycDPH0"
      },
      "source": [
        "## Q2\n",
        "\n",
        "Create the array:\n",
        "```\n",
        "[[1,  6, 11],\n",
        " [2,  7, 12],\n",
        " [3,  8, 13],\n",
        " [4,  9, 14],\n",
        " [5, 10, 15]]\n",
        "```\n",
        "with out explicitly typing it in.\n",
        "\n",
        "Now create a new array containing only its 2nd and 4th rows."
      ]
    },
    {
      "cell_type": "code",
      "execution_count": null,
      "metadata": {
        "tags": [],
        "id": "1jxOF41eDPH0"
      },
      "outputs": [],
      "source": [
        "arr1= np.arange(1,16).reshape(3,5).T"
      ]
    },
    {
      "cell_type": "code",
      "source": [
        "arr2 = arr1[[1,3]]\n",
        "arr2"
      ],
      "metadata": {
        "id": "M6e0f4kUHP-s",
        "outputId": "b7249ad3-9934-421e-bd4e-b300d8c6192d",
        "colab": {
          "base_uri": "https://localhost:8080/"
        }
      },
      "execution_count": null,
      "outputs": [
        {
          "output_type": "execute_result",
          "data": {
            "text/plain": [
              "array([[ 2,  7, 12],\n",
              "       [ 4,  9, 14]])"
            ]
          },
          "metadata": {},
          "execution_count": 22
        }
      ]
    },
    {
      "cell_type": "markdown",
      "metadata": {
        "id": "4mfsvN45DPH1"
      },
      "source": [
        "## Q3\n",
        "\n",
        "Create a 2d array with `1` on the border and `0` on the inside, e.g., like:\n",
        "```\n",
        "1 1 1 1 1\n",
        "1 0 0 0 1\n",
        "1 0 0 0 1\n",
        "1 1 1 1 1\n",
        "```\n",
        "\n",
        "Do this using array slice notation to let it work for an arbitrary-sized array"
      ]
    },
    {
      "cell_type": "code",
      "execution_count": null,
      "metadata": {
        "tags": [],
        "id": "qf1EIwKSDPH2",
        "outputId": "bce268f3-4732-449c-d0d0-75be1ef3d987",
        "colab": {
          "base_uri": "https://localhost:8080/"
        }
      },
      "outputs": [
        {
          "output_type": "execute_result",
          "data": {
            "text/plain": [
              "array([[1., 1., 1.],\n",
              "       [1., 0., 1.],\n",
              "       [1., 0., 1.],\n",
              "       [1., 0., 1.],\n",
              "       [1., 1., 1.]])"
            ]
          },
          "metadata": {},
          "execution_count": 24
        }
      ],
      "source": [
        "def boxarr(n,m):\n",
        "  arr = np.zeros((n,m))\n",
        "  arr[0,:] = 1\n",
        "  arr[-1,:] = 1\n",
        "  arr[:,0] = 1\n",
        "  arr[:,-1] = 1\n",
        "  return arr\n",
        "boxarr(5,3)"
      ]
    },
    {
      "cell_type": "markdown",
      "metadata": {
        "id": "UuKIXz6vDPH3"
      },
      "source": [
        "## Q4\n",
        "\n",
        "  * Create an array with angles in degrees 0, 15, 30, ... 90 (i.e., every 15 degrees up to 90).\n",
        "\n",
        "  * Now create 3 new arrays with the sine, cosine, and tangent of the elements of the first array\n",
        "  \n",
        "  * Finally, calculate the inverse sine, inverse cosine, and inverse tangent the arrays above and compare to the original angles"
      ]
    },
    {
      "cell_type": "code",
      "execution_count": null,
      "metadata": {
        "collapsed": true,
        "jupyter": {
          "outputs_hidden": true
        },
        "id": "bYMU3viyDPH4",
        "outputId": "91ea6c50-f4a7-48b2-928c-ab251760e071",
        "colab": {
          "base_uri": "https://localhost:8080/"
        }
      },
      "outputs": [
        {
          "output_type": "execute_result",
          "data": {
            "text/plain": [
              "array([ 0, 15, 30, 45, 60, 75, 90])"
            ]
          },
          "metadata": {},
          "execution_count": 29
        }
      ],
      "source": [
        "angleDegrees = np.arange(0,91,15)\n",
        "angleDegrees"
      ]
    },
    {
      "cell_type": "code",
      "source": [
        "angleRadians = np.deg2rad(angleDegrees)\n",
        "sines = np.sin(angleRadians)\n",
        "cosines = np.cos(angleRadians)\n",
        "tangents = np.tan(angleRadians)"
      ],
      "metadata": {
        "id": "_LzWEhCCJCFU"
      },
      "execution_count": null,
      "outputs": []
    },
    {
      "cell_type": "markdown",
      "metadata": {
        "id": "oKhSlL_EDPH4"
      },
      "source": [
        "## Q5\n",
        "\n",
        "Given the array:\n",
        "```\n",
        "x = np.array([1, -1, 2, 5, 8, 4, 10, 12, 3])\n",
        "```\n",
        "calculate the difference of each element with its neighbor."
      ]
    },
    {
      "cell_type": "code",
      "execution_count": null,
      "metadata": {
        "tags": [],
        "id": "mRojYTFMDPH5",
        "outputId": "b8ac57d5-6797-44b6-b2f0-5bac5513041f",
        "colab": {
          "base_uri": "https://localhost:8080/"
        }
      },
      "outputs": [
        {
          "output_type": "execute_result",
          "data": {
            "text/plain": [
              "array([-2,  3,  3,  3, -4,  6,  2, -9])"
            ]
          },
          "metadata": {},
          "execution_count": 32
        }
      ],
      "source": [
        "x=np.array([1, -1, 2, 5, 8, 4, 10, 12, 3])\n",
        "np.diff(x)"
      ]
    },
    {
      "cell_type": "markdown",
      "metadata": {
        "id": "F8oQd_ELDPH6"
      },
      "source": [
        "## Q6\n",
        "\n",
        "Here we will read in columns of numbers from a file and create a histogram, using NumPy routines.  Make sure you have the data file\n",
        "\"`sample.txt`\" in the same directory as this notebook (you can download it from  https://raw.githubusercontent.com/sbu-python-summer/python-tutorial/master/day-3/sample.txt\n",
        "\n",
        "  * Use `np.loadtxt()` to read this file in.  \n",
        "\n",
        "  * Next, use `np.histogram()` to create a histogram array.  The output returns both the count and an array of edges.\n",
        "  \n",
        "  * Finally, loop over the bins and print out the bin center (averaging the left and right edges of the bin) and the count for that bin."
      ]
    },
    {
      "cell_type": "code",
      "execution_count": null,
      "metadata": {
        "tags": [],
        "id": "F8hdGe1qDPH6",
        "outputId": "1657cf0e-8626-44b3-d46b-3bd2b27ba7f8",
        "colab": {
          "base_uri": "https://localhost:8080/"
        }
      },
      "outputs": [
        {
          "output_type": "execute_result",
          "data": {
            "text/plain": [
              "(array([ 6, 23, 52, 37, 16, 14, 13, 13, 13, 13]),\n",
              " array([-30.58842789, -17.6295851 ,  -4.67074231,   8.28810048,\n",
              "         21.24694327,  34.20578606,  47.16462884,  60.12347163,\n",
              "         73.08231442,  86.04115721,  99.        ]))"
            ]
          },
          "metadata": {},
          "execution_count": 34
        }
      ],
      "source": [
        "txt = np.loadtxt(\"sample.txt\")\n",
        "hist = np.histogram(txt)"
      ]
    },
    {
      "cell_type": "markdown",
      "metadata": {
        "id": "qge_-x7CDPH7"
      },
      "source": [
        "## Q7\n",
        "\n",
        "NumPy has a standard deviation function, `np.std()`, but here we'll write our own that works on a 1-d array (vector).  The standard\n",
        "deviation is a measure of the \"width\" of the distribution of numbers\n",
        "in the vector.\n",
        "\n",
        "Given an array, $a$, and an average $\\bar{a}$, the standard deviation\n",
        "is:\n",
        "\n",
        "$$\n",
        "\\sigma = \\left [ \\frac{1}{N} \\sum_{i=1}^N (a_i - \\bar{a})^2 \\right ]^{1/2}\n",
        "$$\n",
        "\n",
        "Write a function to calculate the standard deviation for an input array, `a`:\n",
        "\n",
        "  * First compute the average of the elements in `a` to define $\\bar{a}$\n",
        "  * Next compute the sum over the squares of $a - \\bar{a}$\n",
        "  * Then divide the sum by the number of elements in the array\n",
        "  * Finally take the square root (you can use `np.sqrt()`)\n",
        "  \n",
        "Test your function on a random array, and compare to the built-in `np.std()`"
      ]
    },
    {
      "cell_type": "code",
      "execution_count": null,
      "metadata": {
        "id": "0dxQkXaZDPH9"
      },
      "outputs": [],
      "source": [
        "def std_dev(a):\n",
        "  avg = np.mean(a)\n",
        "  sum = np.sum((a-avg)**2)\n",
        "  return np.sqrt(sum/len(a))"
      ]
    }
  ],
  "metadata": {
    "kernelspec": {
      "display_name": "Python 3 (ipykernel)",
      "language": "python",
      "name": "python3"
    },
    "language_info": {
      "codemirror_mode": {
        "name": "ipython",
        "version": 3
      },
      "file_extension": ".py",
      "mimetype": "text/x-python",
      "name": "python",
      "nbconvert_exporter": "python",
      "pygments_lexer": "ipython3",
      "version": "3.12.1"
    },
    "colab": {
      "provenance": []
    }
  },
  "nbformat": 4,
  "nbformat_minor": 0
}