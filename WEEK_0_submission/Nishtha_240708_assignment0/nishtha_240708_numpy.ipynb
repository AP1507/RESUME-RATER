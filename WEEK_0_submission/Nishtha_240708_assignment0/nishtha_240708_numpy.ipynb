{
  "cells": [
    {
      "cell_type": "markdown",
      "metadata": {
        "id": "Ar4fL67UDPHr"
      },
      "source": [
        "# NumPy exercises"
      ]
    },
    {
      "cell_type": "markdown",
      "metadata": {
        "id": "_KH_5nW4DPHv"
      },
      "source": [
        "Some  of these come from / are inspired from https://github.com/rougier/numpy-100 and http://www.scipy-lectures.org/intro/numpy/exercises.html\n",
        "\n",
        "You might want to look over these lists as well."
      ]
    },
    {
      "cell_type": "code",
      "execution_count": 2,
      "metadata": {
        "id": "u4ewzXF9DPHx"
      },
      "outputs": [],
      "source": [
        "import numpy as np"
      ]
    },
    {
      "cell_type": "markdown",
      "metadata": {
        "id": "BGjlCaQzDPHz"
      },
      "source": [
        "## Q1\n",
        "\n",
        "We can use `np.random.random_sample()` to create an array with random values.  By default, these will be in the range `[0.0, 1.0)`.  You can\n",
        "multiple the output and add a scalar to it to get it to be in a different range.\n",
        "\n",
        "Create a 10 x 10 array initialized with random numbers that lie between 0 and 10.\n",
        "\n",
        "Then compute the average of the array (there is a numpy function for this, `np.mean()`)."
      ]
    },
    {
      "cell_type": "code",
      "execution_count": 3,
      "metadata": {
        "tags": [],
        "id": "6MSFAgQyDPHz",
        "colab": {
          "base_uri": "https://localhost:8080/"
        },
        "outputId": "aca5e492-d848-4844-f36c-b0a85095a0ff"
      },
      "outputs": [
        {
          "output_type": "stream",
          "name": "stdout",
          "text": [
            "[[4.2868557  0.78302664 5.33731345 7.44325227 0.95477424 9.75500251\n",
            "  1.08521326 9.76149555 6.22446291 6.57139786]\n",
            " [8.97252559 3.56411073 3.83827674 8.29610732 9.2461536  0.62366102\n",
            "  0.14144419 3.45808486 5.06968697 3.84925706]\n",
            " [2.14606926 6.59158051 7.31642393 5.43924508 1.825721   2.55108\n",
            "  8.72992993 1.38857035 1.27327729 8.9884612 ]\n",
            " [4.55861887 7.17021838 4.10508893 7.43764204 8.24176399 5.79147337\n",
            "  2.51311299 7.99187708 1.1477582  0.67780752]\n",
            " [3.50580777 1.14282639 5.81417266 0.64154441 6.3314189  6.62185328\n",
            "  2.3475471  6.18832031 1.09495677 5.74502924]\n",
            " [7.83997662 6.764204   7.3883012  3.19350835 2.69549175 8.90383877\n",
            "  6.22152376 4.78432248 5.48169995 0.3141184 ]\n",
            " [1.10315423 1.04321355 2.3882428  0.61058048 5.44975153 4.63464387\n",
            "  8.57765983 2.83977715 6.33383667 4.54102216]\n",
            " [7.77324707 5.35038724 6.41508762 3.71252968 3.40474968 7.64727062\n",
            "  4.24357435 6.49245824 1.25216653 8.70523841]\n",
            " [2.64301303 2.65338429 2.07727258 4.02703054 7.32775346 7.29899316\n",
            "  9.59147533 7.07458644 1.36758464 8.97749785]\n",
            " [7.5905891  3.79924394 9.36325561 7.75883406 1.24007431 9.78933974\n",
            "  1.04188811 9.68938018 1.67588386 9.36348336]]\n",
            "4.950374397899969\n"
          ]
        }
      ],
      "source": [
        "random_arr = np.random.random_sample((10,10))*10\n",
        "average= np.mean(random_arr)\n",
        "print(random_arr)\n",
        "print(average)\n"
      ]
    },
    {
      "cell_type": "markdown",
      "metadata": {
        "id": "1RGJBfycDPH0"
      },
      "source": [
        "## Q2\n",
        "\n",
        "Create the array:\n",
        "```\n",
        "[[1,  6, 11],\n",
        " [2,  7, 12],\n",
        " [3,  8, 13],\n",
        " [4,  9, 14],\n",
        " [5, 10, 15]]\n",
        "```\n",
        "with out explicitly typing it in.\n",
        "\n",
        "Now create a new array containing only its 2nd and 4th rows."
      ]
    },
    {
      "cell_type": "code",
      "execution_count": 4,
      "metadata": {
        "tags": [],
        "id": "1jxOF41eDPH0",
        "colab": {
          "base_uri": "https://localhost:8080/"
        },
        "outputId": "62b112e3-534f-4f4f-a27c-65c9680a66f7"
      },
      "outputs": [
        {
          "output_type": "stream",
          "name": "stdout",
          "text": [
            "[[ 1  2  3]\n",
            " [ 4  5  6]\n",
            " [ 7  8  9]\n",
            " [10 11 12]\n",
            " [13 14 15]]\n",
            "[[ 4  5  6]\n",
            " [10 11 12]]\n"
          ]
        }
      ],
      "source": [
        "arr = np.arange(1,16).reshape(5,3)\n",
        "print(arr)\n",
        "print(arr[[1,3], :])\n"
      ]
    },
    {
      "cell_type": "markdown",
      "metadata": {
        "id": "4mfsvN45DPH1"
      },
      "source": [
        "## Q3\n",
        "\n",
        "Create a 2d array with `1` on the border and `0` on the inside, e.g., like:\n",
        "```\n",
        "1 1 1 1 1\n",
        "1 0 0 0 1\n",
        "1 0 0 0 1\n",
        "1 1 1 1 1\n",
        "```\n",
        "\n",
        "Do this using array slice notation to let it work for an arbitrary-sized array"
      ]
    },
    {
      "cell_type": "code",
      "execution_count": 5,
      "metadata": {
        "tags": [],
        "id": "qf1EIwKSDPH2",
        "colab": {
          "base_uri": "https://localhost:8080/",
          "height": 356
        },
        "outputId": "cda18618-fe8f-42c0-9161-ee2c17955be3"
      },
      "outputs": [
        {
          "output_type": "error",
          "ename": "KeyboardInterrupt",
          "evalue": "Interrupted by user",
          "traceback": [
            "\u001b[0;31m---------------------------------------------------------------------------\u001b[0m",
            "\u001b[0;31mKeyboardInterrupt\u001b[0m                         Traceback (most recent call last)",
            "\u001b[0;32m<ipython-input-5-e299efa3cba9>\u001b[0m in \u001b[0;36m<cell line: 1>\u001b[0;34m()\u001b[0m\n\u001b[0;32m----> 1\u001b[0;31m \u001b[0mrow\u001b[0m \u001b[0;34m=\u001b[0m \u001b[0mint\u001b[0m\u001b[0;34m(\u001b[0m\u001b[0minput\u001b[0m\u001b[0;34m(\u001b[0m\u001b[0;34m)\u001b[0m\u001b[0;34m)\u001b[0m\u001b[0;34m\u001b[0m\u001b[0;34m\u001b[0m\u001b[0m\n\u001b[0m\u001b[1;32m      2\u001b[0m \u001b[0mcoloumn\u001b[0m \u001b[0;34m=\u001b[0m \u001b[0mint\u001b[0m\u001b[0;34m(\u001b[0m\u001b[0minput\u001b[0m\u001b[0;34m(\u001b[0m\u001b[0;34m)\u001b[0m\u001b[0;34m)\u001b[0m\u001b[0;34m\u001b[0m\u001b[0;34m\u001b[0m\u001b[0m\n\u001b[1;32m      3\u001b[0m \u001b[0marr\u001b[0m \u001b[0;34m=\u001b[0m \u001b[0mnp\u001b[0m\u001b[0;34m.\u001b[0m\u001b[0mones\u001b[0m\u001b[0;34m(\u001b[0m\u001b[0;34m(\u001b[0m\u001b[0mrow\u001b[0m\u001b[0;34m,\u001b[0m\u001b[0mcoloumn\u001b[0m\u001b[0;34m)\u001b[0m\u001b[0;34m,\u001b[0m\u001b[0mdtype\u001b[0m \u001b[0;34m=\u001b[0m \u001b[0mint\u001b[0m\u001b[0;34m)\u001b[0m\u001b[0;34m\u001b[0m\u001b[0;34m\u001b[0m\u001b[0m\n\u001b[1;32m      4\u001b[0m \u001b[0marr\u001b[0m\u001b[0;34m[\u001b[0m\u001b[0;36m1\u001b[0m\u001b[0;34m:\u001b[0m\u001b[0;34m-\u001b[0m\u001b[0;36m1\u001b[0m\u001b[0;34m,\u001b[0m\u001b[0;36m1\u001b[0m\u001b[0;34m:\u001b[0m\u001b[0;34m-\u001b[0m\u001b[0;36m1\u001b[0m\u001b[0;34m]\u001b[0m \u001b[0;34m=\u001b[0m \u001b[0;36m0\u001b[0m\u001b[0;34m\u001b[0m\u001b[0;34m\u001b[0m\u001b[0m\n\u001b[1;32m      5\u001b[0m \u001b[0mprint\u001b[0m\u001b[0;34m(\u001b[0m\u001b[0marr\u001b[0m\u001b[0;34m)\u001b[0m\u001b[0;34m\u001b[0m\u001b[0;34m\u001b[0m\u001b[0m\n",
            "\u001b[0;32m/usr/local/lib/python3.10/dist-packages/ipykernel/kernelbase.py\u001b[0m in \u001b[0;36mraw_input\u001b[0;34m(self, prompt)\u001b[0m\n\u001b[1;32m    849\u001b[0m                 \u001b[0;34m\"raw_input was called, but this frontend does not support input requests.\"\u001b[0m\u001b[0;34m\u001b[0m\u001b[0;34m\u001b[0m\u001b[0m\n\u001b[1;32m    850\u001b[0m             )\n\u001b[0;32m--> 851\u001b[0;31m         return self._input_request(str(prompt),\n\u001b[0m\u001b[1;32m    852\u001b[0m             \u001b[0mself\u001b[0m\u001b[0;34m.\u001b[0m\u001b[0m_parent_ident\u001b[0m\u001b[0;34m,\u001b[0m\u001b[0;34m\u001b[0m\u001b[0;34m\u001b[0m\u001b[0m\n\u001b[1;32m    853\u001b[0m             \u001b[0mself\u001b[0m\u001b[0;34m.\u001b[0m\u001b[0m_parent_header\u001b[0m\u001b[0;34m,\u001b[0m\u001b[0;34m\u001b[0m\u001b[0;34m\u001b[0m\u001b[0m\n",
            "\u001b[0;32m/usr/local/lib/python3.10/dist-packages/ipykernel/kernelbase.py\u001b[0m in \u001b[0;36m_input_request\u001b[0;34m(self, prompt, ident, parent, password)\u001b[0m\n\u001b[1;32m    893\u001b[0m             \u001b[0;32mexcept\u001b[0m \u001b[0mKeyboardInterrupt\u001b[0m\u001b[0;34m:\u001b[0m\u001b[0;34m\u001b[0m\u001b[0;34m\u001b[0m\u001b[0m\n\u001b[1;32m    894\u001b[0m                 \u001b[0;31m# re-raise KeyboardInterrupt, to truncate traceback\u001b[0m\u001b[0;34m\u001b[0m\u001b[0;34m\u001b[0m\u001b[0m\n\u001b[0;32m--> 895\u001b[0;31m                 \u001b[0;32mraise\u001b[0m \u001b[0mKeyboardInterrupt\u001b[0m\u001b[0;34m(\u001b[0m\u001b[0;34m\"Interrupted by user\"\u001b[0m\u001b[0;34m)\u001b[0m \u001b[0;32mfrom\u001b[0m \u001b[0;32mNone\u001b[0m\u001b[0;34m\u001b[0m\u001b[0;34m\u001b[0m\u001b[0m\n\u001b[0m\u001b[1;32m    896\u001b[0m             \u001b[0;32mexcept\u001b[0m \u001b[0mException\u001b[0m \u001b[0;32mas\u001b[0m \u001b[0me\u001b[0m\u001b[0;34m:\u001b[0m\u001b[0;34m\u001b[0m\u001b[0;34m\u001b[0m\u001b[0m\n\u001b[1;32m    897\u001b[0m                 \u001b[0mself\u001b[0m\u001b[0;34m.\u001b[0m\u001b[0mlog\u001b[0m\u001b[0;34m.\u001b[0m\u001b[0mwarning\u001b[0m\u001b[0;34m(\u001b[0m\u001b[0;34m\"Invalid Message:\"\u001b[0m\u001b[0;34m,\u001b[0m \u001b[0mexc_info\u001b[0m\u001b[0;34m=\u001b[0m\u001b[0;32mTrue\u001b[0m\u001b[0;34m)\u001b[0m\u001b[0;34m\u001b[0m\u001b[0;34m\u001b[0m\u001b[0m\n",
            "\u001b[0;31mKeyboardInterrupt\u001b[0m: Interrupted by user"
          ]
        }
      ],
      "source": [
        "row = int(input())\n",
        "coloumn = int(input())\n",
        "arr = np.ones((row,coloumn),dtype = int)\n",
        "arr[1:-1,1:-1] = 0\n",
        "print(arr)"
      ]
    },
    {
      "cell_type": "markdown",
      "metadata": {
        "id": "UuKIXz6vDPH3"
      },
      "source": [
        "## Q4\n",
        "\n",
        "  * Create an array with angles in degrees 0, 15, 30, ... 90 (i.e., every 15 degrees up to 90).\n",
        "\n",
        "  * Now create 3 new arrays with the sine, cosine, and tangent of the elements of the first array\n",
        "  \n",
        "  * Finally, calculate the inverse sine, inverse cosine, and inverse tangent the arrays above and compare to the original angles"
      ]
    },
    {
      "cell_type": "code",
      "execution_count": 6,
      "metadata": {
        "collapsed": true,
        "jupyter": {
          "outputs_hidden": true
        },
        "id": "bYMU3viyDPH4",
        "colab": {
          "base_uri": "https://localhost:8080/"
        },
        "outputId": "0d59a747-313c-47e7-cbb8-243b4eeed64f"
      },
      "outputs": [
        {
          "output_type": "stream",
          "name": "stdout",
          "text": [
            "[ 0 15 30 45 60 75 90]\n",
            "[0.         0.25881905 0.5        0.70710678 0.8660254  0.96592583\n",
            " 1.        ]\n",
            "[1.00000000e+00 9.65925826e-01 8.66025404e-01 7.07106781e-01\n",
            " 5.00000000e-01 2.58819045e-01 6.12323400e-17]\n",
            "[0.00000000e+00 2.67949192e-01 5.77350269e-01 1.00000000e+00\n",
            " 1.73205081e+00 3.73205081e+00 1.63312394e+16]\n",
            "[ 0. 15. 30. 45. 60. 75. 90.]\n",
            "[ 0. 15. 30. 45. 60. 75. 90.]\n",
            "[ 0. 15. 30. 45. 60. 75. 90.]\n"
          ]
        }
      ],
      "source": [
        "arr = np.arange(0,91,15)\n",
        "\n",
        "print(arr)\n",
        "sin = np.sin(np.radians(arr))\n",
        "print(sin)\n",
        "cos = np.cos(np.radians(arr))\n",
        "print(cos)\n",
        "tan = np.tan(np.radians(arr))\n",
        "print(tan)\n",
        "asin = np.arcsin(sin)\n",
        "print(np.degrees(asin))\n",
        "acos = np.arccos(cos)\n",
        "print(np.degrees(acos))\n",
        "atan = np.arctan(tan)\n",
        "print(np.degrees(atan))\n"
      ]
    },
    {
      "cell_type": "markdown",
      "metadata": {
        "id": "oKhSlL_EDPH4"
      },
      "source": [
        "## Q5\n",
        "\n",
        "Given the array:\n",
        "```\n",
        "x = np.array([1, -1, 2, 5, 8, 4, 10, 12, 3])\n",
        "```\n",
        "calculate the difference of each element with its neighbor."
      ]
    },
    {
      "cell_type": "code",
      "execution_count": 7,
      "metadata": {
        "tags": [],
        "id": "mRojYTFMDPH5",
        "colab": {
          "base_uri": "https://localhost:8080/"
        },
        "outputId": "b5e5d9b7-1636-4e02-99fb-ddd4cce04df0"
      },
      "outputs": [
        {
          "output_type": "stream",
          "name": "stdout",
          "text": [
            "[-2  3  3  3 -4  6  2 -9]\n"
          ]
        }
      ],
      "source": [
        "x = np.array([1, -1, 2, 5, 8, 4, 10, 12, 3])\n",
        "diff = np.diff(x)\n",
        "print(diff)"
      ]
    },
    {
      "cell_type": "markdown",
      "metadata": {
        "id": "F8oQd_ELDPH6"
      },
      "source": [
        "## Q6\n",
        "\n",
        "Here we will read in columns of numbers from a file and create a histogram, using NumPy routines.  Make sure you have the data file\n",
        "\"`sample.txt`\" in the same directory as this notebook (you can download it from  https://raw.githubusercontent.com/sbu-python-summer/python-tutorial/master/day-3/sample.txt\n",
        "\n",
        "  * Use `np.loadtxt()` to read this file in.  \n",
        "\n",
        "  * Next, use `np.histogram()` to create a histogram array.  The output returns both the count and an array of edges.\n",
        "  \n",
        "  * Finally, loop over the bins and print out the bin center (averaging the left and right edges of the bin) and the count for that bin."
      ]
    },
    {
      "cell_type": "code",
      "execution_count": 10,
      "metadata": {
        "tags": [],
        "id": "F8hdGe1qDPH6",
        "colab": {
          "base_uri": "https://localhost:8080/"
        },
        "outputId": "bc9e475e-83af-4291-a90c-530305ccae38"
      },
      "outputs": [
        {
          "output_type": "stream",
          "name": "stdout",
          "text": [
            "Bin center: -24.109006493430737, Count: 6\n",
            "Bin center: -11.150163704648554, Count: 23\n",
            "Bin center: 1.8086790841336278, Count: 52\n",
            "Bin center: 14.767521872915811, Count: 37\n",
            "Bin center: 27.726364661697996, Count: 16\n",
            "Bin center: 40.68520745048018, Count: 14\n",
            "Bin center: 53.64405023926236, Count: 13\n",
            "Bin center: 66.60289302804455, Count: 13\n",
            "Bin center: 79.56173581682673, Count: 13\n",
            "Bin center: 92.5205786056089, Count: 13\n"
          ]
        }
      ],
      "source": [
        "import urllib.request\n",
        "url = 'https://raw.githubusercontent.com/sbu-python-summer/python-tutorial/master/day-3/sample.txt'\n",
        "urllib.request.urlretrieve(url, 'sample.txt')\n",
        "\n",
        "data = np.loadtxt('sample.txt')\n",
        "counts, edges = np.histogram(data)\n",
        "\n",
        "for i in range(len(counts)):\n",
        "    bin_center = (edges[i] + edges[i + 1]) / 2\n",
        "    print(f\"Bin center: {bin_center}, Count: {counts[i]}\")\n"
      ]
    },
    {
      "cell_type": "markdown",
      "metadata": {
        "id": "qge_-x7CDPH7"
      },
      "source": [
        "## Q7\n",
        "\n",
        "NumPy has a standard deviation function, `np.std()`, but here we'll write our own that works on a 1-d array (vector).  The standard\n",
        "deviation is a measure of the \"width\" of the distribution of numbers\n",
        "in the vector.\n",
        "\n",
        "Given an array, $a$, and an average $\\bar{a}$, the standard deviation\n",
        "is:\n",
        "\n",
        "$$\n",
        "\\sigma = \\left [ \\frac{1}{N} \\sum_{i=1}^N (a_i - \\bar{a})^2 \\right ]^{1/2}\n",
        "$$\n",
        "\n",
        "Write a function to calculate the standard deviation for an input array, `a`:\n",
        "\n",
        "  * First compute the average of the elements in `a` to define $\\bar{a}$\n",
        "  * Next compute the sum over the squares of $a - \\bar{a}$\n",
        "  * Then divide the sum by the number of elements in the array\n",
        "  * Finally take the square root (you can use `np.sqrt()`)\n",
        "  \n",
        "Test your function on a random array, and compare to the built-in `np.std()`"
      ]
    },
    {
      "cell_type": "code",
      "execution_count": 12,
      "metadata": {
        "id": "0dxQkXaZDPH9",
        "colab": {
          "base_uri": "https://localhost:8080/"
        },
        "outputId": "42f8bd52-761a-46a1-def9-da9a0c526425"
      },
      "outputs": [
        {
          "output_type": "stream",
          "name": "stdout",
          "text": [
            "Custom standard deviation: 0.298088678093145\n",
            "Built-in standard deviation: 0.298088678093145\n",
            "The custom function matches the built-in function!\n"
          ]
        }
      ],
      "source": [
        "\n",
        "def custom_std(a):\n",
        "    mean = sum(a) / len(a)\n",
        "\n",
        "    squared_differences = [(x - mean) ** 2 for x in a]\n",
        "    squared_sum = sum(squared_differences)\n",
        "\n",
        "    variance = squared_sum / len(a)\n",
        "\n",
        "    std_dev = np.sqrt(variance)\n",
        "\n",
        "    return std_dev\n",
        "\n",
        "random_array = np.random.random(100)\n",
        "custom_result = custom_std(random_array)\n",
        "\n",
        "builtin_result = np.std(random_array)\n",
        "print(f\"Custom standard deviation: {custom_result}\")\n",
        "print(f\"Built-in standard deviation: {builtin_result}\")\n",
        "\n",
        "\n",
        "if np.isclose(custom_result, builtin_result, atol=1e-8):\n",
        "    print(\"The custom function matches the built-in function!\")\n",
        "else:\n",
        "    print(\"The custom function does not match the built-in function.\")"
      ]
    }
  ],
  "metadata": {
    "kernelspec": {
      "display_name": "Python 3 (ipykernel)",
      "language": "python",
      "name": "python3"
    },
    "language_info": {
      "codemirror_mode": {
        "name": "ipython",
        "version": 3
      },
      "file_extension": ".py",
      "mimetype": "text/x-python",
      "name": "python",
      "nbconvert_exporter": "python",
      "pygments_lexer": "ipython3",
      "version": "3.12.1"
    },
    "colab": {
      "provenance": []
    }
  },
  "nbformat": 4,
  "nbformat_minor": 0
}