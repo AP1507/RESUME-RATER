{
  "cells": [
    {
      "cell_type": "markdown",
      "id": "e79a44bb-42c8-4ace-8d71-770c06522bfc",
      "metadata": {
        "id": "e79a44bb-42c8-4ace-8d71-770c06522bfc"
      },
      "source": [
        "# Pandas Exercises"
      ]
    },
    {
      "cell_type": "markdown",
      "id": "1d26ef1e-3c49-4a46-a4c5-b68825d5a953",
      "metadata": {
        "id": "1d26ef1e-3c49-4a46-a4c5-b68825d5a953"
      },
      "source": [
        "## Creating DataFrames and Using Sample Data Sets"
      ]
    },
    {
      "cell_type": "markdown",
      "id": "bc5dd17f-4431-4655-b2c5-ea537e23223c",
      "metadata": {
        "id": "bc5dd17f-4431-4655-b2c5-ea537e23223c"
      },
      "source": [
        "This is the Jupyter Notebook runnable exercises version of the article, [Pandas Practice Questions – Fifty-Two Examples to Make You an Expert](https://codesolid.com/pandas-practice-questions-twenty-one-examples-to-make-you-an-expert/)."
      ]
    },
    {
      "cell_type": "code",
      "execution_count": 2,
      "id": "df91e92f-5f2b-4e98-81f7-84e7478ed432",
      "metadata": {
        "id": "df91e92f-5f2b-4e98-81f7-84e7478ed432"
      },
      "outputs": [],
      "source": [
        "import pandas as pd\n",
        "import numpy as np\n",
        "import seaborn as sb"
      ]
    },
    {
      "cell_type": "markdown",
      "id": "6950cc47-3cc0-4565-8df1-d01741b7ea5f",
      "metadata": {
        "id": "6950cc47-3cc0-4565-8df1-d01741b7ea5f"
      },
      "source": [
        "**1.** Using NumPy, create a Pandas DataFrame with five rows and three columms:"
      ]
    },
    {
      "cell_type": "code",
      "execution_count": null,
      "id": "dd1a5014-d17e-4fd0-b7a2-db261a53a02a",
      "metadata": {
        "id": "dd1a5014-d17e-4fd0-b7a2-db261a53a02a",
        "outputId": "7016a851-14e2-4b8a-c456-b45823d5912d",
        "colab": {
          "base_uri": "https://localhost:8080/"
        }
      },
      "outputs": [
        {
          "output_type": "stream",
          "name": "stdout",
          "text": [
            "          0         1         2\n",
            "0  0.605816  0.901438  0.986681\n",
            "1  0.268983  0.903615  0.308003\n",
            "2  0.113420  0.469595  0.691663\n",
            "3  0.495951  0.383669  0.800026\n",
            "4  0.101963  0.906581  0.158253\n"
          ]
        }
      ],
      "source": [
        "data = np.random.random((5, 3))\n",
        "dataframe = pd.DataFrame(data)\n",
        "print(dataframe)"
      ]
    },
    {
      "cell_type": "markdown",
      "id": "9c74f94d-4adf-403d-a2c4-9efd200ba5b2",
      "metadata": {
        "id": "9c74f94d-4adf-403d-a2c4-9efd200ba5b2"
      },
      "source": [
        "**2.** For a Pandas DataFrame created from a NumPy array, what is the default behavior for the labels for the columns?  For the rows?"
      ]
    },
    {
      "cell_type": "markdown",
      "id": "e7508b50-d724-47a7-8272-9ba040cd9c65",
      "metadata": {
        "id": "e7508b50-d724-47a7-8272-9ba040cd9c65"
      },
      "source": [
        "Default labels for coloumns and rows are integer starting from 0."
      ]
    },
    {
      "cell_type": "markdown",
      "id": "1a20442a-ea2c-4d32-877b-bfe5ae349318",
      "metadata": {
        "id": "1a20442a-ea2c-4d32-877b-bfe5ae349318"
      },
      "source": [
        "**3.** Create a second DataFrame as above with five rows and three columns, setting the row labels to the names of any five major US cities and the column labels to the first three months of the year."
      ]
    },
    {
      "cell_type": "code",
      "execution_count": 4,
      "id": "02686eae-cba2-4180-94ff-4dc85eca0731",
      "metadata": {
        "id": "02686eae-cba2-4180-94ff-4dc85eca0731",
        "colab": {
          "base_uri": "https://localhost:8080/"
        },
        "outputId": "feab1d00-857b-4a2f-d4db-56612b631b2c"
      },
      "outputs": [
        {
          "output_type": "stream",
          "name": "stdout",
          "text": [
            "                January  February     March\n",
            "New York       0.414687  0.312787  0.380289\n",
            "Los Angeles    0.750398  0.350176  0.265271\n",
            "Chicago        0.495023  0.680971  0.991503\n",
            "Washington DC  0.117360  0.847950  0.889092\n",
            "San Francisco  0.325298  0.383795  0.163929\n"
          ]
        }
      ],
      "source": [
        "data = np.random.random((5, 3))\n",
        "dataframe = pd.DataFrame(data,index = ['New York','Los Angeles','Chicago','Washington DC','San Francisco'],\n",
        "                         columns = ['January','February','March'])\n",
        "print(dataframe)"
      ]
    },
    {
      "cell_type": "markdown",
      "id": "f6c2f45b-0fea-49bf-98a0-572d594a0680",
      "metadata": {
        "id": "f6c2f45b-0fea-49bf-98a0-572d594a0680"
      },
      "source": [
        "**4.** You recall that the Seaborn package has some data sets built in, but can't remember how to list and load them. Assuming the functions to do so have \"data\" in the name, how might you locate them?  You can assume a Jupyter Notebook / IPython environment and explain the process, or write the code to do it in Python."
      ]
    },
    {
      "cell_type": "markdown",
      "id": "8afae59d-eb5a-4692-9924-b54d49942769",
      "metadata": {
        "id": "8afae59d-eb5a-4692-9924-b54d49942769"
      },
      "source": []
    },
    {
      "cell_type": "code",
      "execution_count": null,
      "id": "ce709b0a-cb22-4f33-9492-62f8346d0ef4",
      "metadata": {
        "id": "ce709b0a-cb22-4f33-9492-62f8346d0ef4"
      },
      "outputs": [],
      "source": [
        "import seaborn as sns\n",
        "data_functions = [func for func in dir(sns) if \"data\" in func.lower()]"
      ]
    },
    {
      "cell_type": "markdown",
      "id": "70efcde8-cd73-4d61-8534-e6a3c469dbff",
      "metadata": {
        "id": "70efcde8-cd73-4d61-8534-e6a3c469dbff"
      },
      "source": [
        "## Loading data from CSV"
      ]
    },
    {
      "cell_type": "markdown",
      "id": "00214582-1340-4700-99b5-9f36afce3e16",
      "metadata": {
        "id": "00214582-1340-4700-99b5-9f36afce3e16"
      },
      "source": [
        "**5**. Zillow home data is available at this URL: https://files.zillowstatic.com/research/public_csvs/zhvi/Metro_zhvi_uc_sfrcondo_tier_0.33_0.67_sm_sa_month.csv\n",
        "\n",
        "Open this file as a DataFrame named df_homes in Pandas."
      ]
    },
    {
      "cell_type": "code",
      "execution_count": 6,
      "id": "2838d3d2-5f1c-4e97-aab6-c7236ced82ad",
      "metadata": {
        "id": "2838d3d2-5f1c-4e97-aab6-c7236ced82ad"
      },
      "outputs": [],
      "source": [
        "url = \"https://files.zillowstatic.com/research/public_csvs/zhvi/Metro_zhvi_uc_sfrcondo_tier_0.33_0.67_sm_sa_month.csv\"\n",
        "df_homes = pd.read_csv(url)"
      ]
    },
    {
      "cell_type": "markdown",
      "id": "4476553a-1f93-4259-87df-69670ef486c0",
      "metadata": {
        "id": "4476553a-1f93-4259-87df-69670ef486c0"
      },
      "source": [
        "**6.** Save the DataFrame, df_homes, to a local CSV file, \"zillow_home_data.csv\".  "
      ]
    },
    {
      "cell_type": "code",
      "execution_count": 7,
      "id": "1d237615-d23c-4f62-a0b8-c709deb95647",
      "metadata": {
        "id": "1d237615-d23c-4f62-a0b8-c709deb95647"
      },
      "outputs": [],
      "source": [
        "df_homes.to_csv(\"zillow_home_data.csv\", index=False)"
      ]
    },
    {
      "cell_type": "markdown",
      "id": "182e0039-63dc-49df-9413-7eede1453fe0",
      "metadata": {
        "id": "182e0039-63dc-49df-9413-7eede1453fe0"
      },
      "source": [
        "**7.** Load zillow_home_data.csv back into a new Dataframe, df_homes_2"
      ]
    },
    {
      "cell_type": "code",
      "execution_count": 8,
      "id": "53665adb-adb2-462f-a244-01665182e870",
      "metadata": {
        "id": "53665adb-adb2-462f-a244-01665182e870"
      },
      "outputs": [],
      "source": [
        "df_homes_2 = pd.read_csv(\"zillow_home_data.csv\")"
      ]
    },
    {
      "cell_type": "markdown",
      "id": "eaaa6d3b-21e6-4e4a-916a-d522f1fd60c6",
      "metadata": {
        "id": "eaaa6d3b-21e6-4e4a-916a-d522f1fd60c6"
      },
      "source": [
        "**8.** Compare the dimensions of the two DataFrames, df_homes and df_homes_2.  Are they equal?  If not, how can you fix it?"
      ]
    },
    {
      "cell_type": "code",
      "execution_count": 12,
      "id": "5c0a7f30-3d6a-4283-9efb-c1dc1d5d7d42",
      "metadata": {
        "id": "5c0a7f30-3d6a-4283-9efb-c1dc1d5d7d42",
        "colab": {
          "base_uri": "https://localhost:8080/"
        },
        "outputId": "00c577c0-c8c2-4723-9e50-cef7d6acea54"
      },
      "outputs": [
        {
          "output_type": "stream",
          "name": "stdout",
          "text": [
            "df_homes: (895, 303)\n",
            "df_homes_2: (895, 303)\n"
          ]
        }
      ],
      "source": [
        "print(\"df_homes:\", df_homes.shape)\n",
        "print(\"df_homes_2:\", df_homes_2.shape)\n",
        "if not df_homes.shape == df_homes_2.shape:\n",
        "  df_homes_2 = pd.read_csv(\"zillow_home_data.csv\")"
      ]
    },
    {
      "cell_type": "markdown",
      "id": "0f34b104-fc3a-492c-964b-45daa12850b0",
      "metadata": {
        "id": "0f34b104-fc3a-492c-964b-45daa12850b0"
      },
      "source": [
        "**9.** A remote spreadsheet showing how a snapshot of how traffic increased for a hypothetical website is available here: https://github.com/CodeSolid/CodeSolid.github.io/raw/main/booksource/data/AnalyticsSnapshot.xlsx. Load the worksheet page of the spreasheet data labelled \"February 2022\" as a DataFrame named \"feb\".  Note: the leftmost column in the spreadsheet is the index column."
      ]
    },
    {
      "cell_type": "code",
      "execution_count": 14,
      "id": "7b8772dd-5d19-4510-a725-80c7273ce61b",
      "metadata": {
        "id": "7b8772dd-5d19-4510-a725-80c7273ce61b",
        "colab": {
          "base_uri": "https://localhost:8080/"
        },
        "outputId": "26632e31-ba5d-4319-c194-82d202ccb141"
      },
      "outputs": [
        {
          "output_type": "stream",
          "name": "stdout",
          "text": [
            "            This Month  Last Month  Month to Month Increase\n",
            "Users             1800         280                 5.428571\n",
            "New Users         1700         298                 4.704698\n",
            "Page Views        2534         436                 4.811927\n"
          ]
        }
      ],
      "source": [
        "url = \"https://github.com/CodeSolid/CodeSolid.github.io/raw/main/booksource/data/AnalyticsSnapshot.xlsx\"\n",
        "feb = pd.read_excel(url, sheet_name=\"February 2022\",index_col=0)\n",
        "print(feb.head())"
      ]
    },
    {
      "cell_type": "markdown",
      "id": "ad366534-b168-490c-a55d-654f3ef44288",
      "metadata": {
        "id": "ad366534-b168-490c-a55d-654f3ef44288"
      },
      "source": [
        "**10.** The \"Month to Month Increase\" column is a bit hard to understand, so ignore it for now.  Given the values for \"This Month\" and \"Last Month\", create a new column, \"Percentage Increase\"."
      ]
    },
    {
      "cell_type": "code",
      "execution_count": 17,
      "id": "d053f773-c9a9-4592-aaaa-660ae8e189e5",
      "metadata": {
        "id": "d053f773-c9a9-4592-aaaa-660ae8e189e5",
        "colab": {
          "base_uri": "https://localhost:8080/"
        },
        "outputId": "04527c2f-1bb9-4d28-fde9-78bc358e5a12"
      },
      "outputs": [
        {
          "output_type": "stream",
          "name": "stdout",
          "text": [
            "            This Month  Last Month  Month to Month Increase  \\\n",
            "Users             1800         280                 5.428571   \n",
            "New Users         1700         298                 4.704698   \n",
            "Page Views        2534         436                 4.811927   \n",
            "\n",
            "            Percentage Increase  \n",
            "Users                542.857143  \n",
            "New Users            470.469799  \n",
            "Page Views           481.192661  \n"
          ]
        }
      ],
      "source": [
        "feb[\"Percentage Increase\"] = ((feb[\"This Month\"] - feb[\"Last Month\"])/feb[\"Last Month\"])*100\n",
        "print(feb.head())"
      ]
    },
    {
      "cell_type": "markdown",
      "id": "8a71222f-2ab4-47bb-806d-2610e25b3a91",
      "metadata": {
        "id": "8a71222f-2ab4-47bb-806d-2610e25b3a91"
      },
      "source": [
        "## Basic Operations on Data"
      ]
    },
    {
      "cell_type": "markdown",
      "id": "0b9cf32b-3132-40cc-a5ca-26d6e6a36e4b",
      "metadata": {
        "id": "0b9cf32b-3132-40cc-a5ca-26d6e6a36e4b"
      },
      "source": [
        "**11.** Using Seaborn, get a dataset about penguins into a dataframe named \"df_penguins\".  Note that because all of the following questions depend on this example, we'll provide the solution here so no one gets stuck:"
      ]
    },
    {
      "cell_type": "code",
      "execution_count": 18,
      "id": "a8b68caf-a998-414a-9de7-899eae7213c7",
      "metadata": {
        "id": "a8b68caf-a998-414a-9de7-899eae7213c7"
      },
      "outputs": [],
      "source": [
        "df_penguins = sb.load_dataset('penguins')"
      ]
    },
    {
      "cell_type": "markdown",
      "id": "f7170135-17bd-45e2-9239-dad647ed6eaf",
      "metadata": {
        "id": "f7170135-17bd-45e2-9239-dad647ed6eaf"
      },
      "source": [
        "**12.** Write the code to show the the number of rows and columns in df_penguins"
      ]
    },
    {
      "cell_type": "code",
      "execution_count": 19,
      "id": "6f565afb-d5f4-462d-b3e5-946bc91bd83e",
      "metadata": {
        "id": "6f565afb-d5f4-462d-b3e5-946bc91bd83e",
        "colab": {
          "base_uri": "https://localhost:8080/"
        },
        "outputId": "e0b18903-4a9e-4832-dc25-b9839f931535"
      },
      "outputs": [
        {
          "output_type": "stream",
          "name": "stdout",
          "text": [
            "(344, 7)\n"
          ]
        }
      ],
      "source": [
        "print(df_penguins.shape)"
      ]
    },
    {
      "cell_type": "markdown",
      "id": "9d3396f3-3fe6-4571-83b2-1e70f8a11513",
      "metadata": {
        "id": "9d3396f3-3fe6-4571-83b2-1e70f8a11513"
      },
      "source": [
        "**13.** How might you show the first few rows of df_penguins?"
      ]
    },
    {
      "cell_type": "code",
      "execution_count": 20,
      "id": "68d5946e-5011-4735-983e-7485f44a60f2",
      "metadata": {
        "id": "68d5946e-5011-4735-983e-7485f44a60f2",
        "colab": {
          "base_uri": "https://localhost:8080/"
        },
        "outputId": "68bd9af1-cc2f-4754-f5c7-abb1a16f6599"
      },
      "outputs": [
        {
          "output_type": "stream",
          "name": "stdout",
          "text": [
            "  species     island  bill_length_mm  bill_depth_mm  flipper_length_mm  \\\n",
            "0  Adelie  Torgersen            39.1           18.7              181.0   \n",
            "1  Adelie  Torgersen            39.5           17.4              186.0   \n",
            "2  Adelie  Torgersen            40.3           18.0              195.0   \n",
            "3  Adelie  Torgersen             NaN            NaN                NaN   \n",
            "4  Adelie  Torgersen            36.7           19.3              193.0   \n",
            "\n",
            "   body_mass_g     sex  \n",
            "0       3750.0    Male  \n",
            "1       3800.0  Female  \n",
            "2       3250.0  Female  \n",
            "3          NaN     NaN  \n",
            "4       3450.0  Female  \n"
          ]
        }
      ],
      "source": [
        "print(df_penguins.head())"
      ]
    },
    {
      "cell_type": "markdown",
      "id": "c841930d-e235-468a-809d-8427f8739076",
      "metadata": {
        "id": "c841930d-e235-468a-809d-8427f8739076"
      },
      "source": [
        "**14.** How can you return the unique species of penguins from df_penguins?  How many unique species are there?"
      ]
    },
    {
      "cell_type": "code",
      "execution_count": 21,
      "id": "130ed9bd-397b-4504-bf26-6b0dc716ba8b",
      "metadata": {
        "id": "130ed9bd-397b-4504-bf26-6b0dc716ba8b",
        "colab": {
          "base_uri": "https://localhost:8080/"
        },
        "outputId": "686d2388-3eaa-4512-98a7-d36109c25bf4"
      },
      "outputs": [
        {
          "output_type": "stream",
          "name": "stdout",
          "text": [
            "Unique species: ['Adelie' 'Chinstrap' 'Gentoo']\n",
            "No. of unique species: 3\n"
          ]
        }
      ],
      "source": [
        "unique_species = df_penguins['species'].unique()\n",
        "num_unique_species = len(unique_species)\n",
        "print(\"Unique species:\", unique_species)\n",
        "print(\"No. of unique species:\", num_unique_species)"
      ]
    },
    {
      "cell_type": "markdown",
      "id": "3912a3df-d931-4d74-a6fa-34ad11f83f94",
      "metadata": {
        "id": "3912a3df-d931-4d74-a6fa-34ad11f83f94"
      },
      "source": [
        "**15.** What function can we use to drop the rows that have missing data?"
      ]
    },
    {
      "cell_type": "code",
      "execution_count": 22,
      "id": "436cf3d3-db4a-42e3-81d3-9f2df28265f1",
      "metadata": {
        "id": "436cf3d3-db4a-42e3-81d3-9f2df28265f1",
        "colab": {
          "base_uri": "https://localhost:8080/"
        },
        "outputId": "f6be046c-0cbe-4df5-bef5-c6e391721e10"
      },
      "outputs": [
        {
          "output_type": "stream",
          "name": "stdout",
          "text": [
            "  species     island  bill_length_mm  bill_depth_mm  flipper_length_mm  \\\n",
            "0  Adelie  Torgersen            39.1           18.7              181.0   \n",
            "1  Adelie  Torgersen            39.5           17.4              186.0   \n",
            "2  Adelie  Torgersen            40.3           18.0              195.0   \n",
            "4  Adelie  Torgersen            36.7           19.3              193.0   \n",
            "5  Adelie  Torgersen            39.3           20.6              190.0   \n",
            "\n",
            "   body_mass_g     sex  \n",
            "0       3750.0    Male  \n",
            "1       3800.0  Female  \n",
            "2       3250.0  Female  \n",
            "4       3450.0  Female  \n",
            "5       3650.0    Male  \n"
          ]
        }
      ],
      "source": [
        "df_penguins_cleaned = df_penguins.dropna()\n",
        "print(df_penguins_cleaned.head())"
      ]
    },
    {
      "cell_type": "markdown",
      "id": "f1feab44-7136-4736-a11c-ee005fdb0698",
      "metadata": {
        "id": "f1feab44-7136-4736-a11c-ee005fdb0698"
      },
      "source": [
        "**16.** By default, will this modify df_penguins or will it return a copy?"
      ]
    },
    {
      "cell_type": "markdown",
      "id": "8b0981bc-d8b1-42a5-9df6-e2723f61013c",
      "metadata": {
        "id": "8b0981bc-d8b1-42a5-9df6-e2723f61013c"
      },
      "source": [
        "By default it will return a copy of df_penguins"
      ]
    },
    {
      "cell_type": "markdown",
      "id": "7f35c024-ac5c-43e0-8ea7-3e03953f644b",
      "metadata": {
        "id": "7f35c024-ac5c-43e0-8ea7-3e03953f644b"
      },
      "source": [
        "**17.** How can we override the default?"
      ]
    },
    {
      "cell_type": "markdown",
      "id": "3f62e100-1000-40df-b21b-6af919fbb945",
      "metadata": {
        "id": "3f62e100-1000-40df-b21b-6af919fbb945"
      },
      "source": [
        "To override this defalut we use inplace=True parameter."
      ]
    },
    {
      "cell_type": "markdown",
      "id": "a17f9c69-c8e2-4331-b9c7-c5be6a13a968",
      "metadata": {
        "id": "a17f9c69-c8e2-4331-b9c7-c5be6a13a968"
      },
      "source": [
        "**18.** Create a new DataFrame, df_penguins_full, with the missing data deleted."
      ]
    },
    {
      "cell_type": "code",
      "execution_count": 23,
      "id": "f160094c-ba0c-4fe1-96f0-d6b23e8162c9",
      "metadata": {
        "id": "f160094c-ba0c-4fe1-96f0-d6b23e8162c9"
      },
      "outputs": [],
      "source": [
        "df_penguins_full = df_penguins.dropna()"
      ]
    },
    {
      "cell_type": "markdown",
      "id": "c34afa01-c0c4-40fa-b3a6-3b7c6abc58e1",
      "metadata": {
        "id": "c34afa01-c0c4-40fa-b3a6-3b7c6abc58e1"
      },
      "source": [
        "**19.** What is the average bill length of a penguin, in millimeters, in this (df_full) data set?"
      ]
    },
    {
      "cell_type": "code",
      "execution_count": 24,
      "id": "6012e669-3c97-4949-be33-3e44daf9534a",
      "metadata": {
        "id": "6012e669-3c97-4949-be33-3e44daf9534a",
        "colab": {
          "base_uri": "https://localhost:8080/"
        },
        "outputId": "2b275961-b1f3-486c-ad6c-3736471a6d59"
      },
      "outputs": [
        {
          "output_type": "stream",
          "name": "stdout",
          "text": [
            "Average bill length of penguin: 43.99279279279279\n"
          ]
        }
      ],
      "source": [
        "avg_bill_len = df_penguins_full['bill_length_mm'].mean()\n",
        "print(\"Average bill length of penguin:\",avg_bill_len)"
      ]
    },
    {
      "cell_type": "markdown",
      "id": "38076367-ae05-4567-8963-12b5e0d77214",
      "metadata": {
        "id": "38076367-ae05-4567-8963-12b5e0d77214"
      },
      "source": [
        "**20.** Which of the following is most strongly correlated with bill length?  a) Body mass?  b) Flipper length?  c) Bill depth?  Show how you arrived at the answer."
      ]
    },
    {
      "cell_type": "markdown",
      "id": "2edbbf08-8f1d-40ea-b137-cdcdbfe02787",
      "metadata": {
        "id": "2edbbf08-8f1d-40ea-b137-cdcdbfe02787"
      },
      "source": []
    },
    {
      "cell_type": "code",
      "execution_count": 25,
      "id": "93840bc0-eda0-48fd-b14d-4405a484c547",
      "metadata": {
        "id": "93840bc0-eda0-48fd-b14d-4405a484c547",
        "colab": {
          "base_uri": "https://localhost:8080/"
        },
        "outputId": "0ed9c32f-7f08-41d1-d8f2-5d6246119fff"
      },
      "outputs": [
        {
          "output_type": "stream",
          "name": "stdout",
          "text": [
            "bill_length_mm       1.000000\n",
            "bill_depth_mm       -0.228626\n",
            "flipper_length_mm    0.653096\n",
            "body_mass_g          0.589451\n",
            "Name: bill_length_mm, dtype: float64\n"
          ]
        }
      ],
      "source": [
        "numeric_df = df_penguins_full.select_dtypes(include=['float64', 'int64'])\n",
        "correlation_matrix = numeric_df.corr()\n",
        "print(correlation_matrix['bill_length_mm'])\n"
      ]
    },
    {
      "cell_type": "markdown",
      "id": "538ed22f-f2c0-46df-bf41-6a27246e356d",
      "metadata": {
        "id": "538ed22f-f2c0-46df-bf41-6a27246e356d"
      },
      "source": [
        "**21.** How could you show the median flipper length, grouped by species?"
      ]
    },
    {
      "cell_type": "code",
      "execution_count": 27,
      "id": "a39321c8-1822-4078-91f9-6f9a36a3bab7",
      "metadata": {
        "id": "a39321c8-1822-4078-91f9-6f9a36a3bab7",
        "colab": {
          "base_uri": "https://localhost:8080/"
        },
        "outputId": "ce0d3ac2-05f4-49f1-a061-a36861230a19"
      },
      "outputs": [
        {
          "output_type": "stream",
          "name": "stdout",
          "text": [
            "species\n",
            "Adelie       190.0\n",
            "Chinstrap    196.0\n",
            "Gentoo       216.0\n",
            "Name: flipper_length_mm, dtype: float64\n"
          ]
        }
      ],
      "source": [
        "median_len = df_penguins_full.groupby('species')['flipper_length_mm'].median()\n",
        "print(median_len)"
      ]
    },
    {
      "cell_type": "markdown",
      "id": "0d6ff0a0-f72b-47a0-a8c5-50cf2e9c8ef4",
      "metadata": {
        "id": "0d6ff0a0-f72b-47a0-a8c5-50cf2e9c8ef4"
      },
      "source": [
        "**22.** Which species has the longest flippers?"
      ]
    },
    {
      "cell_type": "markdown",
      "id": "20f5ec8f-1580-438d-8ddb-ad2eeabed1ba",
      "metadata": {
        "id": "20f5ec8f-1580-438d-8ddb-ad2eeabed1ba"
      },
      "source": [
        "The Gentoo species"
      ]
    },
    {
      "cell_type": "markdown",
      "id": "f50dacfd-a59d-4763-b8bf-004a02d8f05f",
      "metadata": {
        "id": "f50dacfd-a59d-4763-b8bf-004a02d8f05f"
      },
      "source": [
        "**23.** Which two species have the most similar mean weight?  Show how you arrived at the answer."
      ]
    },
    {
      "cell_type": "markdown",
      "id": "be5582aa-447d-4645-85cd-072894fcbb82",
      "metadata": {
        "id": "be5582aa-447d-4645-85cd-072894fcbb82"
      },
      "source": [
        "The two species with the most similar mean body mass are: Adelie and Chinstrap."
      ]
    },
    {
      "cell_type": "code",
      "execution_count": 31,
      "id": "c61f152b-d401-4c28-aea1-014d01100136",
      "metadata": {
        "id": "c61f152b-d401-4c28-aea1-014d01100136",
        "colab": {
          "base_uri": "https://localhost:8080/"
        },
        "outputId": "14e2cae3-78ba-490b-fdc7-7d138d215e2e"
      },
      "outputs": [
        {
          "output_type": "stream",
          "name": "stdout",
          "text": [
            "The two species with the most similar mean body mass are: Adelie and Chinstrap\n"
          ]
        }
      ],
      "source": [
        "mean_weights = df_penguins.groupby('species')['body_mass_g'].mean()\n",
        "mean_weights_array = mean_weights.values\n",
        "mean_weight_diff = mean_weights_array - mean_weights_array[:, None]\n",
        "diff_matrix = np.abs(mean_weight_diff)\n",
        "np.fill_diagonal(diff_matrix, np.inf)\n",
        "min_diff_indices = np.unravel_index(np.argmin(diff_matrix), diff_matrix.shape)\n",
        "species_1 = mean_weights.index[min_diff_indices[0]]\n",
        "species_2 = mean_weights.index[min_diff_indices[1]]\n",
        "species_pair = (mean_weights.index[min_diff_indices[0]], mean_weights.index[min_diff_indices[1]])\n",
        "print(f\"The two species with the most similar mean body mass are: {species_pair[0]} and {species_pair[1]}\")\n"
      ]
    },
    {
      "cell_type": "markdown",
      "id": "ddca88e5-374f-4c8a-bf61-26b70a8b3a90",
      "metadata": {
        "id": "ddca88e5-374f-4c8a-bf61-26b70a8b3a90"
      },
      "source": [
        "**24.** How could you sort the rows by bill length?"
      ]
    },
    {
      "cell_type": "code",
      "execution_count": 32,
      "id": "4faabd67-0417-45ca-b907-7a170f4e9b71",
      "metadata": {
        "id": "4faabd67-0417-45ca-b907-7a170f4e9b71",
        "colab": {
          "base_uri": "https://localhost:8080/"
        },
        "outputId": "4bb19677-308d-4e35-c0b4-d5fc936ddc21"
      },
      "outputs": [
        {
          "output_type": "stream",
          "name": "stdout",
          "text": [
            "       species     island  bill_length_mm  bill_depth_mm  flipper_length_mm  \\\n",
            "142     Adelie      Dream            32.1           15.5              188.0   \n",
            "98      Adelie      Dream            33.1           16.1              178.0   \n",
            "70      Adelie  Torgersen            33.5           19.0              190.0   \n",
            "92      Adelie      Dream            34.0           17.1              185.0   \n",
            "18      Adelie  Torgersen            34.4           18.4              184.0   \n",
            "..         ...        ...             ...            ...                ...   \n",
            "335     Gentoo     Biscoe            55.1           16.0              230.0   \n",
            "215  Chinstrap      Dream            55.8           19.8              207.0   \n",
            "321     Gentoo     Biscoe            55.9           17.0              228.0   \n",
            "169  Chinstrap      Dream            58.0           17.8              181.0   \n",
            "253     Gentoo     Biscoe            59.6           17.0              230.0   \n",
            "\n",
            "     body_mass_g     sex  \n",
            "142       3050.0  Female  \n",
            "98        2900.0  Female  \n",
            "70        3600.0  Female  \n",
            "92        3400.0  Female  \n",
            "18        3325.0  Female  \n",
            "..           ...     ...  \n",
            "335       5850.0    Male  \n",
            "215       4000.0    Male  \n",
            "321       5600.0    Male  \n",
            "169       3700.0  Female  \n",
            "253       6050.0    Male  \n",
            "\n",
            "[333 rows x 7 columns]\n"
          ]
        }
      ],
      "source": [
        "df_sorted = df_penguins_full.sort_values(by='bill_length_mm')\n",
        "print(df_sorted)"
      ]
    },
    {
      "cell_type": "markdown",
      "id": "56d12fe3-805d-4f79-bf83-e515b5070229",
      "metadata": {
        "id": "56d12fe3-805d-4f79-bf83-e515b5070229"
      },
      "source": [
        "**25.** How could you run the same sort in descending order?"
      ]
    },
    {
      "cell_type": "code",
      "execution_count": 33,
      "id": "02544f08-974e-463c-a2da-ac0b3ba3ff0d",
      "metadata": {
        "id": "02544f08-974e-463c-a2da-ac0b3ba3ff0d",
        "colab": {
          "base_uri": "https://localhost:8080/"
        },
        "outputId": "6f36128e-0915-4f31-f89c-6fe54c191a02"
      },
      "outputs": [
        {
          "output_type": "stream",
          "name": "stdout",
          "text": [
            "       species     island  bill_length_mm  bill_depth_mm  flipper_length_mm  \\\n",
            "253     Gentoo     Biscoe            59.6           17.0              230.0   \n",
            "169  Chinstrap      Dream            58.0           17.8              181.0   \n",
            "321     Gentoo     Biscoe            55.9           17.0              228.0   \n",
            "215  Chinstrap      Dream            55.8           19.8              207.0   \n",
            "335     Gentoo     Biscoe            55.1           16.0              230.0   \n",
            "..         ...        ...             ...            ...                ...   \n",
            "18      Adelie  Torgersen            34.4           18.4              184.0   \n",
            "92      Adelie      Dream            34.0           17.1              185.0   \n",
            "70      Adelie  Torgersen            33.5           19.0              190.0   \n",
            "98      Adelie      Dream            33.1           16.1              178.0   \n",
            "142     Adelie      Dream            32.1           15.5              188.0   \n",
            "\n",
            "     body_mass_g     sex  \n",
            "253       6050.0    Male  \n",
            "169       3700.0  Female  \n",
            "321       5600.0    Male  \n",
            "215       4000.0    Male  \n",
            "335       5850.0    Male  \n",
            "..           ...     ...  \n",
            "18        3325.0  Female  \n",
            "92        3400.0  Female  \n",
            "70        3600.0  Female  \n",
            "98        2900.0  Female  \n",
            "142       3050.0  Female  \n",
            "\n",
            "[333 rows x 7 columns]\n"
          ]
        }
      ],
      "source": [
        "df_sorted_dec = df_penguins_full.sort_values(by='bill_length_mm',ascending= False)\n",
        "print(df_sorted_dec)"
      ]
    },
    {
      "cell_type": "markdown",
      "id": "3b69d24f-cd5b-41c9-a4eb-b8325251fe7b",
      "metadata": {
        "id": "3b69d24f-cd5b-41c9-a4eb-b8325251fe7b"
      },
      "source": [
        "**26.** How could you sort by species first, then by body mass?"
      ]
    },
    {
      "cell_type": "code",
      "execution_count": 34,
      "id": "bda80b1d-2773-493f-b13d-7b2fa60e6849",
      "metadata": {
        "id": "bda80b1d-2773-493f-b13d-7b2fa60e6849",
        "colab": {
          "base_uri": "https://localhost:8080/"
        },
        "outputId": "4046474b-a0f7-462a-aaa4-aba15ef3d81e"
      },
      "outputs": [
        {
          "output_type": "stream",
          "name": "stdout",
          "text": [
            "    species     island  bill_length_mm  bill_depth_mm  flipper_length_mm  \\\n",
            "58   Adelie     Biscoe            36.5           16.6              181.0   \n",
            "64   Adelie     Biscoe            36.4           17.1              184.0   \n",
            "54   Adelie     Biscoe            34.5           18.1              187.0   \n",
            "98   Adelie      Dream            33.1           16.1              178.0   \n",
            "116  Adelie  Torgersen            38.6           17.0              188.0   \n",
            "..      ...        ...             ...            ...                ...   \n",
            "331  Gentoo     Biscoe            49.8           15.9              229.0   \n",
            "297  Gentoo     Biscoe            51.1           16.3              220.0   \n",
            "337  Gentoo     Biscoe            48.8           16.2              222.0   \n",
            "253  Gentoo     Biscoe            59.6           17.0              230.0   \n",
            "237  Gentoo     Biscoe            49.2           15.2              221.0   \n",
            "\n",
            "     body_mass_g     sex  \n",
            "58        2850.0  Female  \n",
            "64        2850.0  Female  \n",
            "54        2900.0  Female  \n",
            "98        2900.0  Female  \n",
            "116       2900.0  Female  \n",
            "..           ...     ...  \n",
            "331       5950.0    Male  \n",
            "297       6000.0    Male  \n",
            "337       6000.0    Male  \n",
            "253       6050.0    Male  \n",
            "237       6300.0    Male  \n",
            "\n",
            "[333 rows x 7 columns]\n"
          ]
        }
      ],
      "source": [
        "df_sort = df_penguins_full.sort_values(by=['species','body_mass_g'])\n",
        "print(df_sort)"
      ]
    },
    {
      "cell_type": "markdown",
      "id": "82890e5f-d9f7-4729-a179-b0883f1bc498",
      "metadata": {
        "id": "82890e5f-d9f7-4729-a179-b0883f1bc498"
      },
      "source": [
        "## Selecting Rows, Columns, and Cells\n",
        "\n",
        "Let's look at some precious stones now, and leave the poor penguins alone for a while.  Let's look at some precious stones now, and leave the poor penguins alone for a while.  "
      ]
    },
    {
      "cell_type": "markdown",
      "id": "5d1abb35-5d24-4bd2-89d4-dd9dbbdadccf",
      "metadata": {
        "id": "5d1abb35-5d24-4bd2-89d4-dd9dbbdadccf"
      },
      "source": [
        "**27.** Load the Seaborn \"diamonds\" dataset into a Pandas dataframe named diamonds."
      ]
    },
    {
      "cell_type": "code",
      "execution_count": 35,
      "id": "9247186e-0c21-43d3-88db-79c7f4ecbc06",
      "metadata": {
        "id": "9247186e-0c21-43d3-88db-79c7f4ecbc06"
      },
      "outputs": [],
      "source": [
        "diamonds=sb.load_dataset('diamonds')"
      ]
    },
    {
      "cell_type": "markdown",
      "id": "cbe20f32-5cb2-4191-9994-dbadaf7488dd",
      "metadata": {
        "id": "cbe20f32-5cb2-4191-9994-dbadaf7488dd"
      },
      "source": [
        "**28.** Display the columns that are available."
      ]
    },
    {
      "cell_type": "code",
      "execution_count": 36,
      "id": "c12fd634-2c83-4130-87f3-5580e42ce496",
      "metadata": {
        "id": "c12fd634-2c83-4130-87f3-5580e42ce496",
        "colab": {
          "base_uri": "https://localhost:8080/"
        },
        "outputId": "309c4a7c-0f66-4c97-b73b-a5bc8a8a2640"
      },
      "outputs": [
        {
          "output_type": "stream",
          "name": "stdout",
          "text": [
            "Index(['carat', 'cut', 'color', 'clarity', 'depth', 'table', 'price', 'x', 'y',\n",
            "       'z'],\n",
            "      dtype='object')\n"
          ]
        }
      ],
      "source": [
        "print(diamonds.columns)"
      ]
    },
    {
      "cell_type": "markdown",
      "id": "505b677e-c1bb-4daa-8615-a78ea4860a71",
      "metadata": {
        "id": "505b677e-c1bb-4daa-8615-a78ea4860a71"
      },
      "source": [
        "**29.** If you select a single column from the diamonds DataFrame, what will be the type of the return value?"
      ]
    },
    {
      "cell_type": "markdown",
      "id": "10307c17-e2ad-48ce-b0b9-ddde83b5f6c3",
      "metadata": {
        "id": "10307c17-e2ad-48ce-b0b9-ddde83b5f6c3"
      },
      "source": [
        "If a single column selected the return type will be pandas.core.series.Series"
      ]
    },
    {
      "cell_type": "markdown",
      "id": "5f5d7cae-b784-449d-be28-a1473721b4fa",
      "metadata": {
        "id": "5f5d7cae-b784-449d-be28-a1473721b4fa"
      },
      "source": [
        "**30.** Select the 'table' column and show its type"
      ]
    },
    {
      "cell_type": "code",
      "execution_count": 37,
      "id": "18963cfe-266d-4ca6-9471-b47000c35ee5",
      "metadata": {
        "id": "18963cfe-266d-4ca6-9471-b47000c35ee5",
        "colab": {
          "base_uri": "https://localhost:8080/"
        },
        "outputId": "eb75a635-510c-4c85-86b7-b2eb5e2123bd"
      },
      "outputs": [
        {
          "output_type": "stream",
          "name": "stdout",
          "text": [
            "<class 'pandas.core.series.Series'>\n"
          ]
        }
      ],
      "source": [
        "table_column = diamonds[\"table\"]\n",
        "print(type(table_column))"
      ]
    },
    {
      "cell_type": "markdown",
      "id": "82de5bb4-baed-422e-83a6-d7581ea15ab8",
      "metadata": {
        "id": "82de5bb4-baed-422e-83a6-d7581ea15ab8"
      },
      "source": [
        "**31.** Select the first ten rows of the price and carat columns ten rows of the diamonds DataFrame into a variable called subset, and display them."
      ]
    },
    {
      "cell_type": "code",
      "execution_count": 38,
      "id": "55ccbc17-b267-4ffb-9876-d2192ba2437d",
      "metadata": {
        "id": "55ccbc17-b267-4ffb-9876-d2192ba2437d",
        "colab": {
          "base_uri": "https://localhost:8080/"
        },
        "outputId": "8f3cc1b1-1248-4df6-eaef-048522a2f0f5"
      },
      "outputs": [
        {
          "output_type": "stream",
          "name": "stdout",
          "text": [
            "   price  carat\n",
            "0    326   0.23\n",
            "1    326   0.21\n",
            "2    327   0.23\n",
            "3    334   0.29\n",
            "4    335   0.31\n",
            "5    336   0.24\n",
            "6    336   0.24\n",
            "7    337   0.26\n",
            "8    337   0.22\n",
            "9    338   0.23\n"
          ]
        }
      ],
      "source": [
        "subset = diamonds[[\"price\",\"carat\"]].head(10)\n",
        "print(subset)"
      ]
    },
    {
      "cell_type": "markdown",
      "id": "fdb4c150-ebdc-420d-979b-14231fc4764b",
      "metadata": {
        "id": "fdb4c150-ebdc-420d-979b-14231fc4764b"
      },
      "source": [
        "**32.** For a given column, show the code to display the datatype of the _values_ in the column?  "
      ]
    },
    {
      "cell_type": "code",
      "execution_count": 43,
      "id": "bb6b2d54-e58f-4da4-bcf2-a4d08ee34602",
      "metadata": {
        "id": "bb6b2d54-e58f-4da4-bcf2-a4d08ee34602",
        "colab": {
          "base_uri": "https://localhost:8080/"
        },
        "outputId": "8ae6776a-a666-4eac-a6d5-08b3f1e12331"
      },
      "outputs": [
        {
          "output_type": "stream",
          "name": "stdout",
          "text": [
            "int64 float64\n"
          ]
        }
      ],
      "source": [
        "print(diamonds['price'].dtype, diamonds['carat'].dtype)\n"
      ]
    },
    {
      "cell_type": "markdown",
      "id": "ca510203-8c7e-48a1-81c3-c9e1bc5aa7b1",
      "metadata": {
        "id": "ca510203-8c7e-48a1-81c3-c9e1bc5aa7b1"
      },
      "source": [
        "**33.** Select the first row of the diamonds DataFrame into a variable called row."
      ]
    },
    {
      "cell_type": "code",
      "execution_count": 44,
      "id": "8535dd1a-db9d-49c7-a6b2-0257616d7334",
      "metadata": {
        "id": "8535dd1a-db9d-49c7-a6b2-0257616d7334"
      },
      "outputs": [],
      "source": [
        "row = diamonds.iloc[0]"
      ]
    },
    {
      "cell_type": "markdown",
      "id": "edbd9394-ec43-479c-919a-5eab17acb792",
      "metadata": {
        "id": "edbd9394-ec43-479c-919a-5eab17acb792"
      },
      "source": [
        "**34.** What would you expect the data type of the row to be?  Display it."
      ]
    },
    {
      "cell_type": "markdown",
      "id": "22d7c0bd-cf41-491e-8fc5-41aed540c16e",
      "metadata": {
        "id": "22d7c0bd-cf41-491e-8fc5-41aed540c16e"
      },
      "source": [
        "A Pandas series"
      ]
    },
    {
      "cell_type": "code",
      "execution_count": 45,
      "id": "777274bd-3653-4d0c-b73e-75f879cb48ae",
      "metadata": {
        "id": "777274bd-3653-4d0c-b73e-75f879cb48ae",
        "colab": {
          "base_uri": "https://localhost:8080/"
        },
        "outputId": "fe8fda9e-8793-45da-95ba-1a94e4087fe3"
      },
      "outputs": [
        {
          "output_type": "stream",
          "name": "stdout",
          "text": [
            "<class 'pandas.core.series.Series'>\n"
          ]
        }
      ],
      "source": [
        "print(type(row))"
      ]
    },
    {
      "cell_type": "markdown",
      "id": "f6027d4a-4df5-45c6-bb82-c4ed046c2681",
      "metadata": {
        "id": "f6027d4a-4df5-45c6-bb82-c4ed046c2681"
      },
      "source": [
        "**35.** Can you discover the names of the columns using only the row returned in #33?  Why or why not?Can you discover the names of the columns using only the row returned in #33?  Why or why not?"
      ]
    },
    {
      "cell_type": "markdown",
      "id": "55c063e1-2346-4782-9133-e684c2714fe0",
      "metadata": {
        "id": "55c063e1-2346-4782-9133-e684c2714fe0"
      },
      "source": [
        "Yes, because a row series should have the columns as the index (See below):"
      ]
    },
    {
      "cell_type": "code",
      "execution_count": 46,
      "id": "1a5b9a02-9764-43b7-b49b-4522506e5669",
      "metadata": {
        "id": "1a5b9a02-9764-43b7-b49b-4522506e5669",
        "colab": {
          "base_uri": "https://localhost:8080/"
        },
        "outputId": "f93b04ab-baeb-4f73-c4b0-d50dc26ed16e"
      },
      "outputs": [
        {
          "output_type": "stream",
          "name": "stdout",
          "text": [
            "carat       0.23\n",
            "cut        Ideal\n",
            "color          E\n",
            "clarity      SI2\n",
            "depth       61.5\n",
            "table       55.0\n",
            "price        326\n",
            "x           3.95\n",
            "y           3.98\n",
            "z           2.43\n",
            "Name: 0, dtype: object\n"
          ]
        }
      ],
      "source": [
        "print(row)"
      ]
    },
    {
      "cell_type": "markdown",
      "id": "369f761e-0dbe-4589-835f-526ab8f9884f",
      "metadata": {
        "id": "369f761e-0dbe-4589-835f-526ab8f9884f"
      },
      "source": [
        "**36.** Select the row with the highest priced diamond."
      ]
    },
    {
      "cell_type": "code",
      "execution_count": 47,
      "id": "41f8510d-cf79-43eb-910c-1c03aebc21ba",
      "metadata": {
        "id": "41f8510d-cf79-43eb-910c-1c03aebc21ba",
        "colab": {
          "base_uri": "https://localhost:8080/"
        },
        "outputId": "e36bd4e4-afe6-4d05-cf70-52ed522d7df3"
      },
      "outputs": [
        {
          "output_type": "stream",
          "name": "stdout",
          "text": [
            "carat         2.29\n",
            "cut        Premium\n",
            "color            I\n",
            "clarity        VS2\n",
            "depth         60.8\n",
            "table         60.0\n",
            "price        18823\n",
            "x              8.5\n",
            "y             8.47\n",
            "z             5.16\n",
            "Name: 27749, dtype: object\n"
          ]
        }
      ],
      "source": [
        "h_price_row = diamonds.loc[diamonds['price'].idxmax()]\n",
        "print(h_price_row)"
      ]
    },
    {
      "cell_type": "markdown",
      "id": "2694d362-a5d1-4ad9-8b09-f408d7531948",
      "metadata": {
        "id": "2694d362-a5d1-4ad9-8b09-f408d7531948"
      },
      "source": [
        "**37.** Select the row with the lowest priced diamond."
      ]
    },
    {
      "cell_type": "code",
      "execution_count": 48,
      "id": "b6559ffa-fbb6-4ce9-b882-5bccbf5403e4",
      "metadata": {
        "id": "b6559ffa-fbb6-4ce9-b882-5bccbf5403e4",
        "colab": {
          "base_uri": "https://localhost:8080/"
        },
        "outputId": "062cc361-52ab-4219-99f7-b7d0daa0498e"
      },
      "outputs": [
        {
          "output_type": "stream",
          "name": "stdout",
          "text": [
            "carat       0.23\n",
            "cut        Ideal\n",
            "color          E\n",
            "clarity      SI2\n",
            "depth       61.5\n",
            "table       55.0\n",
            "price        326\n",
            "x           3.95\n",
            "y           3.98\n",
            "z           2.43\n",
            "Name: 0, dtype: object\n"
          ]
        }
      ],
      "source": [
        "l_price_row = diamonds.loc[diamonds['price'].idxmin()]\n",
        "print(l_price_row)"
      ]
    },
    {
      "cell_type": "markdown",
      "id": "e366af69-1739-48c5-b964-298fa294bc7a",
      "metadata": {
        "id": "e366af69-1739-48c5-b964-298fa294bc7a"
      },
      "source": [
        "## Some Exercises Using Time Series"
      ]
    },
    {
      "cell_type": "markdown",
      "id": "ca92f2e5-c4f3-460e-b3b1-0d6bff4694ff",
      "metadata": {
        "id": "ca92f2e5-c4f3-460e-b3b1-0d6bff4694ff"
      },
      "source": [
        "**38.** Load the taxis dataset into a DataFrame, ```taxis```."
      ]
    },
    {
      "cell_type": "code",
      "execution_count": 49,
      "id": "5bb6dee5-3828-4a80-8a35-98397639e5db",
      "metadata": {
        "id": "5bb6dee5-3828-4a80-8a35-98397639e5db"
      },
      "outputs": [],
      "source": [
        "taxis = sb.load_dataset(\"taxis\")"
      ]
    },
    {
      "cell_type": "markdown",
      "id": "06ef6738-b5fb-4341-8ced-15f02ee5aad6",
      "metadata": {
        "id": "06ef6738-b5fb-4341-8ced-15f02ee5aad6"
      },
      "source": [
        "**39.** The 'pickup' column contains the date and time the customer picked up, but it's a string.  Add a column to the DataFrame, 'pickup_time', containing the value in 'pickup' as a DateTime."
      ]
    },
    {
      "cell_type": "code",
      "execution_count": 51,
      "id": "a857614a-ada0-43c5-9ba0-6e00422bf518",
      "metadata": {
        "id": "a857614a-ada0-43c5-9ba0-6e00422bf518"
      },
      "outputs": [],
      "source": [
        "taxis[\"pickup_time\"] = pd.to_datetime(taxis[\"pickup\"])"
      ]
    },
    {
      "cell_type": "markdown",
      "id": "d2aca5a0-b67d-4c2b-928f-49a0df783a4a",
      "metadata": {
        "id": "d2aca5a0-b67d-4c2b-928f-49a0df783a4a"
      },
      "source": [
        "**40.** We have a hypothesis that as the day goes on, the tips get higher.  We'll need to wrangle the data a bit before testing this, however.  First, now that we have a datetime column, pickup_time, create a subset of it to create a new DataFrame, taxis_one_day. This new DataFrame should have values between '2019-03-23 00:06:00' (inclusive) and '2019-03-24 00:00:00' (exlusive)."
      ]
    },
    {
      "cell_type": "code",
      "execution_count": 53,
      "id": "4c92be8d-ee1a-452d-84e9-64617cbcd850",
      "metadata": {
        "id": "4c92be8d-ee1a-452d-84e9-64617cbcd850",
        "colab": {
          "base_uri": "https://localhost:8080/"
        },
        "outputId": "4be76c87-3f2e-41e2-86d7-215781699d0c"
      },
      "outputs": [
        {
          "output_type": "stream",
          "name": "stdout",
          "text": [
            "                 pickup             dropoff  passengers  distance  fare   tip  \\\n",
            "0   2019-03-23 20:21:09 2019-03-23 20:27:24           1      1.60   7.0  2.15   \n",
            "8   2019-03-23 11:48:50 2019-03-23 12:06:14           1      3.63  15.0  1.00   \n",
            "17  2019-03-23 20:50:49 2019-03-23 21:02:07           1      2.60  10.5  2.00   \n",
            "117 2019-03-23 09:39:25 2019-03-23 09:56:45           0      3.60  15.5  3.75   \n",
            "144 2019-03-23 18:35:01 2019-03-23 18:47:39           1      3.20  12.5  2.00   \n",
            "\n",
            "     tolls  total   color      payment          pickup_zone  \\\n",
            "0      0.0  12.95  yellow  credit card      Lenox Hill West   \n",
            "8      0.0  19.30  yellow  credit card    East Harlem South   \n",
            "17     0.0  16.30  yellow  credit card       Midtown Center   \n",
            "117    0.0  22.55  yellow  credit card       Yorkville East   \n",
            "144    0.0  17.80  yellow  credit card  UN/Turtle Bay South   \n",
            "\n",
            "                     dropoff_zone pickup_borough dropoff_borough  \\\n",
            "0             UN/Turtle Bay South      Manhattan       Manhattan   \n",
            "8                  Midtown Center      Manhattan       Manhattan   \n",
            "17              East Harlem South      Manhattan       Manhattan   \n",
            "117  Penn Station/Madison Sq West      Manhattan       Manhattan   \n",
            "144                  East Village      Manhattan       Manhattan   \n",
            "\n",
            "            pickup_time  \n",
            "0   2019-03-23 20:21:09  \n",
            "8   2019-03-23 11:48:50  \n",
            "17  2019-03-23 20:50:49  \n",
            "117 2019-03-23 09:39:25  \n",
            "144 2019-03-23 18:35:01  \n"
          ]
        }
      ],
      "source": [
        "taxis_one_day = taxis[(taxis['pickup_time']>='2019-03-23 00:06:00') &\n",
        "                      (taxis['pickup_time']<'2019-03-24 00:00:00')]\n",
        "print(taxis_one_day.head())"
      ]
    },
    {
      "cell_type": "markdown",
      "id": "14b66e0e-762c-433c-9041-e40cf624eaa5",
      "metadata": {
        "id": "14b66e0e-762c-433c-9041-e40cf624eaa5"
      },
      "source": [
        "**41.** We now have a range from morning until midnight, but we to take the mean of the numeric columns, grouped at one hour intervals.  Save the result as df_means, and display it."
      ]
    },
    {
      "cell_type": "code",
      "execution_count": 60,
      "id": "baca4e69-dc2d-492e-918b-c15d7d560b4b",
      "metadata": {
        "id": "baca4e69-dc2d-492e-918b-c15d7d560b4b",
        "colab": {
          "base_uri": "https://localhost:8080/"
        },
        "outputId": "effe5730-0e85-4eaa-faaa-af11e6636fbd"
      },
      "outputs": [
        {
          "output_type": "stream",
          "name": "stdout",
          "text": [
            "                     passengers  distance       fare       tip     tolls  \\\n",
            "pickup_time                                                                \n",
            "2019-03-23 00:00:00    1.000000  1.911667   8.583333  1.415000  0.000000   \n",
            "2019-03-23 01:00:00    1.250000  1.325000   7.875000  1.525000  0.000000   \n",
            "2019-03-23 02:00:00    1.727273  1.739091   8.181818  1.641818  0.000000   \n",
            "2019-03-23 03:00:00    1.500000  3.377500  11.750000  2.410000  0.000000   \n",
            "2019-03-23 04:00:00    2.000000  0.950000   5.500000  0.915000  0.000000   \n",
            "2019-03-23 05:00:00    2.000000  1.270000   6.000000  0.980000  0.000000   \n",
            "2019-03-23 06:00:00    1.000000  0.400000  21.500000  0.000000  0.000000   \n",
            "2019-03-23 07:00:00    2.333333  0.980000   5.250000  1.165000  0.000000   \n",
            "2019-03-23 08:00:00    1.000000  0.020000   2.500000  0.000000  0.000000   \n",
            "2019-03-23 09:00:00    1.500000  1.352000   7.400000  1.674000  0.000000   \n",
            "2019-03-23 10:00:00    1.000000  1.760000   8.750000  0.727500  0.000000   \n",
            "2019-03-23 11:00:00    1.909091  2.070000  11.090909  0.803636  0.000000   \n",
            "2019-03-23 12:00:00    2.000000  2.267143  10.260000  0.645714  0.000000   \n",
            "2019-03-23 13:00:00    2.500000  1.167000   7.550000  2.074000  0.000000   \n",
            "2019-03-23 14:00:00    2.470588  4.752941  18.330000  1.945294  1.003529   \n",
            "2019-03-23 15:00:00    1.000000  6.557143  22.214286  3.210000  1.645714   \n",
            "2019-03-23 16:00:00    2.000000  2.194545  10.454545  1.109091  0.000000   \n",
            "2019-03-23 17:00:00    1.090909  1.913636  14.818182  2.688182  0.523636   \n",
            "2019-03-23 18:00:00    1.571429  3.206429  12.821429  0.844286  0.411429   \n",
            "2019-03-23 19:00:00    1.526316  2.097895  10.263158  1.176316  0.000000   \n",
            "2019-03-23 20:00:00    1.400000  2.448000  11.100000  1.544000  0.000000   \n",
            "2019-03-23 21:00:00    1.000000  2.017143  10.571429  1.420000  0.000000   \n",
            "2019-03-23 22:00:00    1.307692  1.881538   8.923077  1.094615  0.000000   \n",
            "2019-03-23 23:00:00    1.615385  3.725385  15.115385  1.696154  0.000000   \n",
            "\n",
            "                         total  \n",
            "pickup_time                     \n",
            "2019-03-23 00:00:00  12.965000  \n",
            "2019-03-23 01:00:00  12.575000  \n",
            "2019-03-23 02:00:00  13.169091  \n",
            "2019-03-23 03:00:00  17.335000  \n",
            "2019-03-23 04:00:00  10.215000  \n",
            "2019-03-23 05:00:00  10.530000  \n",
            "2019-03-23 06:00:00  23.133333  \n",
            "2019-03-23 07:00:00   9.298333  \n",
            "2019-03-23 08:00:00   3.300000  \n",
            "2019-03-23 09:00:00  12.124000  \n",
            "2019-03-23 10:00:00  12.152500  \n",
            "2019-03-23 11:00:00  14.667273  \n",
            "2019-03-23 12:00:00  13.420000  \n",
            "2019-03-23 13:00:00  12.344000  \n",
            "2019-03-23 14:00:00  24.267059  \n",
            "2019-03-23 15:00:00  30.370000  \n",
            "2019-03-23 16:00:00  14.431818  \n",
            "2019-03-23 17:00:00  20.739091  \n",
            "2019-03-23 18:00:00  16.427143  \n",
            "2019-03-23 19:00:00  14.226316  \n",
            "2019-03-23 20:00:00  15.944000  \n",
            "2019-03-23 21:00:00  15.791429  \n",
            "2019-03-23 22:00:00  13.433077  \n",
            "2019-03-23 23:00:00  20.034615  \n"
          ]
        }
      ],
      "source": [
        "taxis[\"pickup_time\"] = pd.to_datetime(taxis[\"pickup\"])\n",
        "taxis_one_day = taxis[(taxis['pickup_time']>='2019-03-23 00:06:00') &\n",
        "                      (taxis['pickup_time']<'2019-03-24 00:00:00')]\n",
        "taxis_one_day.set_index('pickup_time', inplace=True)\n",
        "numeric_columns = taxis_one_day.select_dtypes(include='number')\n",
        "df_means = numeric_columns.resample('h').mean()\n",
        "print(df_means)\n"
      ]
    },
    {
      "cell_type": "markdown",
      "id": "601743a0-8e97-46f3-8c46-6681353d374c",
      "metadata": {
        "id": "601743a0-8e97-46f3-8c46-6681353d374c"
      },
      "source": [
        "**42.** Create a simple line plot of the value \"distance\".  "
      ]
    },
    {
      "cell_type": "code",
      "execution_count": 61,
      "id": "d270aaf8-b52e-4d1f-8373-3ce72f9d4a81",
      "metadata": {
        "id": "d270aaf8-b52e-4d1f-8373-3ce72f9d4a81",
        "colab": {
          "base_uri": "https://localhost:8080/",
          "height": 564
        },
        "outputId": "7d5d70b4-11be-4f55-f3c1-a1b940d1332a"
      },
      "outputs": [
        {
          "output_type": "display_data",
          "data": {
            "text/plain": [
              "<Figure size 1000x600 with 1 Axes>"
            ],
            "image/png": "[encoded data removed]"
          },
          "metadata": {}
        }
      ],
      "source": [
        "import matplotlib.pyplot as plt\n",
        "plt.figure(figsize=(10, 6))\n",
        "plt.plot(taxis_one_day['distance'], label='Distance')\n",
        "\n",
        "plt.xlabel('Index')\n",
        "plt.ylabel('Distance')\n",
        "plt.title('Distance Line Plot')\n",
        "\n",
        "plt.legend()\n",
        "plt.show()"
      ]
    },
    {
      "cell_type": "markdown",
      "id": "deba998f-24b1-4fc3-93e6-807955ba111b",
      "metadata": {
        "id": "deba998f-24b1-4fc3-93e6-807955ba111b"
      },
      "source": [
        "**43.** Overall, do riders travel further or less far as the day progresses?"
      ]
    },
    {
      "cell_type": "markdown",
      "id": "4b69ad07-bd6c-4ef8-8caa-ec0b5b4a2b21",
      "metadata": {
        "id": "4b69ad07-bd6c-4ef8-8caa-ec0b5b4a2b21"
      },
      "source": [
        "As ths day progresses there is a noticable increase during afternoon which again decreases as day progress further."
      ]
    },
    {
      "cell_type": "markdown",
      "id": "3c1784d1-e66d-40c7-87d1-a5a4bc7dd43b",
      "metadata": {
        "id": "3c1784d1-e66d-40c7-87d1-a5a4bc7dd43b"
      },
      "source": [
        "**44.** Create a new column in taxis_means, ```tip_in_percent```.  The source columns for this should be \"fare\" and \"tip\""
      ]
    },
    {
      "cell_type": "code",
      "execution_count": 64,
      "id": "014637ae-70f7-4289-8077-5264bf46daab",
      "metadata": {
        "id": "014637ae-70f7-4289-8077-5264bf46daab",
        "colab": {
          "base_uri": "https://localhost:8080/"
        },
        "outputId": "990f4e57-38fa-4b77-d323-048abf969f5e"
      },
      "outputs": [
        {
          "output_type": "stream",
          "name": "stdout",
          "text": [
            "                     passengers  distance       fare       tip  tolls  \\\n",
            "pickup_time                                                             \n",
            "2019-03-23 00:00:00    1.000000  1.911667   8.583333  1.415000    0.0   \n",
            "2019-03-23 01:00:00    1.250000  1.325000   7.875000  1.525000    0.0   \n",
            "2019-03-23 02:00:00    1.727273  1.739091   8.181818  1.641818    0.0   \n",
            "2019-03-23 03:00:00    1.500000  3.377500  11.750000  2.410000    0.0   \n",
            "2019-03-23 04:00:00    2.000000  0.950000   5.500000  0.915000    0.0   \n",
            "\n",
            "                         total  tip_in_percent  \n",
            "pickup_time                                     \n",
            "2019-03-23 00:00:00  12.965000       16.485437  \n",
            "2019-03-23 01:00:00  12.575000       19.365079  \n",
            "2019-03-23 02:00:00  13.169091       20.066667  \n",
            "2019-03-23 03:00:00  17.335000       20.510638  \n",
            "2019-03-23 04:00:00  10.215000       16.636364  \n"
          ]
        }
      ],
      "source": [
        "taxis_means = numeric_columns.resample('h').mean()\n",
        "taxis_means['tip_in_percent'] = (taxis_means['tip'] / taxis_means['fare']) * 100\n",
        "print(taxis_means.head())"
      ]
    },
    {
      "cell_type": "markdown",
      "id": "15be5b49-d465-48a7-9b3b-6d58291752d9",
      "metadata": {
        "id": "15be5b49-d465-48a7-9b3b-6d58291752d9"
      },
      "source": [
        "**45.** Create a new column, time_interval, as a range of integer values beginning with zero."
      ]
    },
    {
      "cell_type": "code",
      "execution_count": 66,
      "id": "bcc2dca5-7682-4e55-b218-e94006071ebd",
      "metadata": {
        "id": "bcc2dca5-7682-4e55-b218-e94006071ebd",
        "colab": {
          "base_uri": "https://localhost:8080/"
        },
        "outputId": "77f5fb02-c735-4d73-c7ff-71e64eccba20"
      },
      "outputs": [
        {
          "output_type": "stream",
          "name": "stdout",
          "text": [
            "                     passengers  distance       fare       tip  tolls  \\\n",
            "pickup_time                                                             \n",
            "2019-03-23 00:00:00    1.000000  1.911667   8.583333  1.415000    0.0   \n",
            "2019-03-23 01:00:00    1.250000  1.325000   7.875000  1.525000    0.0   \n",
            "2019-03-23 02:00:00    1.727273  1.739091   8.181818  1.641818    0.0   \n",
            "2019-03-23 03:00:00    1.500000  3.377500  11.750000  2.410000    0.0   \n",
            "2019-03-23 04:00:00    2.000000  0.950000   5.500000  0.915000    0.0   \n",
            "\n",
            "                         total  tip_in_percent  time_interval  \n",
            "pickup_time                                                    \n",
            "2019-03-23 00:00:00  12.965000       16.485437              0  \n",
            "2019-03-23 01:00:00  12.575000       19.365079              1  \n",
            "2019-03-23 02:00:00  13.169091       20.066667              2  \n",
            "2019-03-23 03:00:00  17.335000       20.510638              3  \n",
            "2019-03-23 04:00:00  10.215000       16.636364              4  \n"
          ]
        }
      ],
      "source": [
        "taxis_means[\"time_interval\"]=range(len(taxis_means))\n",
        "print(taxis_means.head())"
      ]
    },
    {
      "cell_type": "markdown",
      "id": "269b329e-cade-4e54-9ed8-ce5d23006750",
      "metadata": {
        "id": "269b329e-cade-4e54-9ed8-ce5d23006750"
      },
      "source": [
        "Display the correlations between the following pairs of values:\n",
        "1. tip_in_percent and distance.\n",
        "1. tip_in_percent and passengers.\n",
        "1. tip_in_percent and time_interval."
      ]
    },
    {
      "cell_type": "code",
      "execution_count": 67,
      "id": "7003165a-2e86-46fa-9b0c-bb1e9dab4afd",
      "metadata": {
        "id": "7003165a-2e86-46fa-9b0c-bb1e9dab4afd",
        "colab": {
          "base_uri": "https://localhost:8080/"
        },
        "outputId": "85cdb315-961c-4550-ecfa-bf1a83ff700b"
      },
      "outputs": [
        {
          "output_type": "stream",
          "name": "stdout",
          "text": [
            "Correlation between tip_in_percent and distance: 0.00953302789086911\n",
            "Correlation between tip_in_percent and passengers: 0.32623184018268747\n",
            "Correlation between tip_in_percent and time_interval: -0.23239795213315184\n"
          ]
        }
      ],
      "source": [
        "correlation_tip_distance = taxis_means['tip_in_percent'].corr(taxis_means['distance'])\n",
        "correlation_tip_passengers = taxis_means['tip_in_percent'].corr(taxis_means['passengers'])\n",
        "correlation_tip_time_interval = taxis_means['tip_in_percent'].corr(taxis_means['time_interval'])\n",
        "\n",
        "print(f\"Correlation between tip_in_percent and distance: {correlation_tip_distance}\")\n",
        "print(f\"Correlation between tip_in_percent and passengers: {correlation_tip_passengers}\")\n",
        "print(f\"Correlation between tip_in_percent and time_interval: {correlation_tip_time_interval}\")"
      ]
    },
    {
      "cell_type": "markdown",
      "id": "934d0379-8d2c-4579-af88-fafffdb58767",
      "metadata": {
        "id": "934d0379-8d2c-4579-af88-fafffdb58767"
      },
      "source": [
        "**47.** Admittedly, the size of the data set is fairly small given how we've subsetted it.  But based on the values in #45, which of the three pairs show the strongest correlation."
      ]
    },
    {
      "cell_type": "markdown",
      "id": "04dfb838-f8de-4e79-8076-12ef0c187fc4",
      "metadata": {
        "id": "04dfb838-f8de-4e79-8076-12ef0c187fc4"
      },
      "source": [
        "The pair which show the strongest correlation is tip_in_percent and passengers."
      ]
    },
    {
      "cell_type": "markdown",
      "id": "279a9e91-2488-4e53-8234-ddde076fbe30",
      "metadata": {
        "id": "279a9e91-2488-4e53-8234-ddde076fbe30"
      },
      "source": [
        "**48.** Did our hypothesis that people tip more as the day goes on turn out to be warranted?"
      ]
    },
    {
      "cell_type": "markdown",
      "id": "6aaf603f-5099-457c-99eb-bf8370583a0c",
      "metadata": {
        "id": "6aaf603f-5099-457c-99eb-bf8370583a0c"
      },
      "source": [
        "Since the correlation between tip_in_percent and time_interval is negative shows that our hypothesis that people tip more as the days goes is false, the tip percentage slightly decreases."
      ]
    },
    {
      "cell_type": "code",
      "execution_count": null,
      "id": "c885f77c-db5c-462b-8231-663e56f7f497",
      "metadata": {
        "id": "c885f77c-db5c-462b-8231-663e56f7f497"
      },
      "outputs": [],
      "source": []
    }
  ],
  "metadata": {
    "kernelspec": {
      "display_name": "Python 3 (ipykernel)",
      "language": "python",
      "name": "python3"
    },
    "language_info": {
      "codemirror_mode": {
        "name": "ipython",
        "version": 3
      },
      "file_extension": ".py",
      "mimetype": "text/x-python",
      "name": "python",
      "nbconvert_exporter": "python",
      "pygments_lexer": "ipython3",
      "version": "3.10.2"
    },
    "colab": {
      "provenance": []
    }
  },
  "nbformat": 4,
  "nbformat_minor": 5
}